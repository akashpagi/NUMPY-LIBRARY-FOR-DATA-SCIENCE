{
 "cells": [
  {
   "cell_type": "markdown",
   "id": "039dcd93",
   "metadata": {},
   "source": [
    "### SESSION 15 - NumPy Tricks"
   ]
  },
  {
   "cell_type": "markdown",
   "id": "bc827f0f",
   "metadata": {},
   "source": [
    "**np.sort() function:**\n",
    "- Return a sorted copy of an array.\n",
    "- https://numpy.org/doc/stable/reference/generated/numpy.sort.html"
   ]
  },
  {
   "cell_type": "code",
   "execution_count": 1,
   "id": "02c0e879",
   "metadata": {},
   "outputs": [
    {
     "name": "stdout",
     "output_type": "stream",
     "text": [
      "[17  4  2  8  3 12  6  1 13  7  7  9 18 10 13]\n",
      "[[ 5  2 15  7]\n",
      " [11  9  1 14]\n",
      " [16 15  8  8]\n",
      " [ 5 11 10  3]\n",
      " [ 1 19  1  4]]\n"
     ]
    }
   ],
   "source": [
    "import numpy as np\n",
    "a = np.random.randint(1,20,size=15)\n",
    "print(a)\n",
    "b = np.random.randint(1,20,20).reshape(5,4)\n",
    "print(b)"
   ]
  },
  {
   "cell_type": "code",
   "execution_count": 2,
   "id": "faaf4481",
   "metadata": {},
   "outputs": [
    {
     "name": "stdout",
     "output_type": "stream",
     "text": [
      "a: [ 1  2  3  4  6  7  7  8  9 10 12 13 13 17 18]\n",
      "d: [18 17 13 13 12 10  9  8  7  7  6  4  3  2  1]\n"
     ]
    }
   ],
   "source": [
    "# ascending order(default)\n",
    "asc = np.sort(a)\n",
    "print(\"a:\",asc)\n",
    "# desending order\n",
    "des = np.sort(a)[::-1]\n",
    "print(\"d:\",des) "
   ]
  },
  {
   "cell_type": "code",
   "execution_count": 3,
   "id": "ca3e36c8",
   "metadata": {},
   "outputs": [
    {
     "name": "stdout",
     "output_type": "stream",
     "text": [
      "column-wise sort :\n",
      "[[ 1  2  1  3]\n",
      " [ 5  9  1  4]\n",
      " [ 5 11  8  7]\n",
      " [11 15 10  8]\n",
      " [16 19 15 14]] \n",
      "\n",
      "row-wise sort :\n",
      "[[ 2  5  7 15]\n",
      " [ 1  9 11 14]\n",
      " [ 8  8 15 16]\n",
      " [ 3  5 10 11]\n",
      " [ 1  1  4 19]]\n"
     ]
    }
   ],
   "source": [
    "c = np.sort(b, axis=0) # column-wise sort\n",
    "r = np.sort(b, axis=-1) # row-wise sort\n",
    "print('column-wise sort :')\n",
    "print(c,'\\n')\n",
    "print('row-wise sort :')\n",
    "print(r)"
   ]
  },
  {
   "cell_type": "markdown",
   "id": "9d830a31",
   "metadata": {},
   "source": [
    "**np.append :**\n",
    "- The numpy.append() appends values along the mentioned axis at the end of the array\n",
    "- https://numpy.org/doc/stable/reference/generated/numpy.append.html"
   ]
  },
  {
   "cell_type": "code",
   "execution_count": 4,
   "id": "b90bc091",
   "metadata": {},
   "outputs": [
    {
     "name": "stdout",
     "output_type": "stream",
     "text": [
      "[13 11  6  2 11 10  5 13  5 16 14 12 10  1  1]\n",
      "[[10 10 12 14]\n",
      " [10 16  8 19]\n",
      " [14 14 14 14]\n",
      " [11 14  5 17]\n",
      " [19  9 13 17]] \n",
      "\n",
      "[ 13  11   6   2  11  10   5  13   5  16  14  12  10   1   1 200]\n",
      "[[10. 10. 12. 14.  1.]\n",
      " [10. 16.  8. 19.  1.]\n",
      " [14. 14. 14. 14.  1.]\n",
      " [11. 14.  5. 17.  1.]\n",
      " [19.  9. 13. 17.  1.]]\n"
     ]
    }
   ],
   "source": [
    "import numpy as np\n",
    "arr = np.random.randint(1,20,size=15)\n",
    "print(arr)\n",
    "arr1 = np.random.randint(1,20,20).reshape(5,4)\n",
    "print(arr1,'\\n')\n",
    "# Append elements in existing 1D array\n",
    "append = np.append(arr,200)\n",
    "print(append)\n",
    "# Append column in 2D array\n",
    "app = np.append(arr1,np.ones((arr1.shape[0],1)),axis=1)\n",
    "print(app)"
   ]
  },
  {
   "cell_type": "markdown",
   "id": "3a6e64e4",
   "metadata": {},
   "source": [
    "**np.concatenate:**\n",
    "- numpy.concatenate() function concatenate a sequence of arrays along an existing axis.\n",
    "- https://numpy.org/doc/stable/reference/generated/numpy.concatenate.html"
   ]
  },
  {
   "cell_type": "code",
   "execution_count": 5,
   "id": "ab1e736d",
   "metadata": {},
   "outputs": [
    {
     "name": "stdout",
     "output_type": "stream",
     "text": [
      "[[0 1 2]\n",
      " [3 4 5]]\n",
      "[[ 6  7  8]\n",
      " [ 9 10 11]]\n"
     ]
    }
   ],
   "source": [
    "import numpy as np\n",
    "c = np.arange(6).reshape(2,3)\n",
    "d = np.arange(6,12).reshape(2,3)\n",
    "print(c)\n",
    "print(d)"
   ]
  },
  {
   "cell_type": "code",
   "execution_count": 6,
   "id": "ab821189",
   "metadata": {},
   "outputs": [
    {
     "name": "stdout",
     "output_type": "stream",
     "text": [
      "[[ 0  1  2]\n",
      " [ 3  4  5]\n",
      " [ 6  7  8]\n",
      " [ 9 10 11]]\n"
     ]
    }
   ],
   "source": [
    "# default concatenate row wise\n",
    "cc = np.concatenate((c,d),axis=0)\n",
    "print(cc)"
   ]
  },
  {
   "cell_type": "code",
   "execution_count": 7,
   "id": "2030fa08",
   "metadata": {},
   "outputs": [
    {
     "name": "stdout",
     "output_type": "stream",
     "text": [
      "[[ 0  1  2  6  7  8]\n",
      " [ 3  4  5  9 10 11]]\n"
     ]
    }
   ],
   "source": [
    "# concatenate column wise\n",
    "cc = np.concatenate((c,d),axis=1)\n",
    "print(cc)"
   ]
  },
  {
   "cell_type": "markdown",
   "id": "94b2af71",
   "metadata": {},
   "source": [
    "**np.unique :**\n",
    "- With the help of np.unique() method, we can get the unique values from an array given as parameter in np.unique() method.\n",
    "- For example, consider a scenario where a single student registers for multiple courses. In this case, we aim to identify the unique users who have purchased the courses to ensure their usefulness. - https://numpy.org/doc/stable/reference/generated/numpy.unique.html/"
   ]
  },
  {
   "cell_type": "code",
   "execution_count": 8,
   "id": "ea203db5",
   "metadata": {
    "scrolled": true
   },
   "outputs": [
    {
     "name": "stdout",
     "output_type": "stream",
     "text": [
      "elements : [1 2 3 3 4 4 5 5 6 6]\n",
      "Unique Values : [1 2 3 4 5 6]\n"
     ]
    }
   ],
   "source": [
    "import numpy as np\n",
    "uni = np.array([1,2,3,3,4,4,5,5,6,6])\n",
    "print(\"elements :\",uni)\n",
    "print('Unique Values :',np.unique(uni))"
   ]
  },
  {
   "cell_type": "markdown",
   "id": "70b06505",
   "metadata": {},
   "source": [
    "**np.expand_dims :**\n",
    "- With the help of Numpy.expand_dims() method, we can get the expanded dimensions of an array.\n",
    "- means 1D to 2D convertion or 3d to 4D conversion.\n",
    "- https://numpy.org/doc/stable/reference/generated/numpy.expand_dims.html"
   ]
  },
  {
   "cell_type": "code",
   "execution_count": 9,
   "id": "8b10d8c0",
   "metadata": {},
   "outputs": [
    {
     "name": "stdout",
     "output_type": "stream",
     "text": [
      "1D array : [1 4 5 6 6]\n",
      "1D array shape (5,)\n",
      "2D : [[1 4 5 6 6]]\n",
      "2D array shape: (1, 5)\n"
     ]
    }
   ],
   "source": [
    "import numpy as np\n",
    "arr = np.array([1,4,5,6,6])\n",
    "print(\"1D array :\",arr)\n",
    "print('1D array shape', arr.shape)\n",
    "# Expand the dimension of 1D array with column-wise\n",
    "r = np.expand_dims(arr,axis=0)\n",
    "print('2D :',r) \n",
    "print('2D array shape:',r.shape)"
   ]
  },
  {
   "cell_type": "code",
   "execution_count": 10,
   "id": "a6a861ea",
   "metadata": {},
   "outputs": [
    {
     "name": "stdout",
     "output_type": "stream",
     "text": [
      "[[1]\n",
      " [4]\n",
      " [5]\n",
      " [6]\n",
      " [6]]\n",
      "2D array shape: (15,)\n"
     ]
    }
   ],
   "source": [
    "# axis 1 is row-wise\n",
    "print(np.expand_dims(arr,axis=1))\n",
    "print('2D array shape:',a.shape)"
   ]
  },
  {
   "cell_type": "markdown",
   "id": "c99dc4d1",
   "metadata": {},
   "source": [
    "**np.where :**\n",
    "- The numpy.where() function returns the indices of elements in an input array where the given condition is satisfied.\n",
    "- https://numpy.org/doc/stable/reference/generated/numpy.where.html"
   ]
  },
  {
   "cell_type": "code",
   "execution_count": 11,
   "id": "91c804cb",
   "metadata": {},
   "outputs": [
    {
     "name": "stdout",
     "output_type": "stream",
     "text": [
      "array : [1 2 3 3 4 4 5 5 6 6]\n",
      "(array([6, 7, 8, 9], dtype=int64),)\n",
      "[0 0 0 0 0 0 5 5 6 6]\n"
     ]
    }
   ],
   "source": [
    "import numpy as np\n",
    "arr = np.array([1,2,3,3,4,4,5,5,6,6])\n",
    "print(\"array :\",arr)\n",
    "\n",
    "# Ex.Find all indices with value greater than 4\n",
    "print(np.where(arr>4))\n",
    "\n",
    "# Ex.Replace all values less 5 with 0\n",
    "print(np.where(arr<5, 0, arr))"
   ]
  },
  {
   "cell_type": "markdown",
   "id": "e7740277",
   "metadata": {},
   "source": [
    "**np.argmax :**\n",
    "- The numpy.argmax() function returns indices of the max element of the array in a particular axis.\n",
    "- https://numpy.org/doc/stable/reference/generated/numpy.argmax.html"
   ]
  },
  {
   "cell_type": "code",
   "execution_count": 12,
   "id": "28c9fd51",
   "metadata": {},
   "outputs": [
    {
     "name": "stdout",
     "output_type": "stream",
     "text": [
      "array : [ 1  2  3  4  4 20  5  5  0  6]\n"
     ]
    }
   ],
   "source": [
    "import numpy as np\n",
    "arr = np.array([1,2,3,4,4,20,5,5,0,6])\n",
    "print(\"array :\",arr)"
   ]
  },
  {
   "cell_type": "code",
   "execution_count": 13,
   "id": "f6c9dcad",
   "metadata": {},
   "outputs": [
    {
     "name": "stdout",
     "output_type": "stream",
     "text": [
      "max element index : 5\n",
      "[[ 6  7  8]\n",
      " [ 9 10 11]]\n",
      "column max index: [1 1 1]\n",
      "row max index : [2 2]\n"
     ]
    }
   ],
   "source": [
    "# 1D array\n",
    "print('max element index :',np.argmax(arr))\n",
    "# 2D array \n",
    "arr1 = np.arange(6,12).reshape(2,3)\n",
    "print(arr1)\n",
    "# column-wise (each column max index)\n",
    "print('column max index:',np.argmax(arr1, axis=0)) \n",
    "# row-wise (each row max index)\n",
    "print('row max index :',np.argmax(arr1, axis=1)) "
   ]
  },
  {
   "cell_type": "markdown",
   "id": "d826cfda",
   "metadata": {},
   "source": [
    "**np.argmin :**\n",
    "- give the min number index"
   ]
  },
  {
   "cell_type": "code",
   "execution_count": 14,
   "id": "819e9b25",
   "metadata": {},
   "outputs": [
    {
     "name": "stdout",
     "output_type": "stream",
     "text": [
      "min element index : 8\n",
      "[[ 6  7  8]\n",
      " [ 9 10 11]]\n",
      "column mix index: [0 0 0]\n",
      "row min index : [0 0]\n"
     ]
    }
   ],
   "source": [
    "# 1D array\n",
    "print('min element index :',np.argmin(arr))\n",
    "# 2D array \n",
    "arr1 = np.arange(6,12).reshape(2,3)\n",
    "print(arr1)\n",
    "# column-wise (each column min index)\n",
    "print('column mix index:',np.argmin(arr1, axis=0)) \n",
    "# row-wise (each row min index)\n",
    "print('row min index :',np.argmin(arr1, axis=1)) "
   ]
  },
  {
   "cell_type": "markdown",
   "id": "e9e5315a",
   "metadata": {},
   "source": [
    "**np.cumsum :**\n",
    "- numpy.cumsum() function is used when we want to compute the **cumulative sum of array elements over a given axis.**\n",
    "- https://numpy.org/doc/stable/reference/generated/numpy.cumsum.html"
   ]
  },
  {
   "cell_type": "code",
   "execution_count": 15,
   "id": "3c84cce1",
   "metadata": {},
   "outputs": [
    {
     "name": "stdout",
     "output_type": "stream",
     "text": [
      "array : [1 2 3 4 5]\n",
      "cumulative sum : [ 1  3  6 10 15]\n",
      "[[1 2 3]\n",
      " [4 5 6]]\n",
      "cumulative sum : [ 1  3  6 10 15 21]\n",
      "[[1 2 3]\n",
      " [5 7 9]]\n",
      "[[ 1  3  6]\n",
      " [ 4  9 15]]\n"
     ]
    }
   ],
   "source": [
    "import numpy as np\n",
    "arr = np.array([1,2,3,4,5])\n",
    "print(\"array :\",arr)\n",
    "print('cumulative sum :',np.cumsum(arr))\n",
    "arr1 = np.arange(1,7).reshape(2,3)\n",
    "print(arr1)\n",
    "print('cumulative sum :',np.cumsum(arr1))\n",
    "# column-wise\n",
    "print(np.cumsum(arr1,axis=0)) \n",
    "# row-wise\n",
    "print(np.cumsum(arr1,axis=1))"
   ]
  },
  {
   "cell_type": "markdown",
   "id": "bc09613b",
   "metadata": {},
   "source": [
    "**np.cumprod :**\n",
    "- Return the cumulative product of elements along a given axis."
   ]
  },
  {
   "cell_type": "code",
   "execution_count": 16,
   "id": "970b8dfa",
   "metadata": {},
   "outputs": [
    {
     "name": "stdout",
     "output_type": "stream",
     "text": [
      "cumulative prod : [  1   2   6  24 120]\n",
      "[  1   2   6  24 120 720]\n",
      "[[ 1  2  3]\n",
      " [ 4 10 18]]\n",
      "[[  1   2   6]\n",
      " [  4  20 120]]\n"
     ]
    }
   ],
   "source": [
    "import numpy as np\n",
    "arr = np.array([1,2,3,4,5])\n",
    "print('cumulative prod :',np.cumprod(arr))\n",
    "arr1 = np.array([[1, 2, 3], [4, 5, 6]])\n",
    "print(np.cumprod(arr1))\n",
    "# column-wise:cumulative product for each column\n",
    "print(np.cumprod(arr1,axis=0)) \n",
    "# row-wise:cumulative product for each row\n",
    "print(np.cumprod(arr1,axis=1))"
   ]
  },
  {
   "cell_type": "markdown",
   "id": "ebb29356",
   "metadata": {},
   "source": [
    "**np.percentile :**\n",
    "- numpy.percentile()function used to compute the nth percentile of the given data (array elements) along the specified axis.\n",
    "- https://numpy.org/doc/stable/reference/generated/numpy.percentile.html\n",
    "- **formula :** p = (n/N)*100\n",
    "    - p : percentile\n",
    "    - n : Number of values fall under(below) 'x' \n",
    "    - N : Total count of population"
   ]
  },
  {
   "cell_type": "code",
   "execution_count": 17,
   "id": "f74d5f08",
   "metadata": {},
   "outputs": [
    {
     "name": "stdout",
     "output_type": "stream",
     "text": [
      "1.0\n",
      "50.5\n",
      "100.0\n"
     ]
    }
   ],
   "source": [
    "p = np.arange(1,101)\n",
    "# 0th percentile (minimum)\n",
    "print(np.percentile(p, 0)) \n",
    "# 50th percentile (median)\n",
    "print(np.percentile(p, 50))\n",
    "# 100th percentile (maximum)\n",
    "print(np.percentile(p, 100)) "
   ]
  },
  {
   "cell_type": "markdown",
   "id": "8fb1bf99",
   "metadata": {},
   "source": [
    "**np.histogram:**\n",
    "- Numpy has a built-in numpy.histogram() function which represents the frequency of data distribution for the graphical form.\n",
    "- https://numpy.org/doc/stable/reference/generated/numpy.histogram.html"
   ]
  },
  {
   "cell_type": "code",
   "execution_count": 18,
   "id": "2b54b6c8",
   "metadata": {},
   "outputs": [
    {
     "name": "stdout",
     "output_type": "stream",
     "text": [
      "(array([2, 1, 2, 3, 2, 1, 4], dtype=int64), array([0, 1, 2, 3, 4, 5, 6, 7]))\n"
     ]
    }
   ],
   "source": [
    "import numpy as np\n",
    "data = np.array([1,2,2,3,0,3,3,4,0,4,5,6,7,6,7])\n",
    "bins = [0,1,2,3,4,5,6,7]\n",
    "print(np.histogram(data,bins))"
   ]
  },
  {
   "cell_type": "code",
   "execution_count": 19,
   "id": "1ccfcc95",
   "metadata": {},
   "outputs": [
    {
     "name": "stdout",
     "output_type": "stream",
     "text": [
      "[11 53 28 50 38 30 68  9 78  2 21]\n",
      "(array([7, 4], dtype=int64), array([ 0, 40, 80]))\n"
     ]
    }
   ],
   "source": [
    "# change in bins range\n",
    "import numpy as np\n",
    "arr = np.array([11,53,28,50,38,30,68,9,78,2,21])\n",
    "print(arr)\n",
    "bins=[0,40,80]\n",
    "print(np.histogram(arr,bins))"
   ]
  },
  {
   "cell_type": "markdown",
   "id": "0bf7f338",
   "metadata": {},
   "source": [
    "**np.corrcoef :**\n",
    "- Return Pearson product-moment correlation coefficients.\n",
    "- Pearson's r, which is a measure of the linear correlation between two variables.\n",
    "- Correlation coefficent range generelly in between 1 to -1.\n",
    "- When coeffient is 1 means both are positivelly correlated means when experience increases then its salary also increases.\n",
    "- When coeffient is -1 means both are negativelly correlated, means if experience is less then its salary also less.\n",
    "- If coefficient is 0 means no change.\n",
    "- https://numpy.org/doc/stable/reference/generated/numpy.corrcoef.html"
   ]
  },
  {
   "cell_type": "code",
   "execution_count": 23,
   "id": "25d313b9",
   "metadata": {},
   "outputs": [
    {
     "name": "stdout",
     "output_type": "stream",
     "text": [
      "[[1.         0.25344572]\n",
      " [0.25344572 1.        ]]\n"
     ]
    }
   ],
   "source": [
    "import numpy as np\n",
    "salary = np.array([20000,40000,25000,35000,60000])\n",
    "experience = np.array([1,3,2,4,2])\n",
    "print(np.corrcoef(salary,experience))"
   ]
  },
  {
   "cell_type": "markdown",
   "id": "b657b0e9",
   "metadata": {},
   "source": [
    "**np.isin :**\n",
    "- Used to determine whether each element in an input array is contained in a second array. \n",
    "- It returns a Boolean array of the same shape as the input, where each element is True if the corresponding element in the input is found in the second array, and False otherwise.\n",
    "-https://numpy.org/doc/stable/reference/generated/numpy.isin.html"
   ]
  },
  {
   "cell_type": "code",
   "execution_count": 38,
   "id": "d991fb8e",
   "metadata": {},
   "outputs": [
    {
     "name": "stdout",
     "output_type": "stream",
     "text": [
      "array : [  2   6   5   2 100   3   4   5]\n",
      "[False False  True False  True  True False  True]\n",
      "elements : [  5 100   3   5]\n"
     ]
    }
   ],
   "source": [
    "import numpy as np\n",
    "arr = np.array([2,6,5,2,100,3,4,5])\n",
    "test_arr = [20,3,40,5,0,100]\n",
    "print(\"array :\",arr)\n",
    "print(np.isin(arr,test_arr))\n",
    "print('elements :',arr[np.isin(arr,test_arr)])"
   ]
  },
  {
   "cell_type": "markdown",
   "id": "322a5081",
   "metadata": {},
   "source": [
    "**np.flip :**\n",
    "- The numpy.flip() function reverses the order of array elements along the specified axis, preserving the shape of the array.\n",
    "- https://numpy.org/doc/stable/reference/generated/numpy.flip.html"
   ]
  },
  {
   "cell_type": "code",
   "execution_count": 41,
   "id": "f48e42bc",
   "metadata": {},
   "outputs": [
    {
     "name": "stdout",
     "output_type": "stream",
     "text": [
      "Before flip : [1 2 3 4 5]\n",
      "After flip : [5 4 3 2 1]\n"
     ]
    }
   ],
   "source": [
    "import numpy as np\n",
    "# 1D array\n",
    "arr = np.array([1,2,3,4,5])\n",
    "print(\"Before flip :\",arr)\n",
    "print('After flip :',np.flip(arr))"
   ]
  },
  {
   "cell_type": "code",
   "execution_count": 74,
   "id": "cdf34494",
   "metadata": {},
   "outputs": [
    {
     "name": "stdout",
     "output_type": "stream",
     "text": [
      "[[0 1]\n",
      " [2 3]]\n"
     ]
    }
   ],
   "source": [
    "import numpy as np\n",
    "arr1 = np.arange(0,4).reshape(2,2)\n",
    "print(arr1)"
   ]
  },
  {
   "cell_type": "code",
   "execution_count": 75,
   "id": "af79d434",
   "metadata": {},
   "outputs": [
    {
     "name": "stdout",
     "output_type": "stream",
     "text": [
      "[[3 2]\n",
      " [1 0]]\n",
      "[[2 3]\n",
      " [0 1]]\n",
      "[[1 0]\n",
      " [3 2]]\n"
     ]
    }
   ],
   "source": [
    "# 2D array\n",
    "print(np.flip(arr1)) \n",
    "print(np.flip(arr1,axis=0)) # column-wise\n",
    "print(np.flip(arr1,axis=1)) # row-wise"
   ]
  },
  {
   "cell_type": "markdown",
   "id": "1f033c15",
   "metadata": {},
   "source": [
    "**np.put :**\n",
    "- The numpy.put() function replaces specific elements of an array with given values of p_array. Array indexed works on flattened array.\n",
    "- Permanent changes in array\n",
    "- https://numpy.org/doc/stable/reference/generated/numpy.put.html"
   ]
  },
  {
   "cell_type": "code",
   "execution_count": 105,
   "id": "5a384b84",
   "metadata": {},
   "outputs": [
    {
     "name": "stdout",
     "output_type": "stream",
     "text": [
      "Before array : [1 2 3 4 5 6]\n",
      "After putting values: [90  2 50  4 33  6]\n"
     ]
    }
   ],
   "source": [
    "import numpy as np\n",
    "ar = np.array([1,2,3,4,5,6])\n",
    "print(\"Before array :\",ar)\n",
    "np.put(ar,[0,2,4],[90,50,33])\n",
    "print('After putting values:',ar)"
   ]
  },
  {
   "cell_type": "markdown",
   "id": "fafc9351",
   "metadata": {},
   "source": [
    "**np.delete :**\n",
    "- The numpy.delete() function returns a new array with the deletion of sub-arrays along with the mentioned axis.\n",
    "- https://numpy.org/doc/stable/reference/generated/numpy.delete.html"
   ]
  },
  {
   "cell_type": "code",
   "execution_count": 111,
   "id": "81cd53f1",
   "metadata": {},
   "outputs": [
    {
     "name": "stdout",
     "output_type": "stream",
     "text": [
      "array : [1 2 3 4 5 6]\n",
      "Del specific item: [2 3 4 5 6]\n",
      "Del multiple items: [1 2 3 4]\n"
     ]
    }
   ],
   "source": [
    "import numpy as np\n",
    "arr = np.array([1,2,3,4,5,6])\n",
    "print(\"array :\",arr)\n",
    "print('Del specific item:',np.delete(arr,0))\n",
    "print('Del multiple items:',np.delete(arr,[4,5]))"
   ]
  },
  {
   "cell_type": "markdown",
   "id": "a29b7b8b",
   "metadata": {},
   "source": [
    "### Set functions :\n",
    "- np.union1d\n",
    "- np.intersect1d\n",
    "- np.setdiff1d\n",
    "- np.setxor1d\n",
    "- np.in1d"
   ]
  },
  {
   "cell_type": "code",
   "execution_count": 135,
   "id": "f0037a19",
   "metadata": {},
   "outputs": [
    {
     "name": "stdout",
     "output_type": "stream",
     "text": [
      "arr1 : [1 2 3 4 5]\n",
      "arr2 : [3 4 5 6 7]\n"
     ]
    }
   ],
   "source": [
    "# Creating the two arrays\n",
    "import numpy as np\n",
    "arr1 = np.array([1,2,3,4,5])\n",
    "arr2 = np.array([3,4,5,6,7])\n",
    "print('arr1 :',arr1)\n",
    "print('arr2 :',arr2)"
   ]
  },
  {
   "cell_type": "code",
   "execution_count": 137,
   "id": "e4302519",
   "metadata": {},
   "outputs": [
    {
     "name": "stdout",
     "output_type": "stream",
     "text": [
      "[1 2 3 4 5 6 7]\n"
     ]
    }
   ],
   "source": [
    "# np.union1d()\n",
    "print(np.union1d(arr1,arr2))"
   ]
  },
  {
   "cell_type": "code",
   "execution_count": 151,
   "id": "0ffc59ae",
   "metadata": {},
   "outputs": [
    {
     "name": "stdout",
     "output_type": "stream",
     "text": [
      "[3 4 5]\n"
     ]
    }
   ],
   "source": [
    "# np.intersect1d()\n",
    "print(np.intersect1d(arr1,arr2))"
   ]
  },
  {
   "cell_type": "code",
   "execution_count": 154,
   "id": "14620cc1",
   "metadata": {},
   "outputs": [
    {
     "name": "stdout",
     "output_type": "stream",
     "text": [
      "[1 2]\n",
      "[1 2]\n"
     ]
    }
   ],
   "source": [
    "# np.setdiff1d()\n",
    "# Return the unique values in ar1 that are not in ar2.\n",
    "print(np.setdiff1d(arr1,arr2)) # for arr1\n",
    "print(np.setdiff1d(arr1,arr2)) # for arr2"
   ]
  },
  {
   "cell_type": "code",
   "execution_count": 149,
   "id": "2bbe70ea",
   "metadata": {},
   "outputs": [
    {
     "name": "stdout",
     "output_type": "stream",
     "text": [
      "[1 2 6 7]\n"
     ]
    }
   ],
   "source": [
    "# np.setxor1d()\n",
    "print(np.setxor1d(arr1,arr2)) "
   ]
  },
  {
   "cell_type": "code",
   "execution_count": 155,
   "id": "0cbbe71d",
   "metadata": {},
   "outputs": [
    {
     "name": "stdout",
     "output_type": "stream",
     "text": [
      "[False False  True False False]\n",
      "[ True False  True  True False]\n"
     ]
    }
   ],
   "source": [
    "# np.in1d()\n",
    "#Returns a boolean array the same length as ar1 that is True where an element of ar1 is in ar2 and False otherwise\n",
    "print(np.in1d(arr1,3))\n",
    "print(np.in1d(arr1,[1,3,4]))"
   ]
  },
  {
   "cell_type": "markdown",
   "id": "82f160f9",
   "metadata": {},
   "source": [
    "**np.clip :**\n",
    "- np.clip() function is used to Clip (limit) the values in an array.\n",
    "- https://numpy.org/doc/stable/reference/generated/numpy.clip.html\n",
    "- useful in ML & DL"
   ]
  },
  {
   "cell_type": "code",
   "execution_count": 174,
   "id": "635d2eec",
   "metadata": {},
   "outputs": [
    {
     "name": "stdout",
     "output_type": "stream",
     "text": [
      "array: [ 6 27  6  6 84 35 57 59 57 38 51 46]\n",
      "[20 27 20 20 60 35 57 59 57 38 51 46]\n"
     ]
    }
   ],
   "source": [
    "import numpy as np\n",
    "arr = np.array([6,27,6,6,84,35,57,59,57,38,51,46])\n",
    "print('array:',arr)\n",
    "print(np.clip(arr, a_min=20, a_max=60))"
   ]
  },
  {
   "cell_type": "markdown",
   "id": "37f1e68e",
   "metadata": {},
   "source": [
    "**np.argsort() function :**\n",
    "\n",
    "\n"
   ]
  },
  {
   "cell_type": "markdown",
   "id": "b3ad5f74",
   "metadata": {},
   "source": [
    "- Returns the indices that would sort an array and also sorted along with axis.\n",
    "- **Syntax:  np.argsort( arr, axis=-1, kind=None , order(optional) )**\n",
    "    - **axis:** default is -1 (the last axis)\n",
    "    - **kind:** Sorting algorithm. The default is ‘quicksort’\n"
   ]
  },
  {
   "cell_type": "code",
   "execution_count": 27,
   "id": "4e5f90a6",
   "metadata": {},
   "outputs": [
    {
     "name": "stdout",
     "output_type": "stream",
     "text": [
      "[6 1 3 0 2 4 7 5]\n"
     ]
    }
   ],
   "source": [
    "import numpy as np\n",
    "arr = np.array([3, 1, 4, 1, 5, 9, 0, 6])\n",
    "print(np.argsort(arr))"
   ]
  },
  {
   "cell_type": "code",
   "execution_count": 26,
   "id": "a586f7cc",
   "metadata": {},
   "outputs": [
    {
     "name": "stdout",
     "output_type": "stream",
     "text": [
      "[[3 1 4]\n",
      " [1 5 9]\n",
      " [2 6 5]]\n",
      "Sorted indices along axis 0:\n",
      "[[1 0 0]\n",
      " [2 1 2]\n",
      " [0 2 1]]\n",
      "Sorted indices along axis 1:\n",
      "[[1 0 2]\n",
      " [0 1 2]\n",
      " [0 2 1]]\n"
     ]
    }
   ],
   "source": [
    "import numpy as np\n",
    "arr = np.array([[3, 1, 4],[1, 5, 9],[2, 6, 5]])\n",
    "print(arr)\n",
    "print(\"Sorted indices along axis 0:\")\n",
    "print(np.argsort(arr, axis=0))\n",
    "print(\"Sorted indices along axis 1:\")\n",
    "print(np.argsort(arr, axis=1))"
   ]
  },
  {
   "cell_type": "code",
   "execution_count": null,
   "id": "b6e3facf",
   "metadata": {},
   "outputs": [],
   "source": []
  },
  {
   "cell_type": "code",
   "execution_count": null,
   "id": "2e4fb6cb",
   "metadata": {},
   "outputs": [],
   "source": []
  },
  {
   "cell_type": "code",
   "execution_count": null,
   "id": "482636e8",
   "metadata": {},
   "outputs": [],
   "source": []
  },
  {
   "cell_type": "code",
   "execution_count": null,
   "id": "a951d255",
   "metadata": {},
   "outputs": [],
   "source": []
  }
 ],
 "metadata": {
  "kernelspec": {
   "display_name": "Python 3 (ipykernel)",
   "language": "python",
   "name": "python3"
  },
  "language_info": {
   "codemirror_mode": {
    "name": "ipython",
    "version": 3
   },
   "file_extension": ".py",
   "mimetype": "text/x-python",
   "name": "python",
   "nbconvert_exporter": "python",
   "pygments_lexer": "ipython3",
   "version": "3.10.7"
  }
 },
 "nbformat": 4,
 "nbformat_minor": 5
}
