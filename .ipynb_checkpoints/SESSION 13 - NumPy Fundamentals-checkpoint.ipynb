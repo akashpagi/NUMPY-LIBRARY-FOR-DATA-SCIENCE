{
 "cells": [
  {
   "cell_type": "markdown",
   "id": "84ae5a6e",
   "metadata": {},
   "source": [
    "### SESSION 13 - NumPy Fundamentals\n",
    "#### What is numpy?\n",
    "- NumPy is the fundamental package for scientific computing in Python. \n",
    "- It is a Python library that provides a multidimensional array object, various derived objects (such as masked arrays and matrices), and an assortment of routines for fast operations on arrays, including mathematical, logical, shape manipulation, sorting, selecting, I/O, discrete Fourier transforms, basic linear algebra, basic statistical operations, random simulation and much more.\n",
    "- At the core of the NumPy package, is the ndarray object. This encapsulates n-dimensional arrays of homogeneous data types.\n",
    "\n",
    "#### Numpy Arrays Vs Python Sequences\n",
    "\n",
    "- NumPy arrays have a fixed size at creation, unlike Python lists (which can grow dynamically). Changing the size of an ndarray will create a new array and delete the original.\n",
    "\n",
    "- The elements in a NumPy array are all required to be of the same data type, and thus will be the same size in memory.\n",
    "\n",
    "- NumPy arrays facilitate advanced mathematical and other types of operations on large numbers of data. Typically, such operations are executed more efficiently and with less code than is possible using Python’s built-in sequences.\n",
    "\n",
    "- A growing plethora of scientific and mathematical Python-based packages are using NumPy arrays; though these typically support Python-sequence input, they convert such input to NumPy arrays prior to processing, and they often output NumPy arrays."
   ]
  },
  {
   "cell_type": "markdown",
   "id": "63be6948",
   "metadata": {},
   "source": [
    "#### Creating Numpy Arrays :\n",
    "- There are 2 ways to importing the numpy module :\n",
    "    - **`import numpy as np`**\n",
    "    - **`from numpy import *`**"
   ]
  },
  {
   "cell_type": "code",
   "execution_count": 4,
   "id": "c3b303e7",
   "metadata": {},
   "outputs": [
    {
     "name": "stdout",
     "output_type": "stream",
     "text": [
      "a : [1 2 3 4]\n",
      "type of a : <class 'numpy.ndarray'>\n"
     ]
    }
   ],
   "source": [
    "import numpy as np\n",
    "# it is vector\n",
    "a = np.array([1,2,3,4])\n",
    "print('a :',a)\n",
    "print('type of a :',type(a))"
   ]
  },
  {
   "cell_type": "markdown",
   "id": "088aee40",
   "metadata": {},
   "source": [
    "#### Creating a 2D and 3D numpy arrays:"
   ]
  },
  {
   "cell_type": "code",
   "execution_count": 8,
   "id": "c912bf42",
   "metadata": {},
   "outputs": [
    {
     "name": "stdout",
     "output_type": "stream",
     "text": [
      "2D: [[1 2 3]\n",
      " [4 5 6]]\n"
     ]
    }
   ],
   "source": [
    "from numpy import *\n",
    "# 2D array (it is matrix)\n",
    "b = array([[1,2,3],[4,5,6]])\n",
    "print('2D:',b)"
   ]
  },
  {
   "cell_type": "code",
   "execution_count": 11,
   "id": "fb3646ce",
   "metadata": {},
   "outputs": [
    {
     "name": "stdout",
     "output_type": "stream",
     "text": [
      "[[[ 2 17]\n",
      "  [45 78]]\n",
      "\n",
      " [[88 92]\n",
      "  [60 76]]\n",
      "\n",
      " [[76 33]\n",
      "  [20 18]]]\n"
     ]
    }
   ],
   "source": [
    "# 3D array (it is tensor)\n",
    "c = array([[[2,17], [45, 78]], [[88, 92], [60, 76]],[[76,33],[20,18]]])\n",
    "print(c)"
   ]
  },
  {
   "cell_type": "markdown",
   "id": "90b4bd97",
   "metadata": {},
   "source": [
    "#### Creating a numpy with different `dtype`:"
   ]
  },
  {
   "cell_type": "code",
   "execution_count": 14,
   "id": "fbcabf25",
   "metadata": {},
   "outputs": [
    {
     "name": "stdout",
     "output_type": "stream",
     "text": [
      "float : [1. 2. 3. 4.]\n",
      "complex : [1.+0.j 2.+0.j 3.+0.j 4.+0.j]\n",
      "boolean : [ True  True False  True]\n"
     ]
    }
   ],
   "source": [
    "f = array([1,2,3,4] , dtype=float)\n",
    "c = array([1,2,3,4] , dtype=complex)\n",
    "tf = array([1,2,0,4] , dtype=bool) # non integer value consider as True\n",
    "print('float :',f)\n",
    "print('complex :',c)\n",
    "print('boolean :',tf)"
   ]
  },
  {
   "cell_type": "markdown",
   "id": "2294c6c3",
   "metadata": {},
   "source": [
    "#### Numpy.arange() function :\n",
    "- The Numpy arange function **generates a NumPy array** with evenly spaced values based on the start and stops intervals specified upon declaration.\n",
    "- To use the arange function, we will create a new script with the NumPy library imported as np.\n",
    "- Next, we will declare a new variable number and set this equal to np. arange().\n",
    "- **Syntax :** `numpy.arange([start],stop,[step],dtype=None)`"
   ]
  },
  {
   "cell_type": "code",
   "execution_count": 23,
   "id": "d3b5fe6e",
   "metadata": {},
   "outputs": [
    {
     "name": "stdout",
     "output_type": "stream",
     "text": [
      "[5 6 7 8 9]\n",
      "[5 7 9]\n"
     ]
    }
   ],
   "source": [
    "from numpy import *\n",
    "e = arange(5,10)\n",
    "e1 = arange(5,10,2)\n",
    "print(e)\n",
    "print(e1)"
   ]
  },
  {
   "cell_type": "markdown",
   "id": "259b2894",
   "metadata": {},
   "source": [
    "#### Numpy.reshape() function :\n",
    "- The numpy.reshape() function is used to **change the shape (dimensions) of an array without changing its data.** \n",
    "- This function **returns a new array with the same data but with a different shape.**\n",
    "- The numpy.reshape() function is useful when we need to change the dimensions of an array.\n",
    "- **for example,** when we want to convert a one-dimensional array into a two-dimensional array or vice versa. \n",
    "- It can also be used to create arrays with a specific shape, such as matrices and tensors.\n",
    "- **Syntax :** `numpy.reshape(a, newshape, order='C')`\n",
    "    - **a :** This is the source array which we want to reshape.\n",
    "    - **new_shape:** The shape in which we want to convert our original array should be compatible with the original array.\n",
    "    - **order:** {'C', 'F', 'A'}, optional"
   ]
  },
  {
   "cell_type": "code",
   "execution_count": 29,
   "id": "88c67d58",
   "metadata": {},
   "outputs": [
    {
     "name": "stdout",
     "output_type": "stream",
     "text": [
      "[[ 1  2  3  4  5  6]\n",
      " [ 7  8  9 10 11 12]]\n",
      "[[ 1  2]\n",
      " [ 3  4]\n",
      " [ 5  6]\n",
      " [ 7  8]\n",
      " [ 9 10]\n",
      " [11 12]]\n",
      "[[ 1  2  3  4]\n",
      " [ 5  6  7  8]\n",
      " [ 9 10 11 12]]\n"
     ]
    }
   ],
   "source": [
    "from numpy import *\n",
    "r = arange(1,13)\n",
    "re = reshape(r,(2,6))\n",
    "print(re)\n",
    "re1 = reshape(r,(6,2))\n",
    "print(re1)\n",
    "re3 = reshape(r,(3,4))\n",
    "print(re3)"
   ]
  },
  {
   "cell_type": "markdown",
   "id": "d37645a7",
   "metadata": {},
   "source": [
    "#### numpy.ones() function :\n",
    "- Python numpy.ones() function returns a new array of given shape and data type, where the element’s value is set to 1.\n",
    "- **For example,**It is useful in deep learning to intialize the weights values\n",
    "- **syntax**: `ones(shape, dtype=None, order='C')`"
   ]
  },
  {
   "cell_type": "code",
   "execution_count": 9,
   "id": "6b2bc9ad",
   "metadata": {},
   "outputs": [
    {
     "name": "stdout",
     "output_type": "stream",
     "text": [
      "[[1. 1. 1. 1.]\n",
      " [1. 1. 1. 1.]]\n"
     ]
    }
   ],
   "source": [
    "from numpy import *\n",
    "o = ones((2,4))\n",
    "print(o)"
   ]
  },
  {
   "cell_type": "markdown",
   "id": "1f81ebcc",
   "metadata": {},
   "source": [
    "#### numpy.zeros() function :\n",
    "- Python numpy.zeros() function returns a new array of given shape and type, where the element’s value as 0.\n",
    "- The elements are having the default data type as the float. That’s why the zeros are 0.\n",
    "- **syntax**: `zeros(shape, dtype=None, order='C')`"
   ]
  },
  {
   "cell_type": "code",
   "execution_count": 10,
   "id": "42048bc7",
   "metadata": {},
   "outputs": [
    {
     "name": "stdout",
     "output_type": "stream",
     "text": [
      "[[0 0 0 0 0 0 0 0 0 0]\n",
      " [0 0 0 0 0 0 0 0 0 0]]\n"
     ]
    }
   ],
   "source": [
    "from numpy import *\n",
    "z = zeros((2,10), dtype=int)\n",
    "print(z)"
   ]
  },
  {
   "cell_type": "markdown",
   "id": "bd4d4d80",
   "metadata": {},
   "source": [
    "#### numpy.random.random() function :\n",
    "- The functions which are used for generating random numbers.\n",
    "- here 1st random is class name and other one is method name follows OOP concept"
   ]
  },
  {
   "cell_type": "code",
   "execution_count": 21,
   "id": "c3f087e1",
   "metadata": {},
   "outputs": [
    {
     "name": "stdout",
     "output_type": "stream",
     "text": [
      "[[0.73965092 0.1750063  0.19822543]\n",
      " [0.8223754  0.01410322 0.01425468]\n",
      " [0.11114968 0.69797665 0.48849288]]\n"
     ]
    }
   ],
   "source": [
    "from numpy import *\n",
    "# creating default random varible between 0 to 1\n",
    "r = random.random((3,3))\n",
    "print(r)"
   ]
  },
  {
   "cell_type": "markdown",
   "id": "4c40adce",
   "metadata": {},
   "source": [
    "#### numpy.linspace() function : (Linear/ linearly space)\n",
    "- NumPy function that returns evenly spaced numbers over a specified interval.\n",
    "- Use plotting ther ML algorithm result.\n",
    "- **syntax :** - `linspace(start, stop, num=50, dtype=None, axis=0)` \n",
    "    - **start:** The starting value of the sequence.\n",
    "    - **stop:** The end value of the sequence, unless endpoint is set to False.\n",
    "    - **num:** The number of evenly spaced numbers to generate. Default is 50.\n",
    "    - **axis:** The axis along which to generate the evenly spaced numbers. Default is 0."
   ]
  },
  {
   "cell_type": "code",
   "execution_count": 40,
   "id": "a3d93cc5",
   "metadata": {},
   "outputs": [
    {
     "name": "stdout",
     "output_type": "stream",
     "text": [
      "[ 1.    3.25  5.5   7.75 10.  ]\n"
     ]
    }
   ],
   "source": [
    "from numpy import *\n",
    "ls = linspace(1,10,5)\n",
    "print(ls)"
   ]
  },
  {
   "cell_type": "markdown",
   "id": "bcb0cfb3",
   "metadata": {},
   "source": [
    "#### numpy.identity() function :\n",
    "- Returns a square identity matrix of size n x n.\n",
    "- means digonally items are 1 and remaing are all 0's\n",
    "- **syntax:** `numpy.identity(n, dtype=None)`\n",
    "    - **n:** The size of the identity matrix to be generated.\n",
    "    - **dtype:** The data type of the output array and default is float."
   ]
  },
  {
   "cell_type": "code",
   "execution_count": 1,
   "id": "730286aa",
   "metadata": {},
   "outputs": [
    {
     "name": "stdout",
     "output_type": "stream",
     "text": [
      "[[1 0 0]\n",
      " [0 1 0]\n",
      " [0 0 1]]\n"
     ]
    }
   ],
   "source": [
    "from numpy import *\n",
    "i = identity(3, dtype=int)\n",
    "print(i)"
   ]
  },
  {
   "cell_type": "markdown",
   "id": "21d7347b",
   "metadata": {},
   "source": [
    "#### Numpy Arrays Attributes of a Numpy Array\n",
    "NumPy array (ndarray class) is the most used construct of NumPy in Machine Learning and Deep Learning. Let us look into some important attributes of this NumPy array."
   ]
  },
  {
   "cell_type": "code",
   "execution_count": 5,
   "id": "bc236609",
   "metadata": {},
   "outputs": [
    {
     "name": "stdout",
     "output_type": "stream",
     "text": [
      "[0 1 2 3 4 5 6 7 8 9]\n",
      "[[ 0.  1.  2.  3.]\n",
      " [ 4.  5.  6.  7.]\n",
      " [ 8.  9. 10. 11.]]\n",
      "[[[0 1]\n",
      "  [2 3]]\n",
      "\n",
      " [[4 5]\n",
      "  [6 7]]]\n"
     ]
    }
   ],
   "source": [
    "from numpy import *\n",
    "a1 = arange(10)\n",
    "a2 = arange(12,dtype=float).reshape(3,4)\n",
    "a3 = arange(8).reshape(2,2,2)\n",
    "print(a1)\n",
    "print(a2)\n",
    "print(a3)"
   ]
  },
  {
   "cell_type": "markdown",
   "id": "7cd91ebf",
   "metadata": {},
   "source": [
    "#### .ndim attribute\n",
    "- In NumPy, **.ndim** is a function that returns the number of dimensions of a given NumPy array.."
   ]
  },
  {
   "cell_type": "code",
   "execution_count": 17,
   "id": "8825e839",
   "metadata": {},
   "outputs": [
    {
     "name": "stdout",
     "output_type": "stream",
     "text": [
      "1\n",
      "2\n",
      "3\n"
     ]
    }
   ],
   "source": [
    "print(a1.ndim)\n",
    "print(a2.ndim)\n",
    "print(a3.ndim)"
   ]
  },
  {
   "cell_type": "markdown",
   "id": "0d1ad0cd",
   "metadata": {},
   "source": [
    "#### .shape attribute\n",
    "- In NumPy, the **.shape** attribute of a NumPy array is used to determine the dimensions of the array. \n",
    "- It returns a tuple of integers that represent the size of the array in each dimension."
   ]
  },
  {
   "cell_type": "code",
   "execution_count": 18,
   "id": "ed32a5ca",
   "metadata": {},
   "outputs": [
    {
     "name": "stdout",
     "output_type": "stream",
     "text": [
      "(10,)\n",
      "(3, 4)\n",
      "(2, 2, 2)\n"
     ]
    }
   ],
   "source": [
    "print(a1.shape)\n",
    "print(a2.shape)\n",
    "print(a3.shape)"
   ]
  },
  {
   "cell_type": "markdown",
   "id": "a05cdeba",
   "metadata": {},
   "source": [
    "####  .size attribute\n",
    "- In NumPy, **.size** is an attribute of a NumPy array that returns the total number of elements in the array."
   ]
  },
  {
   "cell_type": "code",
   "execution_count": 24,
   "id": "d44c4e50",
   "metadata": {},
   "outputs": [
    {
     "name": "stdout",
     "output_type": "stream",
     "text": [
      "10\n",
      "12\n",
      "8\n"
     ]
    }
   ],
   "source": [
    "print(a1.size)\n",
    "print(a2.size)\n",
    "print(a3.size)"
   ]
  },
  {
   "cell_type": "markdown",
   "id": "b7e4407a",
   "metadata": {},
   "source": [
    "####  .itemsize attribute\n",
    "- In NumPy, **.itemsize** is an attribute of a NumPy array that returns the size (in bytes) of each element in the array.\n",
    "- Shows occupation of memory of the each item of inside the array "
   ]
  },
  {
   "cell_type": "code",
   "execution_count": 27,
   "id": "7b6fb823",
   "metadata": {},
   "outputs": [
    {
     "name": "stdout",
     "output_type": "stream",
     "text": [
      "4\n",
      "8\n",
      "4\n"
     ]
    }
   ],
   "source": [
    "print(a1.itemsize)\n",
    "print(a2.itemsize)\n",
    "print(a3.itemsize)"
   ]
  },
  {
   "cell_type": "markdown",
   "id": "82103a92",
   "metadata": {},
   "source": [
    "#### .dtype attribute\n",
    "- In NumPy,**.dtype** is an attribute of a NumPy array that returns the data type of the elements in the array."
   ]
  },
  {
   "cell_type": "code",
   "execution_count": 29,
   "id": "c14efc05",
   "metadata": {},
   "outputs": [
    {
     "name": "stdout",
     "output_type": "stream",
     "text": [
      "int32\n",
      "float64\n",
      "int32\n"
     ]
    }
   ],
   "source": [
    "print(a1.dtype)\n",
    "print(a2.dtype)\n",
    "print(a3.dtype)"
   ]
  },
  {
   "cell_type": "code",
   "execution_count": null,
   "id": "ecbee619",
   "metadata": {},
   "outputs": [],
   "source": []
  },
  {
   "cell_type": "code",
   "execution_count": null,
   "id": "8bdee891",
   "metadata": {},
   "outputs": [],
   "source": []
  },
  {
   "cell_type": "code",
   "execution_count": null,
   "id": "e473fc95",
   "metadata": {},
   "outputs": [],
   "source": []
  },
  {
   "cell_type": "code",
   "execution_count": null,
   "id": "8f940442",
   "metadata": {},
   "outputs": [],
   "source": []
  },
  {
   "cell_type": "code",
   "execution_count": null,
   "id": "52809bad",
   "metadata": {},
   "outputs": [],
   "source": []
  },
  {
   "cell_type": "code",
   "execution_count": null,
   "id": "74643420",
   "metadata": {},
   "outputs": [],
   "source": []
  },
  {
   "cell_type": "code",
   "execution_count": null,
   "id": "cee77c1a",
   "metadata": {},
   "outputs": [],
   "source": []
  },
  {
   "cell_type": "code",
   "execution_count": null,
   "id": "c3db20f9",
   "metadata": {},
   "outputs": [],
   "source": []
  },
  {
   "cell_type": "code",
   "execution_count": null,
   "id": "48714c99",
   "metadata": {},
   "outputs": [],
   "source": []
  },
  {
   "cell_type": "code",
   "execution_count": null,
   "id": "057f6cc4",
   "metadata": {},
   "outputs": [],
   "source": []
  },
  {
   "cell_type": "code",
   "execution_count": null,
   "id": "1b746ad9",
   "metadata": {},
   "outputs": [],
   "source": []
  },
  {
   "cell_type": "code",
   "execution_count": null,
   "id": "7a6d5a41",
   "metadata": {},
   "outputs": [],
   "source": []
  }
 ],
 "metadata": {
  "kernelspec": {
   "display_name": "Python 3 (ipykernel)",
   "language": "python",
   "name": "python3"
  },
  "language_info": {
   "codemirror_mode": {
    "name": "ipython",
    "version": 3
   },
   "file_extension": ".py",
   "mimetype": "text/x-python",
   "name": "python",
   "nbconvert_exporter": "python",
   "pygments_lexer": "ipython3",
   "version": "3.10.7"
  }
 },
 "nbformat": 4,
 "nbformat_minor": 5
}
