{
 "cells": [
  {
   "cell_type": "markdown",
   "metadata": {
    "id": "6WdKdPGx-tnY"
   },
   "source": [
    "**Note: In Data Science googling is a very important skill. If you find some difficulties to solve the problem, google it and try to find some clues to solve.**"
   ]
  },
  {
   "cell_type": "code",
   "execution_count": 1,
   "metadata": {
    "id": "-J4F1ysN4mLk"
   },
   "outputs": [],
   "source": [
    "import numpy as np"
   ]
  },
  {
   "cell_type": "markdown",
   "metadata": {
    "id": "a_K8IH-C6HDK"
   },
   "source": [
    "### `Q-1` Create a null vector of size 10 but the fifth value which is 1.\n",
    "\n"
   ]
  },
  {
   "cell_type": "code",
   "execution_count": 2,
   "metadata": {
    "id": "sTF03KsZ6QUI"
   },
   "outputs": [
    {
     "data": {
      "text/plain": [
       "array([nan, nan, nan, nan, nan,  1., nan, nan, nan, nan])"
      ]
     },
     "execution_count": 2,
     "metadata": {},
     "output_type": "execute_result"
    }
   ],
   "source": [
    "def nullVector():\n",
    "    arr = np.nan * np.zeros(10, dtype=int)\n",
    "    arr[5] = 1\n",
    "    return arr\n",
    "nullVector()"
   ]
  },
  {
   "cell_type": "markdown",
   "metadata": {
    "id": "TEiG25rS6S1i"
   },
   "source": [
    "### `Q-2` Ask user to input two numbers a, b. Write a program to generate a random array of shape (a, b) and print the array and avg of the array."
   ]
  },
  {
   "cell_type": "code",
   "execution_count": 3,
   "metadata": {
    "id": "ihwn4oOH6Vh7"
   },
   "outputs": [
    {
     "name": "stdout",
     "output_type": "stream",
     "text": [
      "Enter two numbers\n"
     ]
    },
    {
     "ename": "ValueError",
     "evalue": "not enough values to unpack (expected 2, got 0)",
     "output_type": "error",
     "traceback": [
      "\u001b[1;31m---------------------------------------------------------------------------\u001b[0m",
      "\u001b[1;31mValueError\u001b[0m                                Traceback (most recent call last)",
      "Cell \u001b[1;32mIn [3], line 1\u001b[0m\n\u001b[1;32m----> 1\u001b[0m a, b \u001b[38;5;241m=\u001b[39m \u001b[38;5;28mmap\u001b[39m(\u001b[38;5;28mint\u001b[39m, \u001b[38;5;28minput\u001b[39m(\u001b[38;5;124m'\u001b[39m\u001b[38;5;124mEnter two numbers\u001b[39m\u001b[38;5;124m'\u001b[39m)\u001b[38;5;241m.\u001b[39msplit())\n\u001b[0;32m      2\u001b[0m arr \u001b[38;5;241m=\u001b[39m np\u001b[38;5;241m.\u001b[39mrandom\u001b[38;5;241m.\u001b[39mrandom((a, b))\n\u001b[0;32m      3\u001b[0m \u001b[38;5;28mprint\u001b[39m(arr)\n",
      "\u001b[1;31mValueError\u001b[0m: not enough values to unpack (expected 2, got 0)"
     ]
    }
   ],
   "source": [
    "a, b = map(int, input('Enter two numbers').split())\n",
    "arr = np.random.random((a, b))\n",
    "print(arr)\n",
    "print('avg of array:',arr.mean())"
   ]
  },
  {
   "cell_type": "markdown",
   "metadata": {
    "id": "2iEeybS06ZSq"
   },
   "source": [
    "### `Q-3`Write a function to create a 2d array with 1 on the border and 0 inside. Take 2-D array shape as (a,b) as parameter to function.\n",
    "\n",
    "Eg.-\n",
    "```\n",
    "[[1,1,1,1],\n",
    "[1,0,0,1],\n",
    "[1,0,0,1],\n",
    "[1,1,1,1]]\n",
    "```"
   ]
  },
  {
   "cell_type": "code",
   "execution_count": 4,
   "metadata": {
    "id": "gEKndkDU6ZSs"
   },
   "outputs": [
    {
     "name": "stdout",
     "output_type": "stream",
     "text": [
      "[[1 1 1 1]\n",
      " [1 0 0 1]\n",
      " [1 0 0 1]\n",
      " [1 1 1 1]]\n"
     ]
    }
   ],
   "source": [
    "def borderFun(a, b):\n",
    "    arr = np.ones((a, b), dtype=int)\n",
    "    arr[1:3, 1:3] = 0\n",
    "    return arr\n",
    "print(borderFun(4, 4))"
   ]
  },
  {
   "cell_type": "markdown",
   "metadata": {
    "id": "QRJicQ8j6ZlE"
   },
   "source": [
    "### `Q-4` Create a vector of size 10 with values ranging from 0 to 1, both excluded.\n"
   ]
  },
  {
   "cell_type": "code",
   "execution_count": 5,
   "metadata": {
    "id": "eC4XLhDq6ZlF"
   },
   "outputs": [
    {
     "name": "stdout",
     "output_type": "stream",
     "text": [
      "[0.09090909 0.18181818 0.27272727 0.36363636 0.45454545 0.54545455\n",
      " 0.63636364 0.72727273 0.81818182 0.90909091]\n"
     ]
    }
   ],
   "source": [
    "arr = np.linspace(0, 1, 12)[1:-1]\n",
    "print(arr)"
   ]
  },
  {
   "cell_type": "markdown",
   "metadata": {
    "id": "vb4jK4yQ6Zs2"
   },
   "source": [
    "### `Q-5` Can you create a identity mattrix of shape (3,4). If yes write code for it."
   ]
  },
  {
   "cell_type": "code",
   "execution_count": 47,
   "metadata": {
    "id": "DTV_AbMS6Zs4"
   },
   "outputs": [
    {
     "name": "stdout",
     "output_type": "stream",
     "text": [
      "[[1. 0. 0.]\n",
      " [0. 1. 0.]\n",
      " [0. 0. 1.]]\n",
      "[[1. 0. 0. 0.]\n",
      " [0. 1. 0. 0.]\n",
      " [0. 0. 1. 0.]\n",
      " [0. 0. 0. 1.]]\n"
     ]
    }
   ],
   "source": [
    "print(np.eye(3))\n",
    "print(np.identity(4))"
   ]
  },
  {
   "cell_type": "markdown",
   "metadata": {
    "id": "QtjAFm5PEntK"
   },
   "source": [
    "### `Q-6:` Create a 5x5 matrix with row values ranging from 0 to 4."
   ]
  },
  {
   "cell_type": "code",
   "execution_count": 14,
   "metadata": {
    "id": "z2WGxRjvEuRS"
   },
   "outputs": [
    {
     "name": "stdout",
     "output_type": "stream",
     "text": [
      "[[0. 1. 2. 3. 4.]\n",
      " [0. 1. 2. 3. 4.]\n",
      " [0. 1. 2. 3. 4.]\n",
      " [0. 1. 2. 3. 4.]\n",
      " [0. 1. 2. 3. 4.]]\n"
     ]
    },
    {
     "data": {
      "text/plain": [
       "'\\n# 2nd \\na = np.tile(np.arange(5), (5, 1))\\nprint(a)\\n\\n# 3rd\\na = np.zeros((5, 5))\\nfor i in range(5):\\n    a[i] = np.arange(5)\\n\\nprint(a)\\n'"
      ]
     },
     "execution_count": 14,
     "metadata": {},
     "output_type": "execute_result"
    }
   ],
   "source": [
    "arr = np.zeros((5, 5))\n",
    "arr += np.arange(5)\n",
    "print(arr)\n",
    "\n",
    "\n",
    "# 2nd \n",
    "#a = np.tile(np.arange(5), (5, 1))\n",
    "#print(a)\n",
    "\n",
    "# 3rd\n",
    "#a = np.zeros((5, 5))\n",
    "#for i in range(5):\n",
    " #   a[i] = np.arange(5)\n",
    "\n",
    "#print(a)\n",
    "'''"
   ]
  },
  {
   "cell_type": "markdown",
   "metadata": {
    "id": "KPpvxKjVHnyx"
   },
   "source": [
    "### `Q-7:`  Consider a random integer (in range 1 to 100) vector with shape `(10,2)` representing coordinates, and coordinates of a point as array is given. Create an array of distance of each point in the random vectros from the given point. Distance array should be interger type.\n",
    "\n",
    "```\n",
    "point = np.array([2,3]) \n",
    "```\n"
   ]
  },
  {
   "cell_type": "code",
   "execution_count": null,
   "metadata": {
    "id": "X7KGnWLNIM6f"
   },
   "outputs": [],
   "source": [
    "#code here"
   ]
  },
  {
   "cell_type": "markdown",
   "metadata": {
    "id": "tajOFJlCDwTr"
   },
   "source": [
    "### `Q-8:` Consider a (6,7,8) shape array, what is the index (x,y,z) of the 100th element?"
   ]
  },
  {
   "cell_type": "code",
   "execution_count": null,
   "metadata": {
    "id": "qH4oxvs0D3Ra"
   },
   "outputs": [],
   "source": [
    "#Code here"
   ]
  },
  {
   "cell_type": "markdown",
   "metadata": {
    "id": "9LxBAbT2Pw33"
   },
   "source": [
    "### `Q-9:` Arrays\n",
    "\n",
    "You are given a space separated list of numbers. Your task is to print a reversed NumPy array with the element type float.\n",
    "\n"
   ]
  },
  {
   "cell_type": "markdown",
   "metadata": {
    "id": "JJpqVms2Nq7L"
   },
   "source": [
    "**Input Format:**\n",
    "\n",
    "A single line of input containing space separated numbers.\n",
    "\n",
    "**Output Format:**\n",
    "\n",
    "Print the reverse NumPy array with type float.\n",
    "\n",
    "**Example 1:**\n",
    "\n",
    "Input:\n",
    "\n",
    "```bash\n",
    "1 2 3 4 -8 -10\n",
    "```\n",
    "\n",
    "Output:\n",
    "\n",
    "```bash\n",
    "[-10.  -8.   4.   3.   2.   1.]\n",
    "```"
   ]
  },
  {
   "cell_type": "code",
   "execution_count": null,
   "metadata": {
    "id": "7iQyg6ChNl3j"
   },
   "outputs": [],
   "source": [
    "#Code here"
   ]
  },
  {
   "cell_type": "markdown",
   "metadata": {
    "id": "TPxD7jM8Sjz9"
   },
   "source": [
    "### `Q-10:` Elements count\n",
    "\n",
    "Count the number of elements of a numpy array.\n",
    "\n"
   ]
  },
  {
   "cell_type": "markdown",
   "metadata": {
    "id": "oHTiTz_jNkAU"
   },
   "source": [
    "**Example 1:**\n",
    "\n",
    "Input:\n",
    "```bash\n",
    "np.array([])\n",
    "```\n",
    "\n",
    "Output:\n",
    "```bash\n",
    "elements_count :  0\n",
    "```\n",
    "\n",
    "**Example 2:**\n",
    "\n",
    "Input:\n",
    "```bash\n",
    "np.array([1, 2])\n",
    "```\n",
    "\n",
    "Output:\n",
    "```bash\n",
    "elements_count :  2\n",
    "```"
   ]
  },
  {
   "cell_type": "code",
   "execution_count": null,
   "metadata": {
    "id": "RG0H2I-TNeGN"
   },
   "outputs": [],
   "source": [
    "#Code here"
   ]
  },
  {
   "cell_type": "markdown",
   "metadata": {
    "id": "pwgPz-3l5ic5"
   },
   "source": [
    "### `Q-11:` Softmax function\n",
    "\n",
    "Create a Python function to calculate the Softmax of the given numpy 1D array. The function only accepts the numpy 1D array, otherwise raise error.\n",
    "\n",
    "$$\\Large \\sigma(\\vec z)_i = \\frac{e^{z_i}}{\\sum_{j=i}^{K}{e^{z_j}}}$$\n",
    "\n",
    "https://en.wikipedia.org/wiki/Softmax_function\n",
    "\n"
   ]
  },
  {
   "cell_type": "markdown",
   "metadata": {
    "id": "eZ3WJt6UM1ul"
   },
   "source": [
    "**Example 1:**\n",
    "\n",
    "Input:\n",
    "```bash\n",
    "[86.03331084 37.7285648  48.64908087 87.16563062 38.40852563 37.20006318]\n",
    "```\n",
    "\n",
    "Output:\n",
    "```bash\n",
    "[2.43733249e-01, 2.56112115e-22, 1.41628284e-17, 7.56266751e-01, \n",
    "       5.05514197e-22, 1.50974911e-22]\n",
    "```\n",
    "\n",
    "**Example 2:**\n",
    "\n",
    "Input:\n",
    "```bash\n",
    "[33.17344305 45.61961654 82.05405781 80.9647098  68.82830233 91.52064278]\n",
    "```\n",
    "\n",
    "Output:\n",
    "```bash\n",
    "[4.57181035e-26, 1.16249923e-20, 7.73872596e-05, 2.60358426e-05,\n",
    "       1.39571531e-10, 9.99896577e-01]\n",
    "```"
   ]
  },
  {
   "cell_type": "code",
   "execution_count": null,
   "metadata": {
    "id": "VNzj05lkNaNi"
   },
   "outputs": [],
   "source": [
    "#Code here"
   ]
  },
  {
   "cell_type": "markdown",
   "metadata": {
    "id": "k4JWSwWu_HXg"
   },
   "source": [
    "### `Q-12:` Vertical stack\n",
    "\n",
    "Write a python function that accepts infinite number of numpy arrays and do the vertical stack to them. Then return that new array as result. The function only accepts the numpy array, otherwise raise error.\n",
    "\n"
   ]
  },
  {
   "cell_type": "markdown",
   "metadata": {
    "id": "XhhV3mraNAWr"
   },
   "source": [
    "**Example 1:**\n",
    "\n",
    "Input:\n",
    "```bash\n",
    "a= [[0 1 2 3 4]\n",
    " [5 6 7 8 9]]\n",
    "\n",
    "b= [[1 1 1 1 1]\n",
    " [1 1 1 1 1]]\n",
    "```\n",
    "\n",
    "Output:\n",
    "\n",
    "```bash\n",
    "[[0 1 2 3 4]\n",
    " [5 6 7 8 9]\n",
    " [1 1 1 1 1]\n",
    " [1 1 1 1 1]]\n",
    "```\n",
    "\n",
    "**Example 2:**\n",
    "\n",
    "Input:\n",
    "```bash\n",
    "a= [[0 1 2 3 4]\n",
    " [5 6 7 8 9]]\n",
    "\n",
    "b= [[1 1 1 1 1]\n",
    " [1 1 1 1 1]]\n",
    "\n",
    "c= [[0.10117373 0.1677244  0.73764059 0.83166097 0.48985695]\n",
    " [0.44581567 0.13502419 0.55692335 0.16479622 0.61193593]] \n",
    "```\n",
    "\n",
    "Output:\n",
    "```bash\n",
    "[[0.         1.         2.         3.         4.        ]\n",
    " [5.         6.         7.         8.         9.        ]\n",
    " [1.         1.         1.         1.         1.        ]\n",
    " [1.         1.         1.         1.         1.        ]\n",
    " [0.10117373 0.1677244  0.73764059 0.83166097 0.48985695]\n",
    " [0.44581567 0.13502419 0.55692335 0.16479622 0.61193593]]\n",
    "```"
   ]
  },
  {
   "cell_type": "code",
   "execution_count": null,
   "metadata": {
    "id": "dhtnbSj6NP8z"
   },
   "outputs": [],
   "source": [
    "#Coder here"
   ]
  },
  {
   "cell_type": "markdown",
   "metadata": {
    "id": "3mk8T6CuC2DP"
   },
   "source": [
    "### `Q-13:` Dates\n",
    "\n",
    "Create a python function named **date_array** that accepts two dates as string format and returns a numpy array of dates between those 2 dates. The function only accept 2 strings, otherwise raise error. The date format should be like this only: `2022-12-6`. The end date should be included and for simplicity, choose dates from a same year.\n",
    "\n"
   ]
  },
  {
   "cell_type": "markdown",
   "metadata": {
    "id": "E3IgjnTTNFEk"
   },
   "source": [
    "**Example 1:**\n",
    "\n",
    "Input:\n",
    "```bash\n",
    "date_array(start = '2020-09-15', end = '2020-09-25')\n",
    "```\n",
    "\n",
    "Output:\n",
    "```bash\n",
    "['2020-09-15', '2020-09-16', '2020-09-17', '2020-09-18',\n",
    " '2020-09-19', '2020-09-20', '2020-09-21', '2020-09-22',\n",
    " '2020-09-23', '2020-09-24', '2020-09-25']\n",
    "```\n",
    "\n",
    "**Example 2:**\n",
    "\n",
    "Input:\n",
    "```bash\n",
    "date_array(start = '2022-12-01', end = '2022-12-06')\n",
    "```\n",
    "\n",
    "Output:\n",
    "```bash\n",
    "['2022-12-01', '2022-12-02', '2022-12-03', '2022-12-04', '2022-12-05', '2022-12-06']\n",
    "```\n",
    "\n",
    "**Example 3:**\n",
    "\n",
    "Input:\n",
    "```bash\n",
    "date_array(start = '2020-11-25', end = '2020-11-30')\n",
    "```\n",
    "\n",
    "Output:\n",
    "```bash\n",
    "['2020-11-25', '2020-11-26', '2020-11-27', '2020-11-28',\n",
    " '2020-11-29', '2020-11-30']\n",
    "```"
   ]
  },
  {
   "cell_type": "code",
   "execution_count": null,
   "metadata": {
    "id": "Yj5PBfQQNTnL"
   },
   "outputs": [],
   "source": [
    "#Code here"
   ]
  },
  {
   "cell_type": "markdown",
   "metadata": {
    "id": "bcEp0wTWQijK"
   },
   "source": [
    "###`Q-14:` Subtract the mean of each row from a matrix."
   ]
  },
  {
   "cell_type": "code",
   "execution_count": null,
   "metadata": {
    "id": "rpILVGcgQzMo"
   },
   "outputs": [],
   "source": [
    "#code here"
   ]
  },
  {
   "cell_type": "markdown",
   "metadata": {
    "id": "A-dMVlPPSBTT"
   },
   "source": [
    "###`Q-15:` Swap column-1 of array with column-2 in the array."
   ]
  },
  {
   "cell_type": "code",
   "execution_count": null,
   "metadata": {
    "id": "3RtngM9-Q6S7"
   },
   "outputs": [],
   "source": [
    "#Code here"
   ]
  },
  {
   "cell_type": "code",
   "execution_count": null,
   "metadata": {
    "id": "ueoMV_LlSnGU"
   },
   "outputs": [],
   "source": []
  },
  {
   "cell_type": "markdown",
   "metadata": {
    "id": "cB4VMexvS6Zi"
   },
   "source": [
    "###`Q-16:` Replace odd elements in arrays with -1."
   ]
  },
  {
   "cell_type": "code",
   "execution_count": null,
   "metadata": {
    "id": "Bt83nXEVS5O4"
   },
   "outputs": [],
   "source": [
    "#Code here"
   ]
  },
  {
   "cell_type": "code",
   "execution_count": null,
   "metadata": {
    "id": "1ZlvMaXLVyoW"
   },
   "outputs": [],
   "source": []
  },
  {
   "cell_type": "markdown",
   "metadata": {
    "id": "kf_qvmBxWIT_"
   },
   "source": [
    "###`Q-17:` Given two arrays of same shape make an array of max out of two arrays. (Numpy way)\n",
    "```\n",
    "a=np.array([6,3,1,5,8])\n",
    "b=np.array([3,2,1,7,2])\n",
    "\n",
    "Result-> [6 3 1 7 8]\n",
    "``` "
   ]
  },
  {
   "cell_type": "code",
   "execution_count": null,
   "metadata": {
    "id": "TB9ZvF-EZSfu"
   },
   "outputs": [],
   "source": [
    "#Code here"
   ]
  },
  {
   "cell_type": "code",
   "execution_count": null,
   "metadata": {
    "id": "D7ad-A6jZzCL"
   },
   "outputs": [],
   "source": []
  },
  {
   "cell_type": "markdown",
   "metadata": {
    "id": "iOQLUIeGc3zA"
   },
   "source": [
    "###`Q-18` Answer below asked questions on given array:\n",
    "1. Fetch Every alternate column of the array\n",
    "2. Normalise the given array\n",
    "\n",
    "https://en.wikipedia.org/wiki/Normalization_(statistics)\n",
    "\n",
    "There are different form of normalisation for this question use below formula.\n",
    "\n",
    "$$\\large X_{normalized} = \\frac{X - X_{min}}{X_{max} - X_{min}}$$\n",
    "\n",
    "```python\n",
    "arr1=np.random.randint(low=1, high=10000, size=40).reshape(8,5)\n",
    "```\n"
   ]
  },
  {
   "cell_type": "code",
   "execution_count": null,
   "metadata": {
    "colab": {
     "base_uri": "https://localhost:8080/"
    },
    "id": "vjSm18k3d_1p",
    "outputId": "83d23b61-d2ae-41bc-e91e-0e0722667521"
   },
   "outputs": [
    {
     "data": {
      "text/plain": [
       "array([[2939, 1694, 6680, 8865, 2684],\n",
       "       [4066, 4573,  327, 6525,  851],\n",
       "       [5997, 7481, 2315, 5863, 9615],\n",
       "       [7821, 1225, 9138, 1114, 4885],\n",
       "       [7715, 8046, 9105, 3935, 3182],\n",
       "       [8842, 4836, 2705, 3751, 3800],\n",
       "       [4132, 1400, 7844, 9471, 7526],\n",
       "       [2749, 2624, 6900, 1576, 7515]])"
      ]
     },
     "execution_count": 34,
     "metadata": {},
     "output_type": "execute_result"
    }
   ],
   "source": [
    "# Given\n",
    "arr1=np.random.randint(low=1, high=10000, size=40).reshape(8,5)\n",
    "arr1"
   ]
  },
  {
   "cell_type": "code",
   "execution_count": null,
   "metadata": {
    "id": "d7u8DB47eBfQ"
   },
   "outputs": [],
   "source": [
    "#Code here"
   ]
  },
  {
   "cell_type": "markdown",
   "metadata": {
    "id": "jCzsVEKLgGNo"
   },
   "source": [
    "###`Q-19:` Write a function which will accept 2 arguments.\n",
    "First: A 1D numpy array arr\n",
    "\n",
    "Second: An integer n {Please make sure n<=len(arr)}\n",
    "\n",
    "Output: The output should be the nth largest item out of the array\n",
    "```\n",
    "# Example1 : arr=(12,34,40,7,1,0) and n=3, the output should be 12\n",
    "# Example2 : arr=(12,34,40,7,1,0) and n=1, the output should be 40\n",
    "```"
   ]
  },
  {
   "cell_type": "code",
   "execution_count": null,
   "metadata": {
    "id": "J4AzkDk7gXSG"
   },
   "outputs": [],
   "source": [
    "#Code here"
   ]
  },
  {
   "cell_type": "markdown",
   "metadata": {
    "id": "ja0xPCgjhBsg"
   },
   "source": [
    "###`Q-20:` Create the following pattern without hardcoding. Use only numpy functions and the below input array a.\n",
    "```\n",
    "# Input: a = np.array([1,2,3])\n",
    "# Output: array([1, 1, 1, 2, 2, 2, 3, 3, 3, 1, 2, 3, 1, 2, 3, 1, 2, 3])\n",
    "```"
   ]
  },
  {
   "cell_type": "code",
   "execution_count": null,
   "metadata": {
    "id": "CndS8TTNhG0F"
   },
   "outputs": [],
   "source": [
    "#code here"
   ]
  }
 ],
 "metadata": {
  "colab": {
   "provenance": []
  },
  "kernelspec": {
   "display_name": "Python 3 (ipykernel)",
   "language": "python",
   "name": "python3"
  },
  "language_info": {
   "codemirror_mode": {
    "name": "ipython",
    "version": 3
   },
   "file_extension": ".py",
   "mimetype": "text/x-python",
   "name": "python",
   "nbconvert_exporter": "python",
   "pygments_lexer": "ipython3",
   "version": "3.10.7"
  }
 },
 "nbformat": 4,
 "nbformat_minor": 1
}
