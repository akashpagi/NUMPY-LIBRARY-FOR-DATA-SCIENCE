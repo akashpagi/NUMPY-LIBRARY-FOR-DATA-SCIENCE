{
 "cells": [
  {
   "cell_type": "markdown",
   "metadata": {
    "id": "J88qfqQEk_sT"
   },
   "source": [
    "### `Q-1:` Create a random 3x4 matrix with value between 0-100. And perform below tasks\n",
    "\n",
    "    i. Sort this matrix. np.sort()\n",
    "    ii. Sort this matrix based on values in 2nd column.\n",
    "    iii. Sort this matrix based on max value in each row.\n",
    "    iv. Sort based on elements value.\n"
   ]
  },
  {
   "cell_type": "markdown",
   "metadata": {
    "id": "xpOwOdhqlE9R"
   },
   "source": [
    "See examples:\n",
    "```\n",
    "arr =\n",
    "    [[92 90 74]\n",
    "    [ 6 63 93]\n",
    "    [15 93 96]\n",
    "    [70 60 48]]\n",
    "```\n",
    "```\n",
    "i. np.sort\n",
    "[[74 90 92]\n",
    " [ 6 63 93]\n",
    " [15 93 96]\n",
    " [48 60 70]]\n",
    "\n",
    "ii. based on 2nd column\n",
    "[[70 60 48]\n",
    " [ 6 63 93]\n",
    " [92 90 74]\n",
    " [15 93 96]]\n",
    "\n",
    "iii. based on row max- ascending\n",
    "[[15 93 96]\n",
    " [ 6 63 93]\n",
    " [92 90 74]\n",
    " [70 60 48]]\n",
    "\n",
    "iv. based on elements value\n",
    "[[ 6 15 48]\n",
    " [60 63 70]\n",
    " [74 90 92]\n",
    " [93 93 96]]\n",
    "\n",
    "```"
   ]
  },
  {
   "cell_type": "code",
   "execution_count": 67,
   "metadata": {
    "id": "Auy-guUwlALv"
   },
   "outputs": [
    {
     "name": "stdout",
     "output_type": "stream",
     "text": [
      "Original matrix:\n",
      "[[99 51 92]\n",
      " [71 69 58]\n",
      " [56 77 30]\n",
      " [33 81 59]]\n",
      "1.sort array :\n",
      "[[51 92 99]\n",
      " [58 69 71]\n",
      " [30 56 77]\n",
      " [33 59 81]]\n"
     ]
    }
   ],
   "source": [
    "# Sort this matrix. np.sort()\n",
    "import numpy as np\n",
    "arr = np.random.randint(0, 100, (4, 3))\n",
    "print(\"Original matrix:\")\n",
    "print(arr)\n",
    "print('1.sort array :')\n",
    "print(np.sort(arr))"
   ]
  },
  {
   "cell_type": "code",
   "execution_count": 68,
   "metadata": {},
   "outputs": [
    {
     "name": "stdout",
     "output_type": "stream",
     "text": [
      "Original matrix:\n",
      "[[96  6 22]\n",
      " [77 65 51]\n",
      " [92 75 24]\n",
      " [15 12 75]]\n",
      "Sort this matrix based on values in 2nd column.\n",
      "[[96  6 22]\n",
      " [15 12 75]\n",
      " [77 65 51]\n",
      " [92 75 24]]\n"
     ]
    }
   ],
   "source": [
    "# Sort this matrix based on values in 2nd column.\n",
    "arr = np.random.randint(0, 100, (4, 3))\n",
    "print(\"Original matrix:\")\n",
    "print(arr)\n",
    "print('Sort this matrix based on values in 2nd column.')\n",
    "print(arr[arr[:, 1].argsort()])"
   ]
  },
  {
   "cell_type": "code",
   "execution_count": 69,
   "metadata": {},
   "outputs": [
    {
     "name": "stdout",
     "output_type": "stream",
     "text": [
      "[[15 12 75]\n",
      " [77 65 51]\n",
      " [92 75 24]\n",
      " [96  6 22]]\n"
     ]
    }
   ],
   "source": [
    "# Sort this matrix based on max value in each row.\n",
    "print(arr[np.argsort(np.max(arr, axis=1))])"
   ]
  },
  {
   "cell_type": "code",
   "execution_count": 70,
   "metadata": {},
   "outputs": [
    {
     "name": "stdout",
     "output_type": "stream",
     "text": [
      "Original matrix:\n",
      "[[54 60 84]\n",
      " [24 17 81]\n",
      " [63 98 75]\n",
      " [34 69 82]]\n",
      "sorted based on max value in each row:\n",
      "[[24 17 81]\n",
      " [34 69 82]\n",
      " [54 60 84]\n",
      " [63 98 75]]\n"
     ]
    }
   ],
   "source": [
    "arr = np.random.randint(0, 100, (4, 3))\n",
    "print(\"Original matrix:\")\n",
    "print(arr)\n",
    "print(\"sorted based on max value in each row:\")\n",
    "print(arr[np.argsort(np.max(arr, axis=1))])"
   ]
  },
  {
   "cell_type": "code",
   "execution_count": 71,
   "metadata": {},
   "outputs": [
    {
     "name": "stdout",
     "output_type": "stream",
     "text": [
      "Original matrix:\n",
      "[[47 36  4]\n",
      " [85 97 83]\n",
      " [59 24 62]\n",
      " [50 64 26]]\n",
      "Sort based on elements value.\n",
      "[[ 4 24 26]\n",
      " [36 47 50]\n",
      " [59 62 64]\n",
      " [83 85 97]]\n"
     ]
    }
   ],
   "source": [
    "# Sort based on elements value.\n",
    "arr = np.random.randint(0, 100, (4, 3))\n",
    "print(\"Original matrix:\")\n",
    "print(arr)\n",
    "print(\"Sort based on elements value.\")\n",
    "print(np.sort(arr,axis=None).flatten().reshape(4,3))"
   ]
  },
  {
   "cell_type": "markdown",
   "metadata": {
    "id": "Jx_I3gx9lBay"
   },
   "source": [
    "### `Q-2:` There is an array of marks of 5 students in 4 subjects. Further you are asked to perform below task.\n",
    "    i. Add marks every student of an extra subject in the same array.\n",
    "    ii. Add two new students marks in respective 5 subjects.(one subject added in above task)\n",
    "    iii. Add extra column with sum of all subjects(5-subjects) marks\n",
    "    iv. Sort the array(non-ascending order) on total marks column--one added in above task. Show top 2 rows.\n",
    "\n",
    "Note: Change dimension of arrays during concatenation or appending if required."
   ]
  },
  {
   "cell_type": "markdown",
   "metadata": {
    "id": "lXF-CE6ylNIw"
   },
   "source": [
    "Given Array-\n",
    "```\n",
    "marks = [[13, 10,  9, 33],\n",
    "       [63, 46, 90, 42],\n",
    "       [39, 76, 13, 29],\n",
    "       [82,  9, 29, 78],\n",
    "       [67, 61, 59, 36]]\n",
    "\n",
    "extra_subject = [41, 87, 72, 36, 92]\n",
    "#Two extra students record-\n",
    "rec1 = [77, 83, 98, 95, 89]\n",
    "rec2 = [92, 71, 52, 61, 53]\n",
    "```"
   ]
  },
  {
   "cell_type": "code",
   "execution_count": 19,
   "metadata": {
    "id": "7YKsWO2olMkq"
   },
   "outputs": [
    {
     "name": "stdout",
     "output_type": "stream",
     "text": [
      "marks :\n",
      "[[13 10  9 33]\n",
      " [63 46 90 42]\n",
      " [39 76 13 29]\n",
      " [82  9 29 78]\n",
      " [67 61 59 36]]\n",
      "extra subject :\n",
      "[[41]\n",
      " [87]\n",
      " [72]\n",
      " [36]\n",
      " [92]]\n",
      "[[77 83 98 95]]\n",
      "[[92 71 52 61]]\n"
     ]
    }
   ],
   "source": [
    "import numpy as np\n",
    "print('marks :')\n",
    "marks = np.array([[13, 10,  9, 33],\n",
    "                  [63, 46, 90, 42],\n",
    "                  [39, 76, 13, 29],\n",
    "                  [82,  9, 29, 78],\n",
    "                  [67, 61, 59, 36]])\n",
    "print(marks)\n",
    "\n",
    "# To match the dimensions we use reshape\n",
    "print('extra subject :')\n",
    "extra_subject = np.array([41, 87, 72, 36, 92]).reshape(-1, 1)\n",
    "print(extra_subject)\n",
    "\n",
    "#Two extra students record-\n",
    "rec1 = np.array([77, 83, 98, 95]).reshape(1, -1)\n",
    "print(rec1)\n",
    "rec2 = np.array([92, 71, 52, 61]).reshape(1, -1)\n",
    "print(rec2)"
   ]
  },
  {
   "cell_type": "code",
   "execution_count": 22,
   "metadata": {},
   "outputs": [
    {
     "name": "stdout",
     "output_type": "stream",
     "text": [
      "[[13 10  9 33 41]\n",
      " [63 46 90 42 87]\n",
      " [39 76 13 29 72]\n",
      " [82  9 29 78 36]\n",
      " [67 61 59 36 92]]\n"
     ]
    }
   ],
   "source": [
    "# Add marks every student of an extra subject in the same array.\n",
    "print(np.concatenate([marks, extra_subject], axis=1))"
   ]
  },
  {
   "cell_type": "code",
   "execution_count": 24,
   "metadata": {},
   "outputs": [
    {
     "name": "stdout",
     "output_type": "stream",
     "text": [
      "[[13 10  9 33]\n",
      " [63 46 90 42]\n",
      " [39 76 13 29]\n",
      " [82  9 29 78]\n",
      " [67 61 59 36]\n",
      " [77 83 98 95]\n",
      " [92 71 52 61]]\n"
     ]
    }
   ],
   "source": [
    "# 2\n",
    "marks = np.concatenate([marks, rec1, rec2], axis = 0)\n",
    "print(marks)"
   ]
  },
  {
   "cell_type": "code",
   "execution_count": 30,
   "metadata": {},
   "outputs": [
    {
     "name": "stdout",
     "output_type": "stream",
     "text": [
      "[[ 13  10   9  33  65]\n",
      " [ 63  46  90  42 241]\n",
      " [ 39  76  13  29 157]\n",
      " [ 82   9  29  78 198]\n",
      " [ 67  61  59  36 223]\n",
      " [ 77  83  98  95 353]\n",
      " [ 92  71  52  61 276]]\n"
     ]
    }
   ],
   "source": [
    "# 3. Add extra column with sum of all subjects(5-subjects) marks\n",
    "sum_of_row = np.sum(marks, axis=1, keepdims=True)\n",
    "marks = np.concatenate([marks, sum_of_row], axis = 1)\n",
    "print(marks)"
   ]
  },
  {
   "cell_type": "code",
   "execution_count": 34,
   "metadata": {},
   "outputs": [
    {
     "name": "stdout",
     "output_type": "stream",
     "text": [
      "[[ 77  83  98  95 353]\n",
      " [ 92  71  52  61 276]]\n"
     ]
    }
   ],
   "source": [
    "# Sort the array(non-ascending order) on total marks column--one added in above task. Show top 2 rows.\n",
    "sort_array = np.array(sorted(marks, key= lambda x:x[-1], reverse=True))\n",
    "print(sort_array[:2])"
   ]
  },
  {
   "cell_type": "markdown",
   "metadata": {
    "id": "VmOyK_8klRqR"
   },
   "source": [
    "### `Q-3:` Find unique arrays from a 2D array column wise and row wise.\n",
    "```\n",
    "arr = np.array([[1,2,3,3,1,1],\n",
    "                [0,9,1,2,8,8],\n",
    "                [1,2,3,8,8,8],\n",
    "                [1,2,3,3,1,1]])\n",
    "```\n",
    "Expected Result-\n",
    "```\n",
    "Row Wise\n",
    "[[0 9 1 2 8 8]\n",
    " [1 2 3 3 1 1]\n",
    " [1 2 3 8 8 8]]\n",
    "\n",
    "Col Wise\n",
    "[[1 1 2 3 3]\n",
    " [0 8 9 1 2]\n",
    " [1 8 2 3 8]\n",
    " [1 1 2 3 3]]\n",
    "```"
   ]
  },
  {
   "cell_type": "code",
   "execution_count": 38,
   "metadata": {
    "id": "LJl10VQrlU5q"
   },
   "outputs": [
    {
     "name": "stdout",
     "output_type": "stream",
     "text": [
      "row wise\n",
      "[[0 9 1 2 8 8]\n",
      " [1 2 3 3 1 1]\n",
      " [1 2 3 8 8 8]]\n",
      "\n",
      "col wise\n",
      "[[1 1 2 3 3]\n",
      " [0 8 9 1 2]\n",
      " [1 8 2 3 8]\n",
      " [1 1 2 3 3]]\n"
     ]
    }
   ],
   "source": [
    "arr = np.array([[1,2,3,3,1,1],\n",
    "                [0,9,1,2,8,8],\n",
    "                [1,2,3,8,8,8],\n",
    "                [1,2,3,3,1,1]])\n",
    "\n",
    "# row wise\n",
    "print('row wise')\n",
    "print(np.unique(arr, axis=0))\n",
    "\n",
    "# col wise\n",
    "print('\\ncol wise')\n",
    "print(np.unique(arr, axis=1))"
   ]
  },
  {
   "cell_type": "markdown",
   "metadata": {
    "id": "RaXwVkywlWY2"
   },
   "source": [
    "### `Q-4:` Flip given 2-D array along both axes at the same time."
   ]
  },
  {
   "cell_type": "code",
   "execution_count": 47,
   "metadata": {
    "id": "mN7-4G8Kleeq"
   },
   "outputs": [
    {
     "name": "stdout",
     "output_type": "stream",
     "text": [
      "arr:\n",
      "[[1 2 3]\n",
      " [4 5 6]]\n",
      "\n",
      "col wise filp :\n",
      "[[4 5 6]\n",
      " [1 2 3]]\n",
      "\n",
      "row wise filp :\n",
      "[[3 2 1]\n",
      " [6 5 4]]\n",
      "\n",
      "both filp :\n",
      "[[6 5 4]\n",
      " [3 2 1]]\n"
     ]
    }
   ],
   "source": [
    "arr = np.array([[1,2,3],\n",
    "                [4,5,6]])\n",
    "print('arr:')\n",
    "print(arr)\n",
    "print('\\ncol wise filp :')\n",
    "print(np.flip(arr, axis=0))\n",
    "print('\\nrow wise filp :')\n",
    "print(np.flip(arr, axis=1))\n",
    "print('\\nboth filp :')\n",
    "print(np.flip(arr)) # or print(np.flip(arr, axis=[0,1]))"
   ]
  },
  {
   "cell_type": "markdown",
   "metadata": {
    "id": "X0S7BUNTlfoq"
   },
   "source": [
    "### `Q-5:` Get row numbers of NumPy array having element larger than X.\n",
    "```\n",
    "arr = [[1,2,3,4,5],\n",
    "      [10,-3,30,4,5],\n",
    "      [3,2,5,-4,5],\n",
    "      [9,7,3,6,5]]\n",
    "\n",
    "X = 6\n",
    "```"
   ]
  },
  {
   "cell_type": "code",
   "execution_count": 52,
   "metadata": {
    "id": "bi8jRmWhlkBU"
   },
   "outputs": [
    {
     "name": "stdout",
     "output_type": "stream",
     "text": [
      "[1 3]\n"
     ]
    }
   ],
   "source": [
    "arr = np.array([[1,2,3,4,5],\n",
    "      [10,-3,30,4,5],\n",
    "      [3,2,5,-4,5],\n",
    "      [9,7,3,6,5]])\n",
    "X = 6\n",
    "mask = arr>X\n",
    "print(np.where(np.any(mask, axis=1))[0])"
   ]
  },
  {
   "cell_type": "markdown",
   "metadata": {
    "id": "DSCQMo4mlnDG"
   },
   "source": [
    "### `Q-6:` How to convert an array of arrays into a flat 1d array?\n"
   ]
  },
  {
   "cell_type": "code",
   "execution_count": 55,
   "metadata": {
    "id": "QZhSkUT2lsJW"
   },
   "outputs": [],
   "source": [
    "# These arrays are given.\n",
    "arr1 = np.arange(3)\n",
    "arr2 = np.arange(3,7)\n",
    "arr3 = np.arange(7,10)"
   ]
  },
  {
   "cell_type": "code",
   "execution_count": 60,
   "metadata": {
    "id": "f42OXNrFls0I"
   },
   "outputs": [
    {
     "name": "stdout",
     "output_type": "stream",
     "text": [
      "[0 1 2 3 4 5 6 7 8 9]\n"
     ]
    }
   ],
   "source": [
    "print(np.concatenate([arr1,arr2,arr3]))"
   ]
  },
  {
   "cell_type": "markdown",
   "metadata": {
    "id": "A1J4oOVCluqO"
   },
   "source": [
    "### `Q-7:` You are given a array. You have to find the minimum and maximum array element and remove that from the array.\n",
    "\n",
    "```python\n",
    "import numpy as np\n",
    "\n",
    "np.random.seed(400)\n",
    "arr = np.random.randint(100, 1000, 200).reshape((1, 200))\n",
    "```"
   ]
  },
  {
   "cell_type": "code",
   "execution_count": 85,
   "metadata": {
    "id": "c6kmgtUJlybZ"
   },
   "outputs": [
    {
     "name": "stdout",
     "output_type": "stream",
     "text": [
      "[[448 563 418 240 507 362 345 236 719 291 298 639 458 387 262 613 267 882\n",
      "  181 425 790 635 889 818 872 967 277 470 336 920 917 295 557 830 506 385\n",
      "  353 975 592 997 137 340 222 215 472 459 617 649 935 956 914 932 645 952\n",
      "  921 490 527 972 278 307 840 958 246 449 251 957 103 627 920 824 356 825\n",
      "  173 323 372 960 710 464 244 782 763 635 436 774 171 469 178 458 624 211\n",
      "  771 270 308 231 952 514 699 702 433 900 373 318 998 265 503 320 230 324\n",
      "  922 967 620 743 527 117 566 804 123 946 587 227 853 757 944 328 855 930\n",
      "  325 729 426 514 296 879 575 936 705 209 191 743 510 513 628 559 658 528\n",
      "  395 525 922 136 496 225 895 975 263 908 420 711 800 976 786 235 930 859\n",
      "  618 226 695 460 218 483 490 803 621 453 193 607 677 637 728 724 534 748\n",
      "  291 194 761 875 687 569 228 482 781 554 654 739 885 197 266 228 892 207\n",
      "  883 588]]\n",
      "Before : 998 103\n",
      "After : 997 117\n"
     ]
    }
   ],
   "source": [
    "import numpy as np\n",
    "\n",
    "np.random.seed(400)\n",
    "arr = np.random.randint(100, 1000, 200).reshape((1, 200))\n",
    "print(arr)\n",
    "\n",
    "max_ele = arr.argmax() # return  index of max element\n",
    "min_ele = arr.argmin() # return index of min element\n",
    "print('Before :',arr.max(), arr.min())\n",
    "\n",
    "arr = np.delete(arr, max_ele, axis=1)\n",
    "arr = np.delete(arr, min_ele, axis=1)\n",
    "print('After :',arr.max(), arr.min())"
   ]
  },
  {
   "cell_type": "markdown",
   "metadata": {
    "id": "0dHN1sdnl0Jy"
   },
   "source": [
    "### `Q-8:` You are given an arrays. You have to limit this array's elements between 100 to 200. $arr ∈ [100, 200]$. So replace those values accordingly with the minimum and maximum value. Then sort the array and perform the cumulative sum of that array."
   ]
  },
  {
   "cell_type": "code",
   "execution_count": 102,
   "metadata": {
    "id": "a3YF_E-Hlza7"
   },
   "outputs": [
    {
     "name": "stdout",
     "output_type": "stream",
     "text": [
      "[ 45 200  76 165 150  23 100 104 143 303 207]\n",
      "[ 100  200  300  400  504  647  797  962 1162 1362 1562]\n"
     ]
    }
   ],
   "source": [
    "#arr = np.random.randint(0, 1000, 100)\n",
    "arr = np.array([45,200,76,165,150,23,100,104,143,303,207])\n",
    "print(arr)\n",
    "arr = np.sort(np.clip(arr, a_min=100, a_max=200))\n",
    "print(np.cumsum(arr))"
   ]
  },
  {
   "cell_type": "markdown",
   "metadata": {
    "id": "cXj90Susl4-I"
   },
   "source": [
    "### `Q-9:` You are given a array ($arr ∈ [0, 1]$). First you have round off the elements upto 3 decimal places and compare that\n",
    "- 0th percentile == minimum value of the array\n",
    "- 100th percentile == maximum value of the array\n",
    "- also find the difference betwen 51th percenile and 50th percentile values"
   ]
  },
  {
   "cell_type": "code",
   "execution_count": 117,
   "metadata": {
    "id": "SgBEHodgl7Lo"
   },
   "outputs": [
    {
     "name": "stdout",
     "output_type": "stream",
     "text": [
      "[0.383 0.435 0.888 0.147 0.136 0.914 0.867 0.839 0.299 0.366 0.284 0.937\n",
      " 0.439 0.822 0.902 0.676 0.102 0.901 0.122 0.56  0.194 0.994 0.985 0.474\n",
      " 0.268 0.294 0.883 0.24  0.996 0.995 0.618 0.256 0.775 0.965 0.77  0.416\n",
      " 0.52  0.669 0.509 0.749 0.154 0.39  0.783 0.644 0.294 0.075 0.737 0.665\n",
      " 0.172 0.989 0.151 0.223 0.83  0.112 0.045 0.295 0.269 0.294 0.507 0.332\n",
      " 0.672 0.817 0.228 0.892 0.671 0.731 0.436 0.272 0.701 0.052 0.939 0.507\n",
      " 0.812 0.137 0.906 0.415 0.556 0.758 0.427 0.949 0.539 0.826 0.924 0.487\n",
      " 0.36  0.632 0.401 0.627 0.455 0.782 0.147 0.022 0.439 0.411 0.378 0.634\n",
      " 0.889 0.048 0.465 0.973]\n",
      "0th percentile is equal to minimum value of the array? :\n",
      "True\n",
      "100th percentile is equal to maximum value of the array? :\n",
      "True\n",
      "difference betwen 51th percenile and 50th percentile values :\n",
      "False\n"
     ]
    }
   ],
   "source": [
    "arr = np.random.random(100)\n",
    "print(np.around(arr, decimals=3))\n",
    "\n",
    "print('0th percentile is equal to minimum value of the array? :')\n",
    "print(np.percentile(arr, 0) == arr.min())\n",
    "\n",
    "print('100th percentile is equal to maximum value of the array? :')\n",
    "print(np.percentile(arr, 100) == arr.max())\n",
    "\n",
    "print('difference betwen 51th percenile and 50th percentile values :')\n",
    "print(np.percentile(arr, 51) == np.percentile(arr, 50))"
   ]
  },
  {
   "cell_type": "code",
   "execution_count": 124,
   "metadata": {},
   "outputs": [
    {
     "name": "stdout",
     "output_type": "stream",
     "text": [
      "8.5\n"
     ]
    }
   ],
   "source": [
    "arr = np.array([7,10, 2, 4, 13, 16])\n",
    "print(np.percentile(arr, 50))"
   ]
  },
  {
   "cell_type": "code",
   "execution_count": 125,
   "metadata": {},
   "outputs": [
    {
     "name": "stdout",
     "output_type": "stream",
     "text": [
      "8\n"
     ]
    }
   ],
   "source": [
    "arr = np.array( [[1,2,3,4,5], [6,7,8,9,10]] )\n",
    "print(arr[1, 2])"
   ]
  },
  {
   "cell_type": "code",
   "execution_count": null,
   "metadata": {},
   "outputs": [],
   "source": []
  }
 ],
 "metadata": {
  "colab": {
   "provenance": []
  },
  "kernelspec": {
   "display_name": "Python 3 (ipykernel)",
   "language": "python",
   "name": "python3"
  },
  "language_info": {
   "codemirror_mode": {
    "name": "ipython",
    "version": 3
   },
   "file_extension": ".py",
   "mimetype": "text/x-python",
   "name": "python",
   "nbconvert_exporter": "python",
   "pygments_lexer": "ipython3",
   "version": "3.10.7"
  }
 },
 "nbformat": 4,
 "nbformat_minor": 1
}
