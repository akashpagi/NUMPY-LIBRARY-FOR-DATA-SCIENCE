{
 "cells": [
  {
   "cell_type": "markdown",
   "id": "84ae5a6e",
   "metadata": {},
   "source": [
    "### SESSION 13 - NumPy Fundamentals\n",
    "#### What is numpy?\n",
    "- NumPy is the fundamental package for scientific computing in Python. \n",
    "- It is a Python library that provides a multidimensional array object, various derived objects (such as masked arrays and matrices), and an assortment of routines for fast operations on arrays, including mathematical, logical, shape manipulation, sorting, selecting, I/O, discrete Fourier transforms, basic linear algebra, basic statistical operations, random simulation and much more.\n",
    "- At the core of the NumPy package, is the ndarray object. This encapsulates n-dimensional arrays of homogeneous data types.\n",
    "\n",
    "#### Numpy Arrays Vs Python Sequences\n",
    "\n",
    "- NumPy arrays have a fixed size at creation, unlike Python lists (which can grow dynamically). Changing the size of an ndarray will create a new array and delete the original.\n",
    "\n",
    "- The elements in a NumPy array are all required to be of the same data type, and thus will be the same size in memory.\n",
    "\n",
    "- NumPy arrays facilitate advanced mathematical and other types of operations on large numbers of data. Typically, such operations are executed more efficiently and with less code than is possible using Python’s built-in sequences.\n",
    "\n",
    "- A growing plethora of scientific and mathematical Python-based packages are using NumPy arrays; though these typically support Python-sequence input, they convert such input to NumPy arrays prior to processing, and they often output NumPy arrays."
   ]
  },
  {
   "cell_type": "markdown",
   "id": "63be6948",
   "metadata": {},
   "source": [
    "#### Creating Numpy Arrays :\n",
    "- There are 2 ways to importing the numpy module :\n",
    "    - **`import numpy as np`**\n",
    "    - **`from numpy import *`**"
   ]
  },
  {
   "cell_type": "code",
   "execution_count": 4,
   "id": "c3b303e7",
   "metadata": {},
   "outputs": [
    {
     "name": "stdout",
     "output_type": "stream",
     "text": [
      "a : [1 2 3 4]\n",
      "type of a : <class 'numpy.ndarray'>\n"
     ]
    }
   ],
   "source": [
    "import numpy as np\n",
    "# it is vector\n",
    "a = np.array([1,2,3,4])\n",
    "print('a :',a)\n",
    "print('type of a :',type(a))"
   ]
  },
  {
   "cell_type": "markdown",
   "id": "088aee40",
   "metadata": {},
   "source": [
    "#### Creating a 2D and 3D numpy arrays:"
   ]
  },
  {
   "cell_type": "code",
   "execution_count": 8,
   "id": "c912bf42",
   "metadata": {},
   "outputs": [
    {
     "name": "stdout",
     "output_type": "stream",
     "text": [
      "2D: [[1 2 3]\n",
      " [4 5 6]]\n"
     ]
    }
   ],
   "source": [
    "from numpy import *\n",
    "# 2D array (it is matrix)\n",
    "b = array([[1,2,3],[4,5,6]])\n",
    "print('2D:',b)"
   ]
  },
  {
   "cell_type": "code",
   "execution_count": 11,
   "id": "fb3646ce",
   "metadata": {},
   "outputs": [
    {
     "name": "stdout",
     "output_type": "stream",
     "text": [
      "[[[ 2 17]\n",
      "  [45 78]]\n",
      "\n",
      " [[88 92]\n",
      "  [60 76]]\n",
      "\n",
      " [[76 33]\n",
      "  [20 18]]]\n"
     ]
    }
   ],
   "source": [
    "# 3D array (it is tensor)\n",
    "c = array([[[2,17], [45, 78]], [[88, 92], [60, 76]],[[76,33],[20,18]]])\n",
    "print(c)"
   ]
  },
  {
   "cell_type": "markdown",
   "id": "90b4bd97",
   "metadata": {},
   "source": [
    "#### Creating a numpy with different `dtype`:"
   ]
  },
  {
   "cell_type": "code",
   "execution_count": 14,
   "id": "fbcabf25",
   "metadata": {},
   "outputs": [
    {
     "name": "stdout",
     "output_type": "stream",
     "text": [
      "float : [1. 2. 3. 4.]\n",
      "complex : [1.+0.j 2.+0.j 3.+0.j 4.+0.j]\n",
      "boolean : [ True  True False  True]\n"
     ]
    }
   ],
   "source": [
    "f = array([1,2,3,4] , dtype=float)\n",
    "c = array([1,2,3,4] , dtype=complex)\n",
    "tf = array([1,2,0,4] , dtype=bool) # non integer value consider as True\n",
    "print('float :',f)\n",
    "print('complex :',c)\n",
    "print('boolean :',tf)"
   ]
  },
  {
   "cell_type": "markdown",
   "id": "2294c6c3",
   "metadata": {},
   "source": [
    "#### .arange() function :\n",
    "- The Numpy arange function **generates a NumPy array** with evenly spaced values based on the start and stops intervals specified upon declaration.\n",
    "- To use the arange function, we will create a new script with the NumPy library imported as np.\n",
    "- Next, we will declare a new variable number and set this equal to np. arange().\n",
    "- **Syntax :** `numpy.arange([start],stop,[step],dtype=None)`"
   ]
  },
  {
   "cell_type": "code",
   "execution_count": 23,
   "id": "d3b5fe6e",
   "metadata": {},
   "outputs": [
    {
     "name": "stdout",
     "output_type": "stream",
     "text": [
      "[5 6 7 8 9]\n",
      "[5 7 9]\n"
     ]
    }
   ],
   "source": [
    "from numpy import *\n",
    "e = arange(5,10)\n",
    "e1 = arange(5,10,2)\n",
    "print(e)\n",
    "print(e1)"
   ]
  },
  {
   "cell_type": "markdown",
   "id": "259b2894",
   "metadata": {},
   "source": [
    "#### .reshape() function :\n",
    "- The numpy.reshape() function is used to **change the shape (dimensions) of an array without changing its data.** \n",
    "- This function **returns a new array with the same data but with a different shape.**\n",
    "- The numpy.reshape() function is useful when we need to change the dimensions of an array.\n",
    "- **for example,** when we want to convert a one-dimensional array into a two-dimensional array or vice versa. \n",
    "- It can also be used to create arrays with a specific shape, such as matrices and tensors.\n",
    "- **Syntax :** `numpy.reshape(a, newshape, order='C')`\n",
    "    - **a :** This is the source array which we want to reshape.\n",
    "    - **new_shape:** The shape in which we want to convert our original array should be compatible with the original array.\n",
    "    - **order:** {'C', 'F', 'A'}, optional  \n",
    "- **NOTE:** the both product of the array number is equal to number of item that are present in inside the array."
   ]
  },
  {
   "cell_type": "code",
   "execution_count": 7,
   "id": "88c67d58",
   "metadata": {},
   "outputs": [
    {
     "name": "stdout",
     "output_type": "stream",
     "text": [
      "[[ 1  2  3  4  5  6]\n",
      " [ 7  8  9 10 11 12]]\n",
      "[[ 1  2]\n",
      " [ 3  4]\n",
      " [ 5  6]\n",
      " [ 7  8]\n",
      " [ 9 10]\n",
      " [11 12]]\n",
      "[[ 1  2  3  4]\n",
      " [ 5  6  7  8]\n",
      " [ 9 10 11 12]]\n"
     ]
    }
   ],
   "source": [
    "from numpy import *\n",
    "r = arange(1,13)\n",
    "re = reshape(r,(2,6))\n",
    "print(re)\n",
    "re1 = reshape(r,(6,2))\n",
    "print(re1)\n",
    "re3 = reshape(r,(3,4))\n",
    "print(re3)"
   ]
  },
  {
   "cell_type": "markdown",
   "id": "d37645a7",
   "metadata": {},
   "source": [
    "#### numpy.ones() function :\n",
    "- Python numpy.ones() function returns a new array of given shape and data type, where the element’s value is set to 1.\n",
    "- **For example,**It is useful in deep learning to intialize the weights values\n",
    "- **syntax**: `ones(shape, dtype=None, order='C')`"
   ]
  },
  {
   "cell_type": "code",
   "execution_count": 8,
   "id": "6b2bc9ad",
   "metadata": {},
   "outputs": [
    {
     "name": "stdout",
     "output_type": "stream",
     "text": [
      "[[1 1 1 1]\n",
      " [1 1 1 1]]\n"
     ]
    }
   ],
   "source": [
    "from numpy import *\n",
    "o = ones((2,4), dtype=int)\n",
    "print(o)"
   ]
  },
  {
   "cell_type": "markdown",
   "id": "1f81ebcc",
   "metadata": {},
   "source": [
    "#### .zeros() function :\n",
    "- Python numpy.zeros() function returns a new array of given shape and type, where the element’s value as 0.\n",
    "- The elements are having the default data type as the float. That’s why the zeros are 0.\n",
    "- **syntax**: `zeros(shape, dtype=None, order='C')`"
   ]
  },
  {
   "cell_type": "code",
   "execution_count": 9,
   "id": "42048bc7",
   "metadata": {},
   "outputs": [
    {
     "name": "stdout",
     "output_type": "stream",
     "text": [
      "[[0 0 0]\n",
      " [0 0 0]\n",
      " [0 0 0]]\n"
     ]
    }
   ],
   "source": [
    "from numpy import *\n",
    "z = zeros((3,3), dtype=int)\n",
    "print(z)"
   ]
  },
  {
   "cell_type": "markdown",
   "id": "bd4d4d80",
   "metadata": {},
   "source": [
    "#### numpy.random.random() function :\n",
    "- The functions which are used for generating random numbers.\n",
    "- here 1st random is class name and other one is method name follows OOP concept"
   ]
  },
  {
   "cell_type": "code",
   "execution_count": 21,
   "id": "c3f087e1",
   "metadata": {},
   "outputs": [
    {
     "name": "stdout",
     "output_type": "stream",
     "text": [
      "[[0.73965092 0.1750063  0.19822543]\n",
      " [0.8223754  0.01410322 0.01425468]\n",
      " [0.11114968 0.69797665 0.48849288]]\n"
     ]
    }
   ],
   "source": [
    "from numpy import *\n",
    "# creating default random varible between 0 to 1\n",
    "r = random.random((3,3))\n",
    "print(r)"
   ]
  },
  {
   "cell_type": "markdown",
   "id": "4c40adce",
   "metadata": {},
   "source": [
    "#### .linspace() function : (Linear/ linearly space)\n",
    "- NumPy function that returns evenly spaced numbers over a specified interval.\n",
    "- Use plotting ther ML algorithm result.\n",
    "- **syntax :** - `linspace(start, stop, num=50, dtype=None, axis=0)` \n",
    "    - **start:** The starting value of the sequence.\n",
    "    - **stop:** The end value of the sequence, unless endpoint is set to False.\n",
    "    - **num:** The number of evenly spaced numbers to generate. Default is 50.\n",
    "    - **axis:** The axis along which to generate the evenly spaced numbers. Default is 0."
   ]
  },
  {
   "cell_type": "code",
   "execution_count": 40,
   "id": "a3d93cc5",
   "metadata": {},
   "outputs": [
    {
     "name": "stdout",
     "output_type": "stream",
     "text": [
      "[ 1.    3.25  5.5   7.75 10.  ]\n"
     ]
    }
   ],
   "source": [
    "from numpy import *\n",
    "ls = linspace(1,10,5)\n",
    "print(ls)"
   ]
  },
  {
   "cell_type": "markdown",
   "id": "bcb0cfb3",
   "metadata": {},
   "source": [
    "#### .identity() function :\n",
    "- Returns a square identity matrix of size n x n.\n",
    "- means digonally items are 1 and remaing are all 0's\n",
    "- **syntax:** `numpy.identity(n, dtype=None)`\n",
    "    - **n:** The size of the identity matrix to be generated.\n",
    "    - **dtype:** The data type of the output array and default is float."
   ]
  },
  {
   "cell_type": "code",
   "execution_count": 1,
   "id": "730286aa",
   "metadata": {
    "scrolled": true
   },
   "outputs": [
    {
     "name": "stdout",
     "output_type": "stream",
     "text": [
      "[[1 0 0]\n",
      " [0 1 0]\n",
      " [0 0 1]]\n"
     ]
    }
   ],
   "source": [
    "from numpy import *\n",
    "i = identity(3, dtype=int)\n",
    "print(i)"
   ]
  },
  {
   "cell_type": "markdown",
   "id": "7b527976",
   "metadata": {},
   "source": [
    "#### Numpy Arrays Attributes of a Numpy Array\n",
    "- NumPy array (ndarray class) is the most used construct of NumPy in Machine Learning and Deep Learning. Let us look into some important attributes of this NumPy array."
   ]
  },
  {
   "cell_type": "code",
   "execution_count": 4,
   "id": "a28cb504",
   "metadata": {},
   "outputs": [
    {
     "name": "stdout",
     "output_type": "stream",
     "text": [
      "[0 1 2 3 4 5 6 7 8 9]\n",
      "[[ 0.  1.  2.  3.]\n",
      " [ 4.  5.  6.  7.]\n",
      " [ 8.  9. 10. 11.]]\n",
      "[[[0 1]\n",
      "  [2 3]]\n",
      "\n",
      " [[4 5]\n",
      "  [6 7]]]\n"
     ]
    }
   ],
   "source": [
    "from numpy import *\n",
    "a1 = arange(10)\n",
    "a2 = arange(12,dtype=float).reshape(3,4)\n",
    "a3 = arange(8).reshape(2,2,2)\n",
    "print(a1)\n",
    "print(a2)\n",
    "print(a3)"
   ]
  },
  {
   "cell_type": "markdown",
   "id": "8a0970cb",
   "metadata": {},
   "source": [
    "#### .ndim attribute\n",
    "- In NumPy, **.ndim** is a function that returns the number of dimensions of a given NumPy array.."
   ]
  },
  {
   "cell_type": "code",
   "execution_count": 5,
   "id": "87046374",
   "metadata": {},
   "outputs": [
    {
     "name": "stdout",
     "output_type": "stream",
     "text": [
      "1\n",
      "2\n",
      "3\n"
     ]
    }
   ],
   "source": [
    "print(a1.ndim)\n",
    "print(a2.ndim)\n",
    "print(a3.ndim)"
   ]
  },
  {
   "cell_type": "markdown",
   "id": "dc8efd66",
   "metadata": {},
   "source": [
    "#### .shape attribute\n",
    "- In NumPy, the **.shape** attribute of a NumPy array is used to determine the dimensions of the array. \n",
    "- It returns a tuple of integers that represent the size of the array in each dimension."
   ]
  },
  {
   "cell_type": "code",
   "execution_count": 6,
   "id": "9ad75e5c",
   "metadata": {},
   "outputs": [
    {
     "name": "stdout",
     "output_type": "stream",
     "text": [
      "(10,)\n",
      "(3, 4)\n",
      "(2, 2, 2)\n"
     ]
    }
   ],
   "source": [
    "print(a1.shape)\n",
    "print(a2.shape)\n",
    "print(a3.shape)"
   ]
  },
  {
   "cell_type": "markdown",
   "id": "b2a8beef",
   "metadata": {},
   "source": [
    "####  .size attribute\n",
    "- In NumPy, **.size** is an attribute of a NumPy array that returns the total number of elements in the array."
   ]
  },
  {
   "cell_type": "code",
   "execution_count": 7,
   "id": "36b48f66",
   "metadata": {},
   "outputs": [
    {
     "name": "stdout",
     "output_type": "stream",
     "text": [
      "10\n",
      "12\n",
      "8\n"
     ]
    }
   ],
   "source": [
    "print(a1.size)\n",
    "print(a2.size)\n",
    "print(a3.size)"
   ]
  },
  {
   "cell_type": "markdown",
   "id": "980e7be2",
   "metadata": {},
   "source": [
    "####  .itemsize attribute\n",
    "- In NumPy, **.itemsize** is an attribute of a NumPy array that returns the size (in bytes) of each element in the array.\n",
    "- Shows occupation of memory of the each item of inside the array "
   ]
  },
  {
   "cell_type": "code",
   "execution_count": 8,
   "id": "05e8c596",
   "metadata": {},
   "outputs": [
    {
     "name": "stdout",
     "output_type": "stream",
     "text": [
      "4\n",
      "8\n",
      "4\n"
     ]
    }
   ],
   "source": [
    "print(a1.itemsize)\n",
    "print(a2.itemsize)\n",
    "print(a3.itemsize)"
   ]
  },
  {
   "cell_type": "markdown",
   "id": "a326d231",
   "metadata": {},
   "source": [
    "#### .dtype attribute\n",
    "- In NumPy,**.dtype** is an attribute of a NumPy array that returns the data type of the elements in the array."
   ]
  },
  {
   "cell_type": "code",
   "execution_count": 9,
   "id": "8ff46c48",
   "metadata": {},
   "outputs": [
    {
     "name": "stdout",
     "output_type": "stream",
     "text": [
      "int32\n",
      "float64\n",
      "int32\n"
     ]
    }
   ],
   "source": [
    "print(a1.dtype)\n",
    "print(a2.dtype)\n",
    "print(a3.dtype)"
   ]
  },
  {
   "cell_type": "markdown",
   "id": "612ac03b",
   "metadata": {},
   "source": [
    "#### Changing datatype using .astype() method :\n",
    "- **.astype()** is a method of a NumPy array that is used to **change the data type of the elements in the array.**\n",
    "- More useful in converting the Float datatype reduction in integer value "
   ]
  },
  {
   "cell_type": "code",
   "execution_count": 43,
   "id": "7214c23a",
   "metadata": {},
   "outputs": [
    {
     "name": "stdout",
     "output_type": "stream",
     "text": [
      "a2 dtype : float64\n",
      "[[ 0.  1.  2.  3.]\n",
      " [ 4.  5.  6.  7.]\n",
      " [ 8.  9. 10. 11.]]\n",
      "[[ 0  1  2  3]\n",
      " [ 4  5  6  7]\n",
      " [ 8  9 10 11]]\n",
      "a2 dtype : int32\n"
     ]
    }
   ],
   "source": [
    "print('a2 dtype :',a2.dtype)\n",
    "print(a2)\n",
    "change_dtype = a2.astype(int32)\n",
    "print(change_dtype)\n",
    "print('a2 dtype :',change_dtype.dtype)"
   ]
  },
  {
   "cell_type": "markdown",
   "id": "fe572849",
   "metadata": {},
   "source": [
    "#### Numpy Array Operations :\n",
    "- Use for perfroming mathematical operation "
   ]
  },
  {
   "cell_type": "code",
   "execution_count": 3,
   "id": "0946affb",
   "metadata": {},
   "outputs": [
    {
     "name": "stdout",
     "output_type": "stream",
     "text": [
      "[[ 0  1  2  3]\n",
      " [ 4  5  6  7]\n",
      " [ 8  9 10 11]]\n",
      "[[12 13 14 15]\n",
      " [16 17 18 19]\n",
      " [20 21 22 23]]\n"
     ]
    }
   ],
   "source": [
    "from numpy import *\n",
    "a1 = arange(12).reshape(3,4)\n",
    "a2 = arange(12,24).reshape(3,4)\n",
    "print(a1)\n",
    "print(a2)"
   ]
  },
  {
   "cell_type": "markdown",
   "id": "8b50a318",
   "metadata": {},
   "source": [
    "#### Scalar Operations:\n",
    "- A scalar operation is an **operation between a scalar value (a single number) and an array.**\n",
    "- In NumPy, scalar operations can be performed using arithmetic operators such as +, -, *, and /. \n",
    "- When a scalar value is added to an array, the scalar value is added to each element in the array."
   ]
  },
  {
   "cell_type": "code",
   "execution_count": 18,
   "id": "b2cb4e6f",
   "metadata": {},
   "outputs": [
    {
     "name": "stdout",
     "output_type": "stream",
     "text": [
      "Addintion of 2 to each element of array :\n",
      "[[ 2  3  4  5]\n",
      " [ 6  7  8  9]\n",
      " [10 11 12 13]]\n",
      "Multiply by 2 to each element of array :\n",
      "[[ 0  2  4  6]\n",
      " [ 8 10 12 14]\n",
      " [16 18 20 22]]\n",
      "Division by 2 to each element of array :\n",
      "[[0.  0.5 1.  1.5]\n",
      " [2.  2.5 3.  3.5]\n",
      " [4.  4.5 5.  5.5]]\n",
      "Power of each element of array :\n",
      "[[  0   1   4   9]\n",
      " [ 16  25  36  49]\n",
      " [ 64  81 100 121]]\n"
     ]
    }
   ],
   "source": [
    "from numpy import *\n",
    "print('Addintion of 2 to each element of array :')\n",
    "print(a1 + 2)\n",
    "print('Multiply by 2 to each element of array :')\n",
    "print(a1 * 2)\n",
    "print('Division by 2 to each element of array :')\n",
    "print(a1 / 2)\n",
    "print('Power of each element of array :')\n",
    "print(a1 ** 2)"
   ]
  },
  {
   "cell_type": "markdown",
   "id": "6f8ac788",
   "metadata": {},
   "source": [
    "#### Relational Operators : \n",
    "- In NumPy, relational operations are performed between arrays and return boolean arrays that indicate whether each element in the array satisfies a given condition.\n",
    "\n",
    "#### Comparison Operations:\n",
    "- NumPy provides comparison operators such as ==, !=, <, >, <=, and >= for comparing elements in two arrays. \n",
    "- These operations return a boolean array with the same shape as the input arrays, where True indicates that the condition is satisfied, and False indicates that it is not."
   ]
  },
  {
   "cell_type": "code",
   "execution_count": 19,
   "id": "519cab17",
   "metadata": {},
   "outputs": [
    {
     "name": "stdout",
     "output_type": "stream",
     "text": [
      "[[ True  True  True  True]\n",
      " [ True  True  True  True]\n",
      " [ True  True  True  True]]\n",
      "[[False False  True False]\n",
      " [False False False False]\n",
      " [False False False False]]\n"
     ]
    }
   ],
   "source": [
    "print(a1 >= 0)\n",
    "print(a1 == 2)"
   ]
  },
  {
   "cell_type": "markdown",
   "id": "1e6a194f",
   "metadata": {},
   "source": [
    "#### Vector Operations:\n",
    "- A vector operation is an **operation between two arrays of the same size.** \n",
    "- In NumPy, vector operations can also be performed using arithmetic operators. \n",
    "- When two arrays are added, the corresponding elements in each array are added together. \n",
    "- Similarly, for subtraction and multiplication, the corresponding elements in each array are subtracted and multiplied.\n",
    "- **Note :** It's important to note that vector operations can only be performed on arrays of the same shape. If the arrays have different shapes, NumPy will raise a ValueError."
   ]
  },
  {
   "cell_type": "code",
   "execution_count": 26,
   "id": "22b19756",
   "metadata": {},
   "outputs": [
    {
     "name": "stdout",
     "output_type": "stream",
     "text": [
      "[[ 0  1  2  3]\n",
      " [ 4  5  6  7]\n",
      " [ 8  9 10 11]]\n",
      "[[12 13 14 15]\n",
      " [16 17 18 19]\n",
      " [20 21 22 23]]\n",
      "Adds corresponding elements in arrays a1 and a2 :\n",
      "[[12 14 16 18]\n",
      " [20 22 24 26]\n",
      " [28 30 32 34]]\n",
      "Subtracts corresponding elements in arrays a1 and a2 :\n",
      "[[-12 -12 -12 -12]\n",
      " [-12 -12 -12 -12]\n",
      " [-12 -12 -12 -12]]\n",
      "Multiplication corresponding elements in arrays a1 and a2 :\n",
      "[[  0  13  28  45]\n",
      " [ 64  85 108 133]\n",
      " [160 189 220 253]]\n",
      "Division corresponding elements in arrays a1 and a2 :\n",
      "[[0.         0.07692308 0.14285714 0.2       ]\n",
      " [0.25       0.29411765 0.33333333 0.36842105]\n",
      " [0.4        0.42857143 0.45454545 0.47826087]]\n",
      "Power corresponding elements in arrays a1 and a2 :\n",
      "[[          0           1       16384    14348907]\n",
      " [          0 -1564725563  1159987200   442181591]\n",
      " [          0  1914644777 -1304428544  -122979837]]\n"
     ]
    }
   ],
   "source": [
    "from numpy import *\n",
    "print(a1)\n",
    "print(a2)\n",
    "print('Adds corresponding elements in arrays a1 and a2 :')\n",
    "print(a1 + a2)\n",
    "print('Subtracts corresponding elements in arrays a1 and a2 :')\n",
    "print(a1 - a2)\n",
    "print('Multiplication corresponding elements in arrays a1 and a2 :')\n",
    "print(a1 * a2)\n",
    "print('Division corresponding elements in arrays a1 and a2 :')\n",
    "print(a1 / a2)\n",
    "print('Power corresponding elements in arrays a1 and a2 :')\n",
    "print(a1 ** a2)"
   ]
  },
  {
   "cell_type": "markdown",
   "id": "d755c761",
   "metadata": {},
   "source": [
    "#### Numpy Array Function :\n",
    "**max() / min() / sum() / prod():**"
   ]
  },
  {
   "cell_type": "code",
   "execution_count": 3,
   "id": "472f11f8",
   "metadata": {},
   "outputs": [
    {
     "data": {
      "text/plain": [
       "array([[71., 86., 43.],\n",
       "       [92., 45., 60.],\n",
       "       [34., 61., 37.]])"
      ]
     },
     "execution_count": 3,
     "metadata": {},
     "output_type": "execute_result"
    }
   ],
   "source": [
    "import numpy as np\n",
    "a1 = np.random.random((3,3))\n",
    "a1 = np.round(a1*100)\n",
    "a1"
   ]
  },
  {
   "cell_type": "code",
   "execution_count": 4,
   "id": "3b2d9902",
   "metadata": {},
   "outputs": [
    {
     "name": "stdout",
     "output_type": "stream",
     "text": [
      "92.0\n",
      "34.0\n",
      "529.0\n",
      "5004806869713600.0\n"
     ]
    }
   ],
   "source": [
    "print(np.max(a1))\n",
    "print(np.min(a1))\n",
    "print(np.sum(a1))\n",
    "print(np.prod(a1))"
   ]
  },
  {
   "cell_type": "code",
   "execution_count": 5,
   "id": "66a98a89",
   "metadata": {},
   "outputs": [
    {
     "name": "stdout",
     "output_type": "stream",
     "text": [
      "[86. 92. 61.]\n"
     ]
    }
   ],
   "source": [
    "# find maximum of each columns or rows\n",
    "# 0 reprents column and 1 represents row\n",
    "print(np.max(a1,axis=1))"
   ]
  },
  {
   "cell_type": "markdown",
   "id": "1d871aa5",
   "metadata": {},
   "source": [
    "**mean() / median() / std() / var():**"
   ]
  },
  {
   "cell_type": "code",
   "execution_count": 17,
   "id": "234365d5",
   "metadata": {},
   "outputs": [
    {
     "name": "stdout",
     "output_type": "stream",
     "text": [
      "391.95061728395063\n",
      "58.77777777777778\n",
      "60.0\n"
     ]
    }
   ],
   "source": [
    "print(np.var(a1))\n",
    "print(np.mean(a1))\n",
    "print(np.median(a1))"
   ]
  },
  {
   "cell_type": "markdown",
   "id": "02462553",
   "metadata": {},
   "source": [
    "**dot product :**\n",
    "- The condition to identify whether two vectors can be dot-multiplied is that they must have the same dimensionality.\n",
    "- In numpy, you can compute the dot product of two arrays using the dot() function. \n",
    "- The dot() function takes two array arguments and returns their dot product."
   ]
  },
  {
   "cell_type": "code",
   "execution_count": 18,
   "id": "2ad6bca0",
   "metadata": {},
   "outputs": [
    {
     "name": "stdout",
     "output_type": "stream",
     "text": [
      "[[ 0  1  2  3]\n",
      " [ 4  5  6  7]\n",
      " [ 8  9 10 11]]\n",
      "[[12 13 14]\n",
      " [15 16 17]\n",
      " [18 19 20]\n",
      " [21 22 23]]\n"
     ]
    }
   ],
   "source": [
    "import numpy as np\n",
    "a3 = np.arange(12).reshape(3,4)\n",
    "a4 = np.arange(12,24).reshape(4,3)\n",
    "print(a3)\n",
    "print(a4)"
   ]
  },
  {
   "cell_type": "code",
   "execution_count": 19,
   "id": "ee911f14",
   "metadata": {},
   "outputs": [
    {
     "name": "stdout",
     "output_type": "stream",
     "text": [
      "[[114 120 126]\n",
      " [378 400 422]\n",
      " [642 680 718]]\n"
     ]
    }
   ],
   "source": [
    "dp = np.dot(a3,a4)\n",
    "print(dp)"
   ]
  },
  {
   "cell_type": "code",
   "execution_count": 20,
   "id": "92d56ff2",
   "metadata": {},
   "outputs": [
    {
     "name": "stdout",
     "output_type": "stream",
     "text": [
      "[[12 13 14]\n",
      " [15 16 17]\n",
      " [18 19 20]\n",
      " [21 22 23]]\n"
     ]
    }
   ],
   "source": [
    "print(a4)"
   ]
  },
  {
   "cell_type": "code",
   "execution_count": null,
   "id": "9a7da9fb",
   "metadata": {},
   "outputs": [],
   "source": [
    "**log and exponemts**"
   ]
  },
  {
   "cell_type": "code",
   "execution_count": null,
   "id": "dd3c7434",
   "metadata": {},
   "outputs": [],
   "source": []
  },
  {
   "cell_type": "code",
   "execution_count": null,
   "id": "1569906b",
   "metadata": {},
   "outputs": [],
   "source": []
  },
  {
   "cell_type": "code",
   "execution_count": null,
   "id": "feb7c3bd",
   "metadata": {},
   "outputs": [],
   "source": []
  },
  {
   "cell_type": "code",
   "execution_count": null,
   "id": "7d9f6c1d",
   "metadata": {},
   "outputs": [],
   "source": []
  },
  {
   "cell_type": "code",
   "execution_count": null,
   "id": "43d595ba",
   "metadata": {},
   "outputs": [],
   "source": []
  },
  {
   "cell_type": "code",
   "execution_count": null,
   "id": "caa85c23",
   "metadata": {},
   "outputs": [],
   "source": []
  },
  {
   "cell_type": "code",
   "execution_count": null,
   "id": "92c321a3",
   "metadata": {},
   "outputs": [],
   "source": []
  },
  {
   "cell_type": "code",
   "execution_count": null,
   "id": "5d812a46",
   "metadata": {},
   "outputs": [],
   "source": []
  }
 ],
 "metadata": {
  "kernelspec": {
   "display_name": "Python 3 (ipykernel)",
   "language": "python",
   "name": "python3"
  },
  "language_info": {
   "codemirror_mode": {
    "name": "ipython",
    "version": 3
   },
   "file_extension": ".py",
   "mimetype": "text/x-python",
   "name": "python",
   "nbconvert_exporter": "python",
   "pygments_lexer": "ipython3",
   "version": "3.10.7"
  }
 },
 "nbformat": 4,
 "nbformat_minor": 5
}
