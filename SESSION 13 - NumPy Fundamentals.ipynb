{
 "cells": [
  {
   "cell_type": "markdown",
   "id": "84ae5a6e",
   "metadata": {},
   "source": [
    "### SESSION 13 - NumPy Fundamentals\n",
    "\n",
    "### **What is NumPy ?**\n",
    "\n",
    "- NumPy is the fundamental **package for scientific computing in Python.**\n",
    "\n",
    "- It is a Python **library that provides a multidimensional array object, various derived objects (such as masked arrays and matrices), and an assortment of routines for fast operations on arrays, including mathematical, logical, shape manipulation, sorting, selecting, I/O, discrete Fourier transforms, basic linear algebra, basic statistical operations, random simulation and much more.**\n",
    "\n",
    "- At the core of the NumPy package, is the **ndarray object.**\n",
    "\n",
    "- This **encapsulates n-dimensional arrays of homogeneous data types.**\n",
    "\n",
    "\n",
    "### **Numpy Arrays Vs Python Sequences :**\n",
    "\n",
    "\n",
    "- NumPy arrays have a fixed size at creation, unlike Python lists (which can grow dynamically). Changing the size of an ndarray will create a new array and delete the original.\n",
    "\n",
    "- The elements in a NumPy array are all required to be of the same data type (homogeneous), and thus will be the same size in memory.\n",
    "\n",
    "- NumPy arrays facilitate advanced mathematical and other types of operations on large numbers of data. Typically, such operations are executed more efficiently and with less code than is possible using Python’s built-in sequences.\n",
    "\n",
    "- A growing plethora of scientific and mathematical Python-based packages are using NumPy arrays; though these typically support Python-sequence input, they convert such input to NumPy arrays prior to processing, and they often output NumPy arrays."
   ]
  },
  {
   "cell_type": "markdown",
   "id": "63be6948",
   "metadata": {},
   "source": [
    "### Creating Numpy Arrays :\n",
    "- NumPy is used to work with arrays. The array object in NumPy is called ndarray.\n",
    "\n",
    "- We can create a NumPy ndarray object by using the array() function.\n",
    "\n",
    "- There are 2 ways to importing the numpy module :\n",
    "    - **import numpy as np**\n",
    "    - **from numpy import***"
   ]
  },
  {
   "cell_type": "code",
   "execution_count": 32,
   "id": "c3b303e7",
   "metadata": {},
   "outputs": [
    {
     "name": "stdout",
     "output_type": "stream",
     "text": [
      "a : [1 2 3 4]\n"
     ]
    }
   ],
   "source": [
    "# Importing the NumPy library & rename as np\n",
    "import numpy as np\n",
    "a = np.array([1,2,3,4])\n",
    "# It's output called as vector or 1D array\n",
    "print('a :',a)"
   ]
  },
  {
   "cell_type": "code",
   "execution_count": 33,
   "id": "bf940063",
   "metadata": {},
   "outputs": [
    {
     "name": "stdout",
     "output_type": "stream",
     "text": [
      "b : [1 2 3 4]\n"
     ]
    }
   ],
   "source": [
    "# Importing the NumPy library using 2nd way\n",
    "from numpy import *  \n",
    "b = array([1,2,3,4])\n",
    "print('b :',b)"
   ]
  },
  {
   "cell_type": "markdown",
   "id": "088aee40",
   "metadata": {},
   "source": [
    "### Creating a 2D and 3D numpy arrays:\n",
    "\n",
    "**2D Array :** \n",
    "- 2D array are represented as collection of rows and columns.\n",
    "- In machine learning and data science NumPy 2D array known as a matrix. Specially use to store and perform an operation on input values."
   ]
  },
  {
   "cell_type": "code",
   "execution_count": 38,
   "id": "c912bf42",
   "metadata": {},
   "outputs": [
    {
     "name": "stdout",
     "output_type": "stream",
     "text": [
      "[[1 2 3]\n",
      " [4 5 6]]\n"
     ]
    }
   ],
   "source": [
    "# 2D array (it is matrix)\n",
    "from numpy import *\n",
    "b = array([[1,2,3],[4,5,6]])\n",
    "print(b)"
   ]
  },
  {
   "cell_type": "markdown",
   "id": "fad4842f",
   "metadata": {},
   "source": [
    "**3D array:**\n",
    "- In machine learning and data science NumPy 3D array known as a tensor. Specially used to store and perform an operation on three-dimensional data like color image."
   ]
  },
  {
   "cell_type": "code",
   "execution_count": 39,
   "id": "fb3646ce",
   "metadata": {},
   "outputs": [
    {
     "name": "stdout",
     "output_type": "stream",
     "text": [
      "[[[ 1  2  3]]\n",
      "\n",
      " [[ 5  6  7]]\n",
      "\n",
      " [[ 8  9 10]]]\n"
     ]
    }
   ],
   "source": [
    "# 3D array (also called as tensor)\n",
    "c = array([[[1,2,3]],[[5,6,7]],[[8,9,10]]])\n",
    "print(c)"
   ]
  },
  {
   "cell_type": "markdown",
   "id": "90b4bd97",
   "metadata": {},
   "source": [
    "#### Creating a NumPy with different datatype using dtype:\n",
    "\n",
    "- NumPy library in Python, **dtype refers to the data type of elements stored in a NumPy array.** \n",
    "\n",
    "- NumPy allows you to **create arrays with different data types, such as integers, floating-point numbers, and more.**\n",
    "\n",
    "- When creating NumPy arrays, you can indeed specify the data type of the elements using the dtype parameter"
   ]
  },
  {
   "cell_type": "code",
   "execution_count": 47,
   "id": "fbcabf25",
   "metadata": {},
   "outputs": [
    {
     "name": "stdout",
     "output_type": "stream",
     "text": [
      "float : [1. 2. 3. 4.]\n",
      "complex : [1.+0.j 2.+0.j 3.+0.j 4.+0.j]\n",
      "boolean : [ True  True False  True]\n"
     ]
    }
   ],
   "source": [
    "# dtype\n",
    "import numpy as np\n",
    "f = np.array([1,2,3,4] , dtype=float)\n",
    "c = np.array([1,2,3,4] , dtype=complex)\n",
    "# non integer value consider as True\n",
    "tf = np.array([1,2,0,4] , dtype=bool) \n",
    "print('float :',f)\n",
    "print('complex :',c)\n",
    "print('boolean :',tf)"
   ]
  },
  {
   "cell_type": "markdown",
   "id": "2294c6c3",
   "metadata": {},
   "source": [
    "### np.arange() function :\n",
    "\n",
    "- In NumPy, **the np.arange() function is used to create arrays containing regularly spaced values within a specified range.** \n",
    "\n",
    "- The function takes **three arguments: start, stop, and step. It generates values starting from start, up to (but not including) stop, with increments of step.** \n",
    "\n",
    "- If step is not provided, it defaults to 1.\n",
    "\n",
    "- **Syntax : np.arange([start], stop, [step], dtype=None)**"
   ]
  },
  {
   "cell_type": "code",
   "execution_count": 46,
   "id": "d3b5fe6e",
   "metadata": {},
   "outputs": [
    {
     "name": "stdout",
     "output_type": "stream",
     "text": [
      "[5 6 7 8 9]\n",
      "[5 7 9]\n"
     ]
    }
   ],
   "source": [
    "# np.arange()\n",
    "import numpy as np\n",
    "# with start and stop argument\n",
    "e = np.arange(5,10) \n",
    "print(e)\n",
    "# with start, stop and step argument\n",
    "e1 = np.arange(5,10,2) \n",
    "print(e1)"
   ]
  },
  {
   "cell_type": "markdown",
   "id": "259b2894",
   "metadata": {},
   "source": [
    "#### np.reshape() function :\n",
    "\n",
    "- The numpy.reshape() function is used to **change the shape (dimensions) of an array without changing its data.** \n",
    "\n",
    "- This function **returns a new array with the same data but with a different shape.**\n",
    "\n",
    "- The numpy.reshape() function is **useful when we need to change the dimensions of an array.**\n",
    "\n",
    "- **for example,** when we want to convert a one-dimensional array into a two-dimensional array or vice versa. \n",
    "\n",
    "- It can also be used to create arrays with a specific shape, such as matrices and tensors.\n",
    "\n",
    "- **Syntax : numpy.reshape(a, newshape, order='C')**\n",
    "    - **a :** This is the source array which we want to reshape.\n",
    "    - **new_shape:** The shape in which we want to convert our original array should be compatible with the original array.\n",
    "    - **order:** {'C', 'F', 'A'}, optional\n",
    "    \n",
    "- **NOTE:** the both product of the array number is equal to number of item that are present in inside the array."
   ]
  },
  {
   "cell_type": "code",
   "execution_count": 45,
   "id": "88c67d58",
   "metadata": {},
   "outputs": [
    {
     "name": "stdout",
     "output_type": "stream",
     "text": [
      "[[ 1  2  3  4  5  6]\n",
      " [ 7  8  9 10 11 12]]\n",
      "[[ 1  2]\n",
      " [ 3  4]\n",
      " [ 5  6]\n",
      " [ 7  8]\n",
      " [ 9 10]\n",
      " [11 12]]\n",
      "[[ 1  2  3  4]\n",
      " [ 5  6  7  8]\n",
      " [ 9 10 11 12]]\n"
     ]
    }
   ],
   "source": [
    "# np.reshape() function\n",
    "import numpy as np\n",
    "r = np.arange(1,13)\n",
    "re = np.reshape(r,(2,6))\n",
    "print(re)\n",
    "re1 = np.reshape(r,(6,2))\n",
    "print(re1)\n",
    "re3 = np.reshape(r,(3,4))\n",
    "print(re3)"
   ]
  },
  {
   "cell_type": "markdown",
   "id": "d37645a7",
   "metadata": {},
   "source": [
    "#### np.ones() function :\n",
    "\n",
    "- np.ones() function **returns a new array of given shape and data type, where the element’s value is set to 1.**\n",
    "\n",
    "- **For example,**It is useful in deep learning to intialize the weights values\n",
    "\n",
    "- **syntax: ones(shape, dtype=None, order='C')**"
   ]
  },
  {
   "cell_type": "code",
   "execution_count": 30,
   "id": "6b2bc9ad",
   "metadata": {},
   "outputs": [
    {
     "name": "stdout",
     "output_type": "stream",
     "text": [
      "[[1 1 1 1]\n",
      " [1 1 1 1]]\n"
     ]
    }
   ],
   "source": [
    "# np.ones() function\n",
    "import numpy as np\n",
    "o = np.ones((2,4), dtype=int)\n",
    "print(o)"
   ]
  },
  {
   "cell_type": "markdown",
   "id": "1f81ebcc",
   "metadata": {},
   "source": [
    "#### np.zeros() function :\n",
    "\n",
    "- np.zeros() function **returns a new array of given shape and type, where the element’s value as 0.**\n",
    "\n",
    "- The elements are having the **defualt data type as the float. That’s why the zeros are 0.**\n",
    "\n",
    "- **syntax: np.zeros(shape, dtype=None, order='C')**"
   ]
  },
  {
   "cell_type": "code",
   "execution_count": 28,
   "id": "42048bc7",
   "metadata": {},
   "outputs": [
    {
     "name": "stdout",
     "output_type": "stream",
     "text": [
      "[[0. 0. 0.]\n",
      " [0. 0. 0.]\n",
      " [0. 0. 0.]]\n"
     ]
    }
   ],
   "source": [
    "# np.zeros() function\n",
    "import numpy as np\n",
    "z = np.zeros((3,3))\n",
    "print(z)"
   ]
  },
  {
   "cell_type": "markdown",
   "id": "bd4d4d80",
   "metadata": {},
   "source": [
    "#### np.random.random() function :\n",
    "\n",
    "- **Used for generating random numbers.**\n",
    "\n",
    "- Here 1st random is class name and other one is method name follows OOP concept."
   ]
  },
  {
   "cell_type": "code",
   "execution_count": 25,
   "id": "c3f087e1",
   "metadata": {},
   "outputs": [
    {
     "name": "stdout",
     "output_type": "stream",
     "text": [
      "[[0.32138088 0.05043471 0.29236916]\n",
      " [0.67078606 0.7525749  0.51963277]\n",
      " [0.85785698 0.07023304 0.84409173]]\n"
     ]
    }
   ],
   "source": [
    "# np.random.random() function\n",
    "import numpy as np\n",
    "# creating default random varible between 0 to 1\n",
    "r = np.random.random((3,3))\n",
    "print(r)"
   ]
  },
  {
   "cell_type": "markdown",
   "id": "4c40adce",
   "metadata": {},
   "source": [
    "#### np.linspace() function : (Linear/ linearly space)\n",
    "- NumPy function that returns evenly spaced numbers over a specified interval.\n",
    "\n",
    "- Use for plotting the ML algorithm result.\n",
    "\n",
    "- **syntax : np.linspace(start, stop, num=50, dtype=None, axis=0)**\n",
    "    - **start:** The starting value of the sequence.\n",
    "    - **stop:** The end value of the sequence, unless endpoint is set to False.\n",
    "    - **num:** The number of evenly spaced numbers to generate. Default is 50.\n",
    "    - **axis:** The axis along which to generate the evenly spaced numbers. Default is 0.\n",
    "    "
   ]
  },
  {
   "cell_type": "code",
   "execution_count": 22,
   "id": "a3d93cc5",
   "metadata": {},
   "outputs": [
    {
     "name": "stdout",
     "output_type": "stream",
     "text": [
      "[ 1.    3.25  5.5   7.75 10.  ]\n"
     ]
    }
   ],
   "source": [
    "# np.linspace() function\n",
    "import numpy as np\n",
    "ls = linspace(1,10,5)\n",
    "print(ls)"
   ]
  },
  {
   "cell_type": "markdown",
   "id": "bcb0cfb3",
   "metadata": {},
   "source": [
    "#### np.identity() function :\n",
    "- **Returns a square identity matrix of size n x n.** means digonally items are 1 and remaing are all 0's\n",
    "\n",
    "- **syntax: np.identity(n, dtype=None)**\n",
    "    - **n:** The size of the identity matrix to be generated.\n",
    "    - **dtype:** The data type of the output array and default is float."
   ]
  },
  {
   "cell_type": "code",
   "execution_count": 24,
   "id": "730286aa",
   "metadata": {
    "scrolled": true
   },
   "outputs": [
    {
     "name": "stdout",
     "output_type": "stream",
     "text": [
      "[[1 0 0]\n",
      " [0 1 0]\n",
      " [0 0 1]]\n"
     ]
    }
   ],
   "source": [
    "# np.identity() functioin\n",
    "import numpy as np\n",
    "i = np.identity(3, dtype=int)\n",
    "print(i)"
   ]
  },
  {
   "cell_type": "markdown",
   "id": "7b527976",
   "metadata": {},
   "source": [
    "### Numpy Arrays Attributes \n",
    "\n",
    "NumPy array (ndarray class) is the most used construct of NumPy in Machine Learning and Deep Learning. Let us look into some important attributes of this NumPy array."
   ]
  },
  {
   "cell_type": "code",
   "execution_count": 12,
   "id": "a28cb504",
   "metadata": {},
   "outputs": [
    {
     "name": "stdout",
     "output_type": "stream",
     "text": [
      "[0 1 2 3 4 5 6 7 8 9]\n",
      "[[ 0.  1.  2.  3.]\n",
      " [ 4.  5.  6.  7.]\n",
      " [ 8.  9. 10. 11.]]\n",
      "[[[0 1]\n",
      "  [2 3]]\n",
      "\n",
      " [[4 5]\n",
      "  [6 7]]]\n"
     ]
    }
   ],
   "source": [
    "# Arrays for applying numpy arrays attributes\n",
    "import numpy as np\n",
    "a1 = np.arange(10)\n",
    "a2 = np.arange(12, dtype=float).reshape(3,4)\n",
    "a3 = np.arange(8).reshape(2,2,2)\n",
    "print(a1)\n",
    "print(a2)\n",
    "print(a3)"
   ]
  },
  {
   "cell_type": "markdown",
   "id": "8c751aac",
   "metadata": {},
   "source": [
    "#### .ndim attribute:\n",
    "\n",
    "- **Returns the number of dimensions of a given NumPy array.**"
   ]
  },
  {
   "cell_type": "code",
   "execution_count": 19,
   "id": "87046374",
   "metadata": {},
   "outputs": [
    {
     "name": "stdout",
     "output_type": "stream",
     "text": [
      "1\n",
      "2\n",
      "3\n"
     ]
    }
   ],
   "source": [
    "# arr.ndim attribute\n",
    "print(a1.ndim)\n",
    "print(a2.ndim)\n",
    "print(a3.ndim)"
   ]
  },
  {
   "cell_type": "markdown",
   "id": "dc8efd66",
   "metadata": {},
   "source": [
    "#### .shape attribute:\n",
    "\n",
    "- In NumPy, the **.shape** attribute of a NumPy array is **used to determine the dimensions of the array.** \n",
    "\n",
    "- **It returns a tuple of integers that represent the size of the array in each dimension.**"
   ]
  },
  {
   "cell_type": "code",
   "execution_count": 20,
   "id": "9ad75e5c",
   "metadata": {},
   "outputs": [
    {
     "name": "stdout",
     "output_type": "stream",
     "text": [
      "(10,)\n",
      "(3, 4)\n",
      "(2, 2, 2)\n"
     ]
    }
   ],
   "source": [
    "# arr.shape attribute\n",
    "print(a1.shape)\n",
    "print(a2.shape)\n",
    "# Made with two 2D array of shape 2, 2\n",
    "print(a3.shape) "
   ]
  },
  {
   "cell_type": "markdown",
   "id": "b2a8beef",
   "metadata": {},
   "source": [
    "####  .size attribute:\n",
    "\n",
    "- In NumPy, **.size** is an attribute of a NumPy array that returns the total number of elements in the array."
   ]
  },
  {
   "cell_type": "code",
   "execution_count": 21,
   "id": "36b48f66",
   "metadata": {},
   "outputs": [
    {
     "name": "stdout",
     "output_type": "stream",
     "text": [
      "10\n",
      "12\n",
      "8\n"
     ]
    }
   ],
   "source": [
    "# arr.size attribute\n",
    "print(a1.size)\n",
    "print(a2.size)\n",
    "print(a3.size)"
   ]
  },
  {
   "cell_type": "markdown",
   "id": "980e7be2",
   "metadata": {},
   "source": [
    "####  .itemsize attribute\n",
    "- In NumPy, **.itemsize** is an attribute of a NumPy array that returns the size (in bytes) of each element in the array.\n",
    "- Shows occupation of memory of the each item of inside the array. "
   ]
  },
  {
   "cell_type": "code",
   "execution_count": 18,
   "id": "05e8c596",
   "metadata": {},
   "outputs": [
    {
     "name": "stdout",
     "output_type": "stream",
     "text": [
      "4\n",
      "8\n",
      "4\n"
     ]
    }
   ],
   "source": [
    "# arr.itemsize attribute\n",
    "print(a1.itemsize) # int32 = 4 bytes\n",
    "print(a2.itemsize) # int64 = 8 bytes\n",
    "print(a3.itemsize) # int32 = 4 bytes"
   ]
  },
  {
   "cell_type": "markdown",
   "id": "a326d231",
   "metadata": {},
   "source": [
    "#### .dtype attribute\n",
    "- In NumPy,**.dtype** is an attribute of a NumPy array that returns the data type of the elements in the array."
   ]
  },
  {
   "cell_type": "code",
   "execution_count": 7,
   "id": "8ff46c48",
   "metadata": {},
   "outputs": [
    {
     "name": "stdout",
     "output_type": "stream",
     "text": [
      "int32\n",
      "float64\n",
      "int32\n"
     ]
    }
   ],
   "source": [
    "# arr.dtype attribute\n",
    "print(a1.dtype)\n",
    "print(a2.dtype)\n",
    "print(a3.dtype)"
   ]
  },
  {
   "cell_type": "markdown",
   "id": "612ac03b",
   "metadata": {},
   "source": [
    "#### Changing datatype using .astype() method :\n",
    "- **.astype()** is a method of a NumPy array that is used to **change the data type of the elements in the array.**\n",
    "- More useful in converting the Float datatype reduction in integer value "
   ]
  },
  {
   "cell_type": "code",
   "execution_count": 17,
   "id": "7214c23a",
   "metadata": {},
   "outputs": [
    {
     "name": "stdout",
     "output_type": "stream",
     "text": [
      "[[ 0.  1.  2.  3.]\n",
      " [ 4.  5.  6.  7.]\n",
      " [ 8.  9. 10. 11.]]\n",
      "a2 dtype : float64\n",
      "[[ 0  1  2  3]\n",
      " [ 4  5  6  7]\n",
      " [ 8  9 10 11]]\n",
      "a2 dtype : int32\n"
     ]
    }
   ],
   "source": [
    "# arr.astype() method\n",
    "print(a2)\n",
    "print('a2 dtype :',a2.dtype)\n",
    "change_dtype = a2.astype(int32)\n",
    "print(change_dtype)\n",
    "print('a2 dtype :',change_dtype.dtype)"
   ]
  },
  {
   "cell_type": "markdown",
   "id": "fe572849",
   "metadata": {},
   "source": [
    "#### Numpy Array Operations :\n",
    "- Use for perfroming mathematical operation "
   ]
  },
  {
   "cell_type": "code",
   "execution_count": 1,
   "id": "0946affb",
   "metadata": {},
   "outputs": [
    {
     "name": "stdout",
     "output_type": "stream",
     "text": [
      "[[ 0  1  2  3]\n",
      " [ 4  5  6  7]\n",
      " [ 8  9 10 11]]\n",
      "[[12 13 14 15]\n",
      " [16 17 18 19]\n",
      " [20 21 22 23]]\n"
     ]
    }
   ],
   "source": [
    "# Creating the arrays for operations\n",
    "from numpy import *\n",
    "a1 = arange(12).reshape(3,4)\n",
    "a2 = arange(12,24).reshape(3,4)\n",
    "print(a1)\n",
    "print(a2)"
   ]
  },
  {
   "cell_type": "markdown",
   "id": "8b50a318",
   "metadata": {},
   "source": [
    "#### Scalar Operations:\n",
    "- A scalar operation is an **operation between a scalar value (a single number) and an array.**\n",
    "- In NumPy, scalar operations can be performed using arithmetic operators such as +, -, * etc. \n",
    "- When a scalar value is added to an array, the scalar value is added to each element in the array."
   ]
  },
  {
   "cell_type": "code",
   "execution_count": 4,
   "id": "b2cb4e6f",
   "metadata": {},
   "outputs": [
    {
     "name": "stdout",
     "output_type": "stream",
     "text": [
      "[[ 2  3  4  5]\n",
      " [ 6  7  8  9]\n",
      " [10 11 12 13]]\n",
      "[[ 0  2  4  6]\n",
      " [ 8 10 12 14]\n",
      " [16 18 20 22]]\n",
      "[[  0   1   4   9]\n",
      " [ 16  25  36  49]\n",
      " [ 64  81 100 121]]\n"
     ]
    }
   ],
   "source": [
    "# scalar operations, here 2 scalar value\n",
    "from numpy import *\n",
    "print(a1 + 2) # addition of each element\n",
    "print(a1 * 2) # multiplication of each element\n",
    "print(a1 ** 2) # exponent of each element"
   ]
  },
  {
   "cell_type": "markdown",
   "id": "6f8ac788",
   "metadata": {},
   "source": [
    "#### Comparison / Relational Operations:\n",
    "- NumPy provides comparison operators such as ==, !=, <, >, <=, and >= for comparing elements in two arrays. \n",
    "- These operations return a boolean array with the same shape as the input arrays, where True indicates that the condition is satisfied, and False indicates that it is not."
   ]
  },
  {
   "cell_type": "code",
   "execution_count": 6,
   "id": "519cab17",
   "metadata": {},
   "outputs": [
    {
     "name": "stdout",
     "output_type": "stream",
     "text": [
      "[[ True  True  True  True]\n",
      " [ True  True  True  True]\n",
      " [ True  True  True  True]]\n",
      "[[False False  True False]\n",
      " [False False False False]\n",
      " [False False False False]]\n"
     ]
    }
   ],
   "source": [
    "# comparison operators\n",
    "print(a1 >= 0)\n",
    "print(a1 == 2)"
   ]
  },
  {
   "cell_type": "markdown",
   "id": "1e6a194f",
   "metadata": {},
   "source": [
    "#### Vector Operations:\n",
    "- A vector operation is an **operation between two arrays of the same size.** \n",
    "- In NumPy, vector operations can also be performed using arithmetic operators. \n",
    "- When two arrays are added, the corresponding elements in each array are added together. \n",
    "- Similarly, for subtraction and multiplication, the corresponding elements in each array are subtracted and multiplied.\n",
    "- **Note :** It's important to note that vector operations can only be performed on arrays of the same shape. If the arrays have different shapes, NumPy will raise a ValueError."
   ]
  },
  {
   "cell_type": "code",
   "execution_count": 6,
   "id": "22b19756",
   "metadata": {},
   "outputs": [
    {
     "name": "stdout",
     "output_type": "stream",
     "text": [
      "[[12 14 16 18]\n",
      " [20 22 24 26]\n",
      " [28 30 32 34]]\n",
      "[[  0  13  28  45]\n",
      " [ 64  85 108 133]\n",
      " [160 189 220 253]]\n"
     ]
    }
   ],
   "source": [
    "# vector Operations\n",
    "print(a1 + a2) # addition\n",
    "print(a1 * a2) # multiplication"
   ]
  },
  {
   "cell_type": "markdown",
   "id": "d755c761",
   "metadata": {},
   "source": [
    "### Numpy Array Function :\n",
    "\n",
    "\n",
    "- sum() : Returns the sum of array\n",
    "- prod() :"
   ]
  },
  {
   "cell_type": "code",
   "execution_count": 9,
   "id": "472f11f8",
   "metadata": {},
   "outputs": [
    {
     "name": "stdout",
     "output_type": "stream",
     "text": [
      "[[58. 75. 51.]\n",
      " [81.  9. 58.]\n",
      " [13. 71. 68.]]\n"
     ]
    }
   ],
   "source": [
    "# Creating arrays for numpy mathematical function\n",
    "import numpy as np\n",
    "a1 = np.random.random((3,3))\n",
    "a1 = np.round(a1*100)\n",
    "print(a1)"
   ]
  },
  {
   "cell_type": "code",
   "execution_count": 12,
   "id": "05a788fb",
   "metadata": {},
   "outputs": [
    {
     "name": "stdout",
     "output_type": "stream",
     "text": [
      "[[58. 75. 51.]\n",
      " [81.  9. 58.]\n",
      " [13. 71. 68.]]\n"
     ]
    }
   ],
   "source": [
    "import numpy as np\n",
    "a1 = np.array([[58., 75., 51.],\n",
    "               [81.,  9., 58.],\n",
    "               [13., 71., 68.]])\n",
    "print(a1)"
   ]
  },
  {
   "cell_type": "markdown",
   "id": "5ad93bb4",
   "metadata": {},
   "source": [
    "**max():** Return the maximum of element in array.\n",
    "\n",
    "**min():** Return the minimum of element in array.\n",
    "\n",
    "But we can also use Numpy min and max to compute the minima and maxima of each rows and columns.\n",
    "- 0 reprents columns and 1 represents rows"
   ]
  },
  {
   "cell_type": "code",
   "execution_count": 15,
   "id": "0716a2de",
   "metadata": {},
   "outputs": [
    {
     "name": "stdout",
     "output_type": "stream",
     "text": [
      "9.0\n",
      "81.0\n"
     ]
    }
   ],
   "source": [
    "# min() & max()\n",
    "print(np.min(a1))\n",
    "print(np.max(a1))"
   ]
  },
  {
   "cell_type": "code",
   "execution_count": 16,
   "id": "8cfb07d7",
   "metadata": {},
   "outputs": [
    {
     "name": "stdout",
     "output_type": "stream",
     "text": [
      "min : [13.  9. 51.]\n",
      "max : [75. 81. 71.]\n"
     ]
    }
   ],
   "source": [
    "# min() & max() with axis parameter\n",
    "# column wise each minimum element\n",
    "print('min :',np.min(a1, axis=0))\n",
    "# row wise each maximum element\n",
    "print('max :',np.max(a1, axis=1)) "
   ]
  },
  {
   "cell_type": "markdown",
   "id": "2c5a7970",
   "metadata": {},
   "source": [
    "**sum():**\n",
    "- **Used to calculate the sum of elements in a NumPy array.**\n",
    "- Also used to find the **sum of all elements in the array or along a specific axis of a multi-dimensional array.**\n",
    "- **(axis=0) represents columns & (axis=1) represents row**"
   ]
  },
  {
   "cell_type": "code",
   "execution_count": 24,
   "id": "072c4d52",
   "metadata": {},
   "outputs": [
    {
     "name": "stdout",
     "output_type": "stream",
     "text": [
      "sum of array : 484.0\n",
      "sum of cols : [152. 155. 177.]\n",
      "sum of rows : [184. 148. 152.]\n"
     ]
    }
   ],
   "source": [
    "# sum() \n",
    "print('sum of array :', np.sum(a1))\n",
    "# sum() with axis parameter\n",
    "print('sum of cols :',np.sum(a1, axis=0))\n",
    "print('sum of rows :',np.sum(a1, axis=1))"
   ]
  },
  {
   "cell_type": "markdown",
   "id": "c5581089",
   "metadata": {},
   "source": [
    "**prod():**\n",
    "- **prod() function is used to calculate the product of all elements in an array.**\n",
    "-  along with the axis parameter to calculate the product along a specific axis of a multi-dimensional array.\n",
    "- It returns the result of multiplying all elements together. \n",
    "- This function is a common operation in various mathematical and statistical calculations."
   ]
  },
  {
   "cell_type": "code",
   "execution_count": 19,
   "id": "3b2d9902",
   "metadata": {
    "scrolled": true
   },
   "outputs": [
    {
     "name": "stdout",
     "output_type": "stream",
     "text": [
      "product of array : 588742745338800.0\n",
      "product of cols : [ 61074.  47925. 201144.]\n",
      "product of rows : [221850.  42282.  62764.]\n"
     ]
    }
   ],
   "source": [
    "# prod() \n",
    "print('product of array :', np.prod(a1))\n",
    "# prod() with axis parameter\n",
    "print('product of cols :',np.prod(a1, axis=0))\n",
    "print('product of rows :',np.prod(a1, axis=1))"
   ]
  },
  {
   "cell_type": "markdown",
   "id": "1d871aa5",
   "metadata": {},
   "source": [
    "**mean() / median() / std() / var():**"
   ]
  },
  {
   "cell_type": "markdown",
   "id": "12eeb5d9",
   "metadata": {},
   "source": [
    "**mean() :**\n",
    "- **Used to calculate the arithmetic mean or average of the elements in a given array.** \n",
    "- The mean is the sum of all the values in the array divided by the total number of values. \n",
    "- It is a common measure of central tendency."
   ]
  },
  {
   "cell_type": "code",
   "execution_count": 44,
   "id": "f2566460",
   "metadata": {},
   "outputs": [
    {
     "name": "stdout",
     "output_type": "stream",
     "text": [
      "mean : 32.888888888888886\n"
     ]
    }
   ],
   "source": [
    "# mean()\n",
    "import numpy as np\n",
    "arr = np.array([[2,5,11],[9,98,93],[17,21,40]])\n",
    "print('mean :',np.mean(arr))"
   ]
  },
  {
   "cell_type": "markdown",
   "id": "79a3ed37",
   "metadata": {},
   "source": [
    "**median():**\n",
    "- **Used to calculate the median of the elements in a given array.** \n",
    "- The median is the middle value of a dataset when it is ordered. \n",
    "- It's a measure of central tendency that is less affected by outliers than the mean."
   ]
  },
  {
   "cell_type": "code",
   "execution_count": 45,
   "id": "1c6cbc42",
   "metadata": {},
   "outputs": [
    {
     "name": "stdout",
     "output_type": "stream",
     "text": [
      "median 17.0\n"
     ]
    }
   ],
   "source": [
    "# median\n",
    "print('median',np.median(arr))"
   ]
  },
  {
   "cell_type": "markdown",
   "id": "f124f4fb",
   "metadata": {},
   "source": [
    "**var():**\n",
    "- **Used to calculate the variance of the elements in a given array.**\n",
    "- Variance is a measure of how much the values in a dataset vary from the mean. \n",
    "- It gives you an idea of the spread or dispersion of the data points."
   ]
  },
  {
   "cell_type": "code",
   "execution_count": 48,
   "id": "234365d5",
   "metadata": {},
   "outputs": [
    {
     "name": "stdout",
     "output_type": "stream",
     "text": [
      "variance : 1230.9876543209875\n"
     ]
    }
   ],
   "source": [
    "# var()\n",
    "print('variance :',np.var(arr))"
   ]
  },
  {
   "cell_type": "markdown",
   "id": "dd7a7281",
   "metadata": {},
   "source": [
    "**std():**\n",
    "- **Used to calculate the standard deviation of the elements in a given array.** \n",
    "- The **standard deviation is a measure of how much the values in a dataset deviate from the mean.**\n",
    "- It's another measure of the spread or dispersion of the data points, similar to variance."
   ]
  },
  {
   "cell_type": "code",
   "execution_count": 49,
   "id": "5318621f",
   "metadata": {},
   "outputs": [
    {
     "name": "stdout",
     "output_type": "stream",
     "text": [
      "SD: 35.08543364875212\n"
     ]
    }
   ],
   "source": [
    "# std()\n",
    "data = np.array([5, 10, 15, 20, 25])\n",
    "print(\"SD:\", np.std(arr))"
   ]
  },
  {
   "cell_type": "markdown",
   "id": "02462553",
   "metadata": {},
   "source": [
    "**dot() :**\n",
    "- The dot product of two vectors and specifying the condition that they must have the same dimensionality\n",
    "- The condition to identify whether two vectors can be dot-multiplied is that they must have the **same dimensionality.**\n",
    "- The dot() function **takes two array arguments and returns their dot product.**"
   ]
  },
  {
   "cell_type": "code",
   "execution_count": 29,
   "id": "2ad6bca0",
   "metadata": {},
   "outputs": [
    {
     "name": "stdout",
     "output_type": "stream",
     "text": [
      "[[ 0  1  2  3]\n",
      " [ 4  5  6  7]\n",
      " [ 8  9 10 11]]\n",
      "[[12 13 14]\n",
      " [15 16 17]\n",
      " [18 19 20]\n",
      " [21 22 23]]\n"
     ]
    }
   ],
   "source": [
    "# Creating two the arrays with same dimensions \n",
    "import numpy as np\n",
    "arr1 = np.arange(12).reshape(3,4)\n",
    "arr2 = np.arange(12,24).reshape(4,3)\n",
    "print(arr1)\n",
    "print(arr2)"
   ]
  },
  {
   "cell_type": "code",
   "execution_count": 30,
   "id": "7024a3d9",
   "metadata": {},
   "outputs": [
    {
     "name": "stdout",
     "output_type": "stream",
     "text": [
      "[[114 120 126]\n",
      " [378 400 422]\n",
      " [642 680 718]]\n"
     ]
    }
   ],
   "source": [
    "print(np.dot(arr1,arr2)) # do"
   ]
  },
  {
   "cell_type": "markdown",
   "id": "93571896",
   "metadata": {},
   "source": [
    "**log and exponemts in numpy**\n",
    "\n",
    "**np.log() :**\n",
    "- To calculate the natural logarithm of an array or a scalar, you can use the **log()** function"
   ]
  },
  {
   "cell_type": "code",
   "execution_count": 31,
   "id": "56608085",
   "metadata": {},
   "outputs": [
    {
     "name": "stdout",
     "output_type": "stream",
     "text": [
      "[[0.         0.69314718 1.09861229]\n",
      " [1.38629436 1.60943791 1.79175947]\n",
      " [1.94591015 2.07944154 2.19722458]]\n"
     ]
    }
   ],
   "source": [
    "import numpy as np\n",
    "ar = np.arange(1,10).reshape(3,3)\n",
    "# log()\n",
    "print(np.log(ar))"
   ]
  },
  {
   "cell_type": "markdown",
   "id": "ce7944a5",
   "metadata": {},
   "source": [
    "**np.exp() :**\n",
    "- To calculate the exponential of an array or a scalar, you can use the **exp()** function"
   ]
  },
  {
   "cell_type": "code",
   "execution_count": 35,
   "id": "b765ff99",
   "metadata": {},
   "outputs": [
    {
     "name": "stdout",
     "output_type": "stream",
     "text": [
      "[[2.71828183e+00 7.38905610e+00 2.00855369e+01]\n",
      " [5.45981500e+01 1.48413159e+02 4.03428793e+02]\n",
      " [1.09663316e+03 2.98095799e+03 8.10308393e+03]]\n"
     ]
    }
   ],
   "source": [
    "import numpy as np\n",
    "ar = np.arange(1,10).reshape(3,3)\n",
    "# exp()\n",
    "print(np.exp(ar))"
   ]
  },
  {
   "cell_type": "markdown",
   "id": "4ae96e4b",
   "metadata": {},
   "source": [
    "**round()/floor()/ceil()**\n",
    "\n",
    "**round() :**\n",
    "- The round() function rounds the elements of an array to the nearest integer or to a specified number of decimals\n"
   ]
  },
  {
   "cell_type": "code",
   "execution_count": 37,
   "id": "cfd30eeb",
   "metadata": {},
   "outputs": [
    {
     "name": "stdout",
     "output_type": "stream",
     "text": [
      "[1. 2. 5.]\n"
     ]
    }
   ],
   "source": [
    "# round()\n",
    "import numpy as np\n",
    "arr = np.array([1.23,2.49,4.51])\n",
    "print(np.round(arr))"
   ]
  },
  {
   "cell_type": "markdown",
   "id": "2bb05a79",
   "metadata": {},
   "source": [
    "**floor() :**\n",
    "- The floor() function rounds the elements of an array down to the nearest integer\n"
   ]
  },
  {
   "cell_type": "code",
   "execution_count": 38,
   "id": "23132235",
   "metadata": {},
   "outputs": [
    {
     "name": "stdout",
     "output_type": "stream",
     "text": [
      "[1. 2. 4. 4.]\n"
     ]
    }
   ],
   "source": [
    "# floor()\n",
    "import numpy as np\n",
    "arr1 = np.array([1.23,2.49,4.51,4.80])\n",
    "print(np.floor(arr1))"
   ]
  },
  {
   "cell_type": "code",
   "execution_count": 40,
   "id": "1109c8f9",
   "metadata": {},
   "outputs": [
    {
     "name": "stdout",
     "output_type": "stream",
     "text": [
      "[[73.  1.  0.]\n",
      " [ 1. 82. 34.]]\n"
     ]
    }
   ],
   "source": [
    "print(np.floor(np.random.random((2,3))*100))"
   ]
  },
  {
   "cell_type": "markdown",
   "id": "2050db02",
   "metadata": {},
   "source": [
    "**ceil() :**\n",
    "- The ceil() function rounds the elements of an array up to the nearest integer"
   ]
  },
  {
   "cell_type": "code",
   "execution_count": 42,
   "id": "3da19c43",
   "metadata": {},
   "outputs": [
    {
     "name": "stdout",
     "output_type": "stream",
     "text": [
      "[2. 3. 5. 1.]\n"
     ]
    }
   ],
   "source": [
    "# ceil()\n",
    "import numpy as np\n",
    "arr3 = np.array([1.23,2.49,4.11,1.00])\n",
    "print(np.ceil(arr3))"
   ]
  },
  {
   "cell_type": "markdown",
   "id": "2185d736",
   "metadata": {},
   "source": [
    "### 1D/2D/3D Indexing and Slicing in Numpy:\n",
    "\n",
    "**Indexing:** \n",
    "- fetching one item \n",
    "- Indexing in a NumPy array refers to the process of accessing elements or subarrays within a NumPy array. \n",
    "\n",
    "**Slicing:** fetching multiple item "
   ]
  },
  {
   "cell_type": "code",
   "execution_count": 73,
   "id": "0903daae",
   "metadata": {},
   "outputs": [],
   "source": [
    "import numpy as np\n",
    "arr1 = np.arange(10)\n",
    "arr2 = np.arange(12).reshape(3,4)\n",
    "arr3 = np.arange(8).reshape(2,2,2)"
   ]
  },
  {
   "cell_type": "code",
   "execution_count": 74,
   "id": "6ab77d9c",
   "metadata": {},
   "outputs": [
    {
     "name": "stdout",
     "output_type": "stream",
     "text": [
      "[0 1 2 3 4 5 6 7 8 9]\n",
      "[[ 0  1  2  3]\n",
      " [ 4  5  6  7]\n",
      " [ 8  9 10 11]]\n",
      "[[[0 1]\n",
      "  [2 3]]\n",
      "\n",
      " [[4 5]\n",
      "  [6 7]]]\n"
     ]
    }
   ],
   "source": [
    "print(arr1)\n",
    "print(arr2)\n",
    "print(arr3)"
   ]
  },
  {
   "cell_type": "markdown",
   "id": "acb12f83",
   "metadata": {},
   "source": [
    "**Indexing of 1D array:**\n",
    "- NumPy array indexing is used to access values in the 1-dimensional and, multi-dimensional arrays. \n",
    "- Indexing is an operation, use this feature to get a selected set of values from a NumPy array. \n",
    "- It just like normal indexing like list.\n",
    "- We can do positive or negative indexing.\n",
    "- **NOTE:** Array start form 0 index."
   ]
  },
  {
   "cell_type": "code",
   "execution_count": 77,
   "id": "3b77ccfa",
   "metadata": {},
   "outputs": [
    {
     "name": "stdout",
     "output_type": "stream",
     "text": [
      "array : [0 1 2 3 4 5 6 7 8 9]\n",
      "0 4 6 2\n",
      "9 5 7 3\n"
     ]
    }
   ],
   "source": [
    "import numpy as np\n",
    "arr1 = np.arange(10)\n",
    "print('array :',arr1)\n",
    "# positive indexing\n",
    "print(arr1[0],arr1[4],arr1[6],arr1[2])\n",
    "# negative indexing\n",
    "print(arr1[-1],arr1[-5],arr1[-3],arr1[-7])"
   ]
  },
  {
   "cell_type": "markdown",
   "id": "e040ecaa",
   "metadata": {},
   "source": [
    "**Indexing of 2D array:**\n",
    "\n",
    "- For accessing elements, we need to specify the row index and column index of the element.\n",
    "\n",
    "- **Syntax : array[ row_index , column_index ]**\n",
    "\n",
    "- **NOTE:** Array rows & cols start from 0 index."
   ]
  },
  {
   "cell_type": "code",
   "execution_count": 85,
   "id": "0f078b6e",
   "metadata": {},
   "outputs": [
    {
     "name": "stdout",
     "output_type": "stream",
     "text": [
      "2D numpy array:\n",
      "[[ 0  1  2  3]\n",
      " [ 4  5  6  7]\n",
      " [ 8  9 10 11]]\n",
      "Accessing elements:\n",
      "11 4 9\n"
     ]
    }
   ],
   "source": [
    "import numpy as np\n",
    "arr2 = np.arange(12).reshape(3,4)\n",
    "print('2D numpy array:')\n",
    "print(arr2)\n",
    "print('Accessing elements:')\n",
    "print(arr2[2,3], arr2[1,0], arr2[2,1])"
   ]
  },
  {
   "cell_type": "code",
   "execution_count": null,
   "id": "8684768d",
   "metadata": {},
   "outputs": [],
   "source": []
  },
  {
   "cell_type": "markdown",
   "id": "ef20c08b",
   "metadata": {},
   "source": [
    "**Indexing of 3D array:**\n",
    "- For accessing the element 1st we give index number of the array then we give the row number and then column numbers.\n",
    "- 3D array is made from 2D array\n",
    "\n",
    "- **Syntax : array[ array_index , row_index , column_index ]**\n",
    "\n",
    "- **NOTE:** Array rows & cols start from 0 index."
   ]
  },
  {
   "cell_type": "code",
   "execution_count": 8,
   "id": "0b9fc597",
   "metadata": {},
   "outputs": [
    {
     "name": "stdout",
     "output_type": "stream",
     "text": [
      "[[[0 1]\n",
      "  [2 3]]\n",
      "\n",
      " [[4 5]\n",
      "  [6 7]]]\n"
     ]
    }
   ],
   "source": [
    "import numpy as np\n",
    "arr3 = np.arange(8).reshape(2,2,2)\n",
    "print(arr3)"
   ]
  },
  {
   "cell_type": "code",
   "execution_count": 9,
   "id": "9bf31d3b",
   "metadata": {},
   "outputs": [
    {
     "name": "stdout",
     "output_type": "stream",
     "text": [
      "6 3 1\n"
     ]
    }
   ],
   "source": [
    "# 3D Indexing in numpy array\n",
    "print(arr3[1,1,0],arr3[0,1,1],arr3[0,0,1])"
   ]
  },
  {
   "cell_type": "markdown",
   "id": "577cdaf4",
   "metadata": {},
   "source": [
    "#### Slicing :\n",
    "- NumPy array slicing is used to extract some portion of data from the actual array. \n",
    "- Slicing in python means extracting data from one given index to another given index, however, NumPy slicing is slightly different. \n",
    "- Slicing can be done with the help of (:). \n",
    "- **Syntax : array[ start : stop : step ]**\n",
    "    - **Start :** This index by default considers as ‘0’\n",
    "    - **stop :** This index considers as a length of the array.\n",
    "    - **step :** By default it is considered as ‘1’."
   ]
  },
  {
   "cell_type": "markdown",
   "id": "b12e0617",
   "metadata": {},
   "source": [
    "**Slicing 1D array :**"
   ]
  },
  {
   "cell_type": "code",
   "execution_count": 33,
   "id": "3a17a065",
   "metadata": {},
   "outputs": [
    {
     "name": "stdout",
     "output_type": "stream",
     "text": [
      "[0 1 2 3 4 5 6 7 8 9]\n"
     ]
    }
   ],
   "source": [
    "import numpy as np\n",
    "arr = np.arange(10)\n",
    "print(arr)"
   ]
  },
  {
   "cell_type": "code",
   "execution_count": 34,
   "id": "1cfc01f2",
   "metadata": {},
   "outputs": [
    {
     "name": "stdout",
     "output_type": "stream",
     "text": [
      "Slicing with start: [6 7 8 9]\n",
      "Slicing with stop: [0 1 2 3]\n",
      "Slicing with step: [0 3 6 9]\n",
      "Slicing with start & stop: [2 3 4 5]\n",
      "Slicing with start,stop & step: [1 3 5 7]\n",
      "Negative start & stop slicing: [4 5 6 7 8]\n"
     ]
    }
   ],
   "source": [
    "print('Slicing with start:',arr[6:])\n",
    "print('Slicing with stop:',arr[:4])\n",
    "print('Slicing with step:',arr[::3])\n",
    "print('Slicing with start & stop:',arr[2:6])\n",
    "print('Slicing with start,stop & step:',arr[1:8:2])\n",
    "print('Negative start & stop slicing:',arr[-6:-1])"
   ]
  },
  {
   "cell_type": "markdown",
   "id": "357b9842",
   "metadata": {},
   "source": [
    "**Slicing for 2D array :**\n",
    "\n",
    "A 2D NumPy array can be thought of as a matrix, where each element has two indices, row index and column index.\n",
    "\n",
    "To slice a 2D NumPy array, we can use the same syntax as for slicing a 1D NumPy array. The only difference is that we need to specify a slice for each dimension of the array.\n",
    "\n",
    "**Syntax:array[row_start:row_stop:row_step, col_start:col_stop:col_step]**\n",
    "\n",
    "**row_start,row_stop,row_step -** specifies starting index, stopping index, and step size for the rows respectively\n",
    "\n",
    "**col_start,col_stop,col_step -** specifies starting index, stopping index, and step size for the columns respectively"
   ]
  },
  {
   "cell_type": "code",
   "execution_count": 49,
   "id": "64b7990c",
   "metadata": {},
   "outputs": [
    {
     "name": "stdout",
     "output_type": "stream",
     "text": [
      "[[ 0  1  2  3]\n",
      " [ 4  5  6  7]\n",
      " [ 8  9 10 11]]\n"
     ]
    }
   ],
   "source": [
    "import numpy as np\n",
    "arr = np.arange(12).reshape(3,4)\n",
    "print(arr)"
   ]
  },
  {
   "cell_type": "code",
   "execution_count": 54,
   "id": "451377b5",
   "metadata": {},
   "outputs": [
    {
     "name": "stdout",
     "output_type": "stream",
     "text": [
      "[0 1 2 3]\n",
      "[ 8  9 10 11]\n",
      "[ 3  7 11]\n"
     ]
    }
   ],
   "source": [
    "# Slicing 2D array\n",
    "print(arr[0,:]) # print row \n",
    "print(arr[2,:]) # print 3rd index row \n",
    "print(arr[:,3]) # print 4th index column"
   ]
  },
  {
   "cell_type": "code",
   "execution_count": 57,
   "id": "6b581686",
   "metadata": {},
   "outputs": [
    {
     "name": "stdout",
     "output_type": "stream",
     "text": [
      "[[ 5  6]\n",
      " [ 9 10]]\n",
      "[[ 1  3]\n",
      " [ 9 11]]\n",
      "[[ 0  3]\n",
      " [ 8 11]]\n",
      "[[1 2 3]\n",
      " [5 6 7]]\n"
     ]
    }
   ],
   "source": [
    "# slicing sub-arrays\n",
    "print(arr[1:,1:3]) \n",
    "print(arr[::2,1::2])\n",
    "print(arr[::2,::3])\n",
    "print(arr[0:2,1:])"
   ]
  },
  {
   "cell_type": "code",
   "execution_count": 56,
   "id": "dcc445fc",
   "metadata": {},
   "outputs": [
    {
     "name": "stdout",
     "output_type": "stream",
     "text": [
      "[4 7]\n"
     ]
    }
   ],
   "source": [
    "print(arr[1,::3])"
   ]
  },
  {
   "cell_type": "code",
   "execution_count": 53,
   "id": "92c321a3",
   "metadata": {},
   "outputs": [
    {
     "name": "stdout",
     "output_type": "stream",
     "text": [
      "[[1 2 3]\n",
      " [5 6 7]]\n"
     ]
    }
   ],
   "source": [
    "print(arr[0:2,1:])"
   ]
  },
  {
   "cell_type": "markdown",
   "id": "d804894f",
   "metadata": {},
   "source": [
    "**Slicing for 3D array :**"
   ]
  },
  {
   "cell_type": "code",
   "execution_count": 2,
   "id": "0a769d32",
   "metadata": {},
   "outputs": [
    {
     "name": "stdout",
     "output_type": "stream",
     "text": [
      "[[[ 0  1  2]\n",
      "  [ 3  4  5]\n",
      "  [ 6  7  8]]\n",
      "\n",
      " [[ 9 10 11]\n",
      "  [12 13 14]\n",
      "  [15 16 17]]\n",
      "\n",
      " [[18 19 20]\n",
      "  [21 22 23]\n",
      "  [24 25 26]]]\n"
     ]
    }
   ],
   "source": [
    "# Slicing 3D numpy array\n",
    "import numpy as np\n",
    "arr = np.arange(27).reshape(3,3,3)\n",
    "print(arr)"
   ]
  },
  {
   "cell_type": "code",
   "execution_count": 3,
   "id": "b0ebbce6",
   "metadata": {},
   "outputs": [
    {
     "name": "stdout",
     "output_type": "stream",
     "text": [
      "[[ 9 10 11]\n",
      " [12 13 14]\n",
      " [15 16 17]]\n"
     ]
    }
   ],
   "source": [
    "# print 2nd position element of 3D array\n",
    "print(arr[1]) "
   ]
  },
  {
   "cell_type": "code",
   "execution_count": 67,
   "id": "0076da59",
   "metadata": {},
   "outputs": [
    {
     "name": "stdout",
     "output_type": "stream",
     "text": [
      "[3 4 5]\n",
      "[10 13 16]\n"
     ]
    }
   ],
   "source": [
    "# print 1st elements of 0 index \n",
    "print(arr[0, 1])\n",
    "# print 2nd column of index 1\n",
    "print(arr[1,:,1])"
   ]
  },
  {
   "cell_type": "code",
   "execution_count": 5,
   "id": "476581e9",
   "metadata": {},
   "outputs": [
    {
     "name": "stdout",
     "output_type": "stream",
     "text": [
      "[[22 23]\n",
      " [25 26]]\n"
     ]
    }
   ],
   "source": [
    "print(arr[2,1:,1:])"
   ]
  },
  {
   "cell_type": "code",
   "execution_count": 6,
   "id": "0220ed0a",
   "metadata": {},
   "outputs": [
    {
     "name": "stdout",
     "output_type": "stream",
     "text": [
      "[[ 0  2]\n",
      " [18 20]]\n"
     ]
    }
   ],
   "source": [
    "print(arr[::2,0,::2])"
   ]
  },
  {
   "cell_type": "markdown",
   "id": "2c8208e8",
   "metadata": {},
   "source": [
    "### Iterating :\n",
    "Iterating means going through elements one by one.\n",
    "\n",
    "As we deal with multi-dimensional arrays in numpy, we can do this using basic for loop of python.\n"
   ]
  },
  {
   "cell_type": "code",
   "execution_count": 97,
   "id": "a65afa6d",
   "metadata": {},
   "outputs": [
    {
     "name": "stdout",
     "output_type": "stream",
     "text": [
      "0 1 2 3 4 5 6 7 8 9 "
     ]
    }
   ],
   "source": [
    "import numpy as np\n",
    "# For loop on 1D array :\n",
    "arr = np.arange(10)\n",
    "for ele in arr:\n",
    "    print(ele, end=' ')"
   ]
  },
  {
   "cell_type": "markdown",
   "id": "0f7bc6e6",
   "metadata": {},
   "source": [
    "**2-D array** it will go through all the rows."
   ]
  },
  {
   "cell_type": "code",
   "execution_count": 105,
   "id": "f44dcdc0",
   "metadata": {},
   "outputs": [
    {
     "name": "stdout",
     "output_type": "stream",
     "text": [
      "[0 1 2 3]\n",
      "[4 5 6 7]\n",
      "[ 8  9 10 11]\n"
     ]
    }
   ],
   "source": [
    "import numpy as np\n",
    "# For loop on 2D array\n",
    "arr = np.arange(12).reshape(3,4)\n",
    "for ele in arr:\n",
    "    print(ele)"
   ]
  },
  {
   "cell_type": "markdown",
   "id": "c5c3b65b",
   "metadata": {},
   "source": [
    "**3-D array** it will go through all the 2-D arrays."
   ]
  },
  {
   "cell_type": "code",
   "execution_count": 109,
   "id": "bb82cefc",
   "metadata": {},
   "outputs": [
    {
     "name": "stdout",
     "output_type": "stream",
     "text": [
      "[[1 2]\n",
      " [4 5]]\n",
      "[[ 7  8]\n",
      " [10 11]]\n"
     ]
    }
   ],
   "source": [
    "import numpy as np\n",
    "# For loop on 3D array\n",
    "import numpy as np\n",
    "arr = np.array([[[1, 2],[4, 5]],[[7, 8],[10, 11]]])\n",
    "for ele in arr:\n",
    "    print(ele)"
   ]
  },
  {
   "cell_type": "markdown",
   "id": "b283d48d",
   "metadata": {},
   "source": [
    "**np.nditer() function:** \n",
    "- It is a NumPy function that provides an **efficient way to iterate over elements of a NumPy array.**\n",
    "- It allows **iterating over multiple arrays simultaneously and also provides a number of optional arguments that can be used to customize the iteration process.**"
   ]
  },
  {
   "cell_type": "code",
   "execution_count": 108,
   "id": "51c70561",
   "metadata": {},
   "outputs": [
    {
     "name": "stdout",
     "output_type": "stream",
     "text": [
      "1 2 4 5 7 8 10 11 "
     ]
    }
   ],
   "source": [
    "# nd.iter() function\n",
    "import numpy as np\n",
    "arr = np.array([[[1, 2],[4, 5]],[[7, 8],[10, 11]]])\n",
    "for ele in np.nditer(arr):\n",
    "    print(ele, end=' ')"
   ]
  },
  {
   "cell_type": "markdown",
   "id": "dd1c7a9e",
   "metadata": {},
   "source": [
    "### Reshaping in numpy :\n",
    "\n",
    "In reshaping we commonly use reshape and transpose but sometimes we need to use revel() function.\n",
    "\n",
    "- **np.reshape()**\n",
    "- **np.transpose() or np.T**\n",
    "- **np.ravel()**"
   ]
  },
  {
   "cell_type": "code",
   "execution_count": 50,
   "id": "94c4782d",
   "metadata": {},
   "outputs": [
    {
     "name": "stdout",
     "output_type": "stream",
     "text": [
      "[[1 2 3]\n",
      " [4 5 6]\n",
      " [7 8 9]]\n"
     ]
    }
   ],
   "source": [
    "# creating array \n",
    "import numpy as np\n",
    "arr = np.arange(1,10).reshape(3,3)\n",
    "print(arr)"
   ]
  },
  {
   "cell_type": "markdown",
   "id": "23ac37b4",
   "metadata": {},
   "source": [
    "**np.transpose() OR np.T:**\n",
    "\n",
    "- The transpose operation in numpy is generally **applied on 2d arrays to swipe the rows and columns of an array.**\n",
    "\n",
    "- **For example**, a numpy array of shape (2, 3) becomes a numpy array of shape (3, 2) after the operation wherein the first row becomes the first column and the second row becomes the second column. Also, conversely, the first column becomes the first row, the second column becomes the second row, and the third column becomes the third row post the transpose.\n",
    "\n",
    "- You can use the transpose() function to transpose a numpy array but we can also use the .T numpy array attribute to transpose a 2D array.\n",
    "\n",
    "- **Syntax: arr.transpose() or arr.T**"
   ]
  },
  {
   "cell_type": "code",
   "execution_count": 54,
   "id": "69696ac5",
   "metadata": {},
   "outputs": [
    {
     "name": "stdout",
     "output_type": "stream",
     "text": [
      "Original 2D array :\n",
      "[[1 2 3]\n",
      " [4 5 6]\n",
      " [7 8 9]]\n",
      "Transpose of 2D Array :\n",
      "[[1 4 7]\n",
      " [2 5 8]\n",
      " [3 6 9]]\n"
     ]
    }
   ],
   "source": [
    "# example of transpose()\n",
    "print('Original 2D array :')\n",
    "print(arr)\n",
    "print('Transpose of 2D Array :')\n",
    "print(arr.transpose()) # OR print(arr.T)"
   ]
  },
  {
   "cell_type": "markdown",
   "id": "da5c8e9e",
   "metadata": {},
   "source": [
    "**np.ravel():**\n",
    "- Converting n dimesion array into 1D array.\n",
    "- syntax: **arr.ravel()**"
   ]
  },
  {
   "cell_type": "code",
   "execution_count": 53,
   "id": "d938380b",
   "metadata": {
    "scrolled": true
   },
   "outputs": [
    {
     "name": "stdout",
     "output_type": "stream",
     "text": [
      "Original 2D array :\n",
      "[[1 2 3]\n",
      " [4 5 6]\n",
      " [7 8 9]]\n",
      "Conveting into 1D array using ravel() :\n",
      "[1 2 3 4 5 6 7 8 9]\n"
     ]
    }
   ],
   "source": [
    "print('Original 2D array :')\n",
    "print(arr)\n",
    "print('Conveting into 1D array using ravel() :')\n",
    "print(arr.ravel())"
   ]
  },
  {
   "cell_type": "markdown",
   "id": "b0155433",
   "metadata": {},
   "source": [
    "### Stacking :\n",
    "\n",
    "Stacking is the concept of joining arrays in NumPy. Arrays having the same dimensions can be stacked.\n",
    "\n",
    "In NumPy, you can stack arrays along different axes using the functions.\n",
    "(column-wise means axis=0 & row-wise means axis=1) \n",
    "- **np.hstack() : horizontal stacking** \n",
    "- **np.vstack() : vertical stacking** \n",
    "\n",
    "Some times we have multiple data source means sometimes data come form databases , API and another data comes from web scrapping etc. so that data is similar data for multiple source then we can stack the data for data analysis.\n",
    "\n",
    "**NOTE :** Shape/dimensions of the array should ne same"
   ]
  },
  {
   "cell_type": "code",
   "execution_count": 57,
   "id": "432ce85e",
   "metadata": {},
   "outputs": [],
   "source": [
    "# creating two arrays for hstack() and vstack():\n",
    "import numpy as np\n",
    "arr1 = np.arange(12).reshape(3,4)\n",
    "arr2 = np.arange(12,24).reshape(3,4)"
   ]
  },
  {
   "cell_type": "markdown",
   "id": "be85db44",
   "metadata": {},
   "source": [
    "**np.hstack():**\n",
    "- horizontal stacking concatenates the arrays in sequence horizontally (column-wise).\n",
    "- This function stacks arrays horizontally (along axis 1), which means it **appends the columns of one array to the end of another array**.\n",
    "- Syntax : **np.hstack((arr1, arr2))**"
   ]
  },
  {
   "cell_type": "code",
   "execution_count": 58,
   "id": "197dfb83",
   "metadata": {
    "scrolled": true
   },
   "outputs": [
    {
     "name": "stdout",
     "output_type": "stream",
     "text": [
      "[[ 0  1  2  3 12 13 14 15]\n",
      " [ 4  5  6  7 16 17 18 19]\n",
      " [ 8  9 10 11 20 21 22 23]]\n"
     ]
    }
   ],
   "source": [
    "# Ex. of np.hstack()\n",
    "print(np.hstack((arr1,arr2)))"
   ]
  },
  {
   "cell_type": "markdown",
   "id": "18761174",
   "metadata": {},
   "source": [
    "**np.vstack():**\n",
    "- vertical stacking means concatenates the arrays in sequence vertically (row-wise).\n",
    "- This function stacks arrays vertically (along axis 0), which means it appends the rows of one array to the end of another array.\n",
    "- syntax : **np.vstack((arr1, arr2))**"
   ]
  },
  {
   "cell_type": "code",
   "execution_count": 59,
   "id": "6e898fff",
   "metadata": {},
   "outputs": [
    {
     "name": "stdout",
     "output_type": "stream",
     "text": [
      "[[ 0  1  2  3]\n",
      " [ 4  5  6  7]\n",
      " [ 8  9 10 11]\n",
      " [12 13 14 15]\n",
      " [16 17 18 19]\n",
      " [20 21 22 23]]\n"
     ]
    }
   ],
   "source": [
    "# Ex. of np.vstack()\n",
    "print(np.vstack((arr1, arr2)))"
   ]
  },
  {
   "cell_type": "markdown",
   "id": "d70ebc93",
   "metadata": {},
   "source": [
    "### Splitting :\n",
    "In NumPy, you can stack arrays along different axes (column-wise means axis=0 & row-wise means axis=1) using the functions.\n",
    " - **np.hsplit() : horizontal splitting**\n",
    " - **np.vsplit() : vertical splitting**"
   ]
  },
  {
   "cell_type": "code",
   "execution_count": 1,
   "id": "4a1f9591",
   "metadata": {},
   "outputs": [
    {
     "name": "stdout",
     "output_type": "stream",
     "text": [
      "[[ 1  2  3  4]\n",
      " [ 5  6  7  8]\n",
      " [ 9 10 11 12]]\n"
     ]
    }
   ],
   "source": [
    "# creating array for hsplit() and vsplit() :\n",
    "import numpy as np\n",
    "arr = np.arange(1,13).reshape(3,4)\n",
    "print(arr)"
   ]
  },
  {
   "attachments": {
    "image.png": {
     "image/png": "[encoded data removed]"
    }
   },
   "cell_type": "markdown",
   "id": "2503a0f7",
   "metadata": {},
   "source": [
    "**np.hsplit():**\n",
    "- hsplit() function is used to split a numpy array into multiple sub-arrays horizontally (column-wise). \n",
    "Pass the input array and the number of sub-arrays as arguments.\n",
    "- **Note:**only be used to split an array into sub-arrays of equal size.\n",
    "- **syntax : np.hsplit(arr,split_number))**\n",
    "    - **arr** : input array\n",
    "    - **split_number** : splitting array number\n",
    "![image.png](attachment:image.png)"
   ]
  },
  {
   "cell_type": "code",
   "execution_count": 63,
   "id": "de626e16",
   "metadata": {},
   "outputs": [
    {
     "name": "stdout",
     "output_type": "stream",
     "text": [
      "[array([[ 1,  2],\n",
      "       [ 5,  6],\n",
      "       [ 9, 10]]), array([[ 3,  4],\n",
      "       [ 7,  8],\n",
      "       [11, 12]])]\n"
     ]
    }
   ],
   "source": [
    "# Ex. of hsplit()\n",
    "print(np.hsplit(arr, 2))"
   ]
  },
  {
   "attachments": {
    "image.png": {
     "image/png": "[encoded data removed]"
    }
   },
   "cell_type": "markdown",
   "id": "775dcfb5",
   "metadata": {},
   "source": [
    "**np.vsplit():**\n",
    "- vsplit() function is used to split a numpy array into multiple sub-arrays vertically (row-wise). Pass the input array and the number of sub-arrays as arguments.\n",
    "- **syntax : np.vsplit(arr,split_number))**\n",
    "    - **arr** : input array\n",
    "    - **split_number** : splitting array number\n",
    "![image.png](attachment:image.png)"
   ]
  },
  {
   "cell_type": "code",
   "execution_count": 64,
   "id": "ecf73c68",
   "metadata": {},
   "outputs": [
    {
     "name": "stdout",
     "output_type": "stream",
     "text": [
      "[array([[1, 2, 3, 4]]), array([[5, 6, 7, 8]]), array([[ 9, 10, 11, 12]])]\n"
     ]
    }
   ],
   "source": [
    "# Ex. of vsplit()\n",
    "print(np.vsplit(arr, 3))"
   ]
  },
  {
   "cell_type": "code",
   "execution_count": null,
   "id": "c6b5a1a8",
   "metadata": {},
   "outputs": [],
   "source": []
  },
  {
   "cell_type": "code",
   "execution_count": null,
   "id": "f103dae6",
   "metadata": {},
   "outputs": [],
   "source": []
  }
 ],
 "metadata": {
  "kernelspec": {
   "display_name": "Python 3 (ipykernel)",
   "language": "python",
   "name": "python3"
  },
  "language_info": {
   "codemirror_mode": {
    "name": "ipython",
    "version": 3
   },
   "file_extension": ".py",
   "mimetype": "text/x-python",
   "name": "python",
   "nbconvert_exporter": "python",
   "pygments_lexer": "ipython3",
   "version": "3.10.7"
  }
 },
 "nbformat": 4,
 "nbformat_minor": 5
}
