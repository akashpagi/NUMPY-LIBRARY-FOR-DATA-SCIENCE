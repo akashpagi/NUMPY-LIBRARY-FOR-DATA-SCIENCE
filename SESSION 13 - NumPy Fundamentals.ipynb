{
 "cells": [
  {
   "cell_type": "markdown",
   "id": "84ae5a6e",
   "metadata": {},
   "source": [
    "### SESSION 13 - NumPy Fundamentals\n",
    "#### What is numpy?\n",
    "- NumPy is the fundamental package for scientific computing in Python. \n",
    "- It is a Python library that provides a multidimensional array object, various derived objects (such as masked arrays and matrices), and an assortment of routines for fast operations on arrays, including mathematical, logical, shape manipulation, sorting, selecting, I/O, discrete Fourier transforms, basic linear algebra, basic statistical operations, random simulation and much more.\n",
    "- At the core of the NumPy package, is the ndarray object. This encapsulates n-dimensional arrays of homogeneous data types.\n",
    "\n",
    "#### Numpy Arrays Vs Python Sequences\n",
    "\n",
    "- NumPy arrays have a fixed size at creation, unlike Python lists (which can grow dynamically). Changing the size of an ndarray will create a new array and delete the original.\n",
    "\n",
    "- The elements in a NumPy array are all required to be of the same data type, and thus will be the same size in memory.\n",
    "\n",
    "- NumPy arrays facilitate advanced mathematical and other types of operations on large numbers of data. Typically, such operations are executed more efficiently and with less code than is possible using Python’s built-in sequences.\n",
    "\n",
    "- A growing plethora of scientific and mathematical Python-based packages are using NumPy arrays; though these typically support Python-sequence input, they convert such input to NumPy arrays prior to processing, and they often output NumPy arrays."
   ]
  },
  {
   "cell_type": "markdown",
   "id": "63be6948",
   "metadata": {},
   "source": [
    "#### Creating Numpy Arrays :\n",
    "- There are 2 ways to importing the numpy module :\n",
    "    - **`import numpy as np`**\n",
    "    - **`from numpy import *`**"
   ]
  },
  {
   "cell_type": "code",
   "execution_count": 4,
   "id": "c3b303e7",
   "metadata": {},
   "outputs": [
    {
     "name": "stdout",
     "output_type": "stream",
     "text": [
      "a : [1 2 3 4]\n",
      "type of a : <class 'numpy.ndarray'>\n"
     ]
    }
   ],
   "source": [
    "import numpy as np\n",
    "# it is vector\n",
    "a = np.array([1,2,3,4])\n",
    "print('a :',a)\n",
    "print('type of a :',type(a))"
   ]
  },
  {
   "cell_type": "markdown",
   "id": "088aee40",
   "metadata": {},
   "source": [
    "#### Creating a 2D and 3D numpy arrays:"
   ]
  },
  {
   "cell_type": "code",
   "execution_count": 8,
   "id": "c912bf42",
   "metadata": {},
   "outputs": [
    {
     "name": "stdout",
     "output_type": "stream",
     "text": [
      "2D: [[1 2 3]\n",
      " [4 5 6]]\n"
     ]
    }
   ],
   "source": [
    "from numpy import *\n",
    "# 2D array (it is matrix)\n",
    "b = array([[1,2,3],[4,5,6]])\n",
    "print('2D:',b)"
   ]
  },
  {
   "cell_type": "code",
   "execution_count": 11,
   "id": "fb3646ce",
   "metadata": {},
   "outputs": [
    {
     "name": "stdout",
     "output_type": "stream",
     "text": [
      "[[[ 2 17]\n",
      "  [45 78]]\n",
      "\n",
      " [[88 92]\n",
      "  [60 76]]\n",
      "\n",
      " [[76 33]\n",
      "  [20 18]]]\n"
     ]
    }
   ],
   "source": [
    "# 3D array (it is tensor)\n",
    "c = array([[[2,17], [45, 78]], [[88, 92], [60, 76]],[[76,33],[20,18]]])\n",
    "print(c)"
   ]
  },
  {
   "cell_type": "markdown",
   "id": "90b4bd97",
   "metadata": {},
   "source": [
    "#### Creating a numpy with different `dtype`:"
   ]
  },
  {
   "cell_type": "code",
   "execution_count": 14,
   "id": "fbcabf25",
   "metadata": {},
   "outputs": [
    {
     "name": "stdout",
     "output_type": "stream",
     "text": [
      "float : [1. 2. 3. 4.]\n",
      "complex : [1.+0.j 2.+0.j 3.+0.j 4.+0.j]\n",
      "boolean : [ True  True False  True]\n"
     ]
    }
   ],
   "source": [
    "f = array([1,2,3,4] , dtype=float)\n",
    "c = array([1,2,3,4] , dtype=complex)\n",
    "tf = array([1,2,0,4] , dtype=bool) # non integer value consider as True\n",
    "print('float :',f)\n",
    "print('complex :',c)\n",
    "print('boolean :',tf)"
   ]
  },
  {
   "cell_type": "markdown",
   "id": "2294c6c3",
   "metadata": {},
   "source": [
    "#### Numpy.arange() function :\n",
    "- The Numpy arange function **generates a NumPy array** with evenly spaced values based on the start and stops intervals specified upon declaration.\n",
    "- To use the arange function, we will create a new script with the NumPy library imported as np.\n",
    "- Next, we will declare a new variable number and set this equal to np. arange().\n",
    "- **Syntax :** `numpy.arange([start],stop,[step],dtype=None)`"
   ]
  },
  {
   "cell_type": "code",
   "execution_count": 23,
   "id": "d3b5fe6e",
   "metadata": {},
   "outputs": [
    {
     "name": "stdout",
     "output_type": "stream",
     "text": [
      "[5 6 7 8 9]\n",
      "[5 7 9]\n"
     ]
    }
   ],
   "source": [
    "from numpy import *\n",
    "e = arange(5,10)\n",
    "e1 = arange(5,10,2)\n",
    "print(e)\n",
    "print(e1)"
   ]
  },
  {
   "cell_type": "markdown",
   "id": "259b2894",
   "metadata": {},
   "source": [
    "#### Numpy.reshape() function :\n",
    "- The numpy.reshape() function is used to **change the shape (dimensions) of an array without changing its data.** \n",
    "- This function **returns a new array with the same data but with a different shape.**\n",
    "- The numpy.reshape() function is useful when we need to change the dimensions of an array.\n",
    "- **for example,** when we want to convert a one-dimensional array into a two-dimensional array or vice versa. \n",
    "- It can also be used to create arrays with a specific shape, such as matrices and tensors.\n",
    "- **Syntax :** `numpy.reshape(a, newshape, order='C')`\n",
    "    - **a :** This is the source array which we want to reshape.\n",
    "    - **new_shape:** The shape in which we want to convert our original array should be compatible with the original array.\n",
    "    - **order:** {'C', 'F', 'A'}, optional"
   ]
  },
  {
   "cell_type": "code",
   "execution_count": 29,
   "id": "88c67d58",
   "metadata": {},
   "outputs": [
    {
     "name": "stdout",
     "output_type": "stream",
     "text": [
      "[[ 1  2  3  4  5  6]\n",
      " [ 7  8  9 10 11 12]]\n",
      "[[ 1  2]\n",
      " [ 3  4]\n",
      " [ 5  6]\n",
      " [ 7  8]\n",
      " [ 9 10]\n",
      " [11 12]]\n",
      "[[ 1  2  3  4]\n",
      " [ 5  6  7  8]\n",
      " [ 9 10 11 12]]\n"
     ]
    }
   ],
   "source": [
    "from numpy import *\n",
    "r = arange(1,13)\n",
    "re = reshape(r,(2,6))\n",
    "print(re)\n",
    "re1 = reshape(r,(6,2))\n",
    "print(re1)\n",
    "re3 = reshape(r,(3,4))\n",
    "print(re3)"
   ]
  },
  {
   "cell_type": "markdown",
   "id": "41168afe",
   "metadata": {},
   "source": [
    "#### numpy.ones() function :\n",
    "- Python numpy.ones() function returns a new array of given shape and data type, where the element’s value is set to 1.\n",
    "- **For example,**It is useful in deep learning to intialize the weights values\n",
    "- **syntax**: `ones(shape, dtype=None, order='C')`"
   ]
  },
  {
   "cell_type": "code",
   "execution_count": 9,
   "id": "6b2bc9ad",
   "metadata": {},
   "outputs": [
    {
     "name": "stdout",
     "output_type": "stream",
     "text": [
      "[[1. 1. 1. 1.]\n",
      " [1. 1. 1. 1.]]\n"
     ]
    }
   ],
   "source": [
    "from numpy import *\n",
    "o = ones((2,4))\n",
    "print(o)"
   ]
  },
  {
   "cell_type": "markdown",
   "id": "d083355a",
   "metadata": {},
   "source": [
    "#### numpy.zeros() function :\n",
    "- Python numpy.zeros() function returns a new array of given shape and type, where the element’s value as 0.\n",
    "- The elements are having the default data type as the float. That’s why the zeros are 0.\n",
    "- **syntax**: `zeros(shape, dtype=None, order='C')`"
   ]
  },
  {
   "cell_type": "code",
   "execution_count": 10,
   "id": "42048bc7",
   "metadata": {},
   "outputs": [
    {
     "name": "stdout",
     "output_type": "stream",
     "text": [
      "[[0 0 0 0 0 0 0 0 0 0]\n",
      " [0 0 0 0 0 0 0 0 0 0]]\n"
     ]
    }
   ],
   "source": [
    "from numpy import *\n",
    "z = zeros((2,10), dtype=int)\n",
    "print(z)"
   ]
  },
  {
   "cell_type": "code",
   "execution_count": null,
   "id": "16cb7965",
   "metadata": {},
   "outputs": [],
   "source": []
  },
  {
   "cell_type": "code",
   "execution_count": null,
   "id": "c3f087e1",
   "metadata": {},
   "outputs": [],
   "source": []
  },
  {
   "cell_type": "code",
   "execution_count": null,
   "id": "66a5d0b3",
   "metadata": {},
   "outputs": [],
   "source": []
  },
  {
   "cell_type": "code",
   "execution_count": null,
   "id": "a3d93cc5",
   "metadata": {},
   "outputs": [],
   "source": []
  },
  {
   "cell_type": "code",
   "execution_count": null,
   "id": "590b338f",
   "metadata": {},
   "outputs": [],
   "source": []
  },
  {
   "cell_type": "code",
   "execution_count": null,
   "id": "730286aa",
   "metadata": {},
   "outputs": [],
   "source": []
  },
  {
   "cell_type": "code",
   "execution_count": null,
   "id": "431a4cc2",
   "metadata": {},
   "outputs": [],
   "source": []
  },
  {
   "cell_type": "code",
   "execution_count": null,
   "id": "944dff4a",
   "metadata": {},
   "outputs": [],
   "source": []
  }
 ],
 "metadata": {
  "kernelspec": {
   "display_name": "Python 3 (ipykernel)",
   "language": "python",
   "name": "python3"
  },
  "language_info": {
   "codemirror_mode": {
    "name": "ipython",
    "version": 3
   },
   "file_extension": ".py",
   "mimetype": "text/x-python",
   "name": "python",
   "nbconvert_exporter": "python",
   "pygments_lexer": "ipython3",
   "version": "3.10.7"
  }
 },
 "nbformat": 4,
 "nbformat_minor": 5
}
