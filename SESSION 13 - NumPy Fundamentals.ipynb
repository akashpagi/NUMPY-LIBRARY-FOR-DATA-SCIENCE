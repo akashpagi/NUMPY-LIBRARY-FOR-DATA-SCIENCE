{
 "cells": [
  {
   "cell_type": "markdown",
   "id": "84ae5a6e",
   "metadata": {},
   "source": [
    "### SESSION 13 - NumPy Fundamentals\n",
    "### What is numpy?\n",
    "- NumPy is the fundamental package for scientific computing in Python. \n",
    "- It is a Python library that provides a multidimensional array object, various derived objects (such as masked arrays and matrices), and an assortment of routines for fast operations on arrays, including mathematical, logical, shape manipulation, sorting, selecting, I/O, discrete Fourier transforms, basic linear algebra, basic statistical operations, random simulation and much more.\n",
    "- At the core of the NumPy package, is the ndarray object. This encapsulates n-dimensional arrays of homogeneous data types.\n",
    "\n",
    "### Numpy Arrays Vs Python Sequences\n",
    "\n",
    "- NumPy arrays have a fixed size at creation, unlike Python lists (which can grow dynamically). Changing the size of an ndarray will create a new array and delete the original.\n",
    "\n",
    "- The elements in a NumPy array are all required to be of the same data type, and thus will be the same size in memory.\n",
    "\n",
    "- NumPy arrays facilitate advanced mathematical and other types of operations on large numbers of data. Typically, such operations are executed more efficiently and with less code than is possible using Python’s built-in sequences.\n",
    "\n",
    "- A growing plethora of scientific and mathematical Python-based packages are using NumPy arrays; though these typically support Python-sequence input, they convert such input to NumPy arrays prior to processing, and they often output NumPy arrays."
   ]
  },
  {
   "cell_type": "markdown",
   "id": "63be6948",
   "metadata": {},
   "source": [
    "### Creating Numpy Arrays :\n",
    "- There are 2 ways to importing the numpy module :\n",
    "    - **`import numpy as np`**\n",
    "    - **`from numpy import *`**"
   ]
  },
  {
   "cell_type": "code",
   "execution_count": 64,
   "id": "c3b303e7",
   "metadata": {},
   "outputs": [
    {
     "name": "stdout",
     "output_type": "stream",
     "text": [
      "a : [1 2 3 4]\n",
      "type of a : <class 'numpy.ndarray'>\n"
     ]
    }
   ],
   "source": [
    "import numpy as np\n",
    "# it is vector\n",
    "a = np.array([1,2,3,4])\n",
    "print('a :',a)\n",
    "print('type of a :',type(a))"
   ]
  },
  {
   "cell_type": "markdown",
   "id": "088aee40",
   "metadata": {},
   "source": [
    "### Creating a 2D and 3D numpy arrays:"
   ]
  },
  {
   "cell_type": "code",
   "execution_count": 65,
   "id": "c912bf42",
   "metadata": {},
   "outputs": [
    {
     "name": "stdout",
     "output_type": "stream",
     "text": [
      "2D: [[1 2 3]\n",
      " [4 5 6]]\n"
     ]
    }
   ],
   "source": [
    "from numpy import *\n",
    "# 2D array (it is matrix)\n",
    "b = array([[1,2,3],[4,5,6]])\n",
    "print('2D:',b)"
   ]
  },
  {
   "cell_type": "code",
   "execution_count": 66,
   "id": "fb3646ce",
   "metadata": {},
   "outputs": [
    {
     "name": "stdout",
     "output_type": "stream",
     "text": [
      "[[[ 2 17]\n",
      "  [45 78]]\n",
      "\n",
      " [[88 92]\n",
      "  [60 76]]\n",
      "\n",
      " [[76 33]\n",
      "  [20 18]]]\n"
     ]
    }
   ],
   "source": [
    "# 3D array (it is tensor)\n",
    "c = array([[[2,17], [45, 78]], [[88, 92], [60, 76]],[[76,33],[20,18]]])\n",
    "print(c)"
   ]
  },
  {
   "cell_type": "markdown",
   "id": "90b4bd97",
   "metadata": {},
   "source": [
    "#### Creating a numpy with different `dtype`:"
   ]
  },
  {
   "cell_type": "code",
   "execution_count": 67,
   "id": "fbcabf25",
   "metadata": {},
   "outputs": [
    {
     "name": "stdout",
     "output_type": "stream",
     "text": [
      "float : [1. 2. 3. 4.]\n",
      "complex : [1.+0.j 2.+0.j 3.+0.j 4.+0.j]\n",
      "boolean : [ True  True False  True]\n"
     ]
    }
   ],
   "source": [
    "f = array([1,2,3,4] , dtype=float)\n",
    "c = array([1,2,3,4] , dtype=complex)\n",
    "tf = array([1,2,0,4] , dtype=bool) # non integer value consider as True\n",
    "print('float :',f)\n",
    "print('complex :',c)\n",
    "print('boolean :',tf)"
   ]
  },
  {
   "cell_type": "markdown",
   "id": "2294c6c3",
   "metadata": {},
   "source": [
    "#### .arange() function :\n",
    "- The Numpy arange function **generates a NumPy array** with evenly spaced values based on the start and stops intervals specified upon declaration.\n",
    "- To use the arange function, we will create a new script with the NumPy library imported as np.\n",
    "- Next, we will declare a new variable number and set this equal to np. arange().\n",
    "- **Syntax :** `numpy.arange([start],stop,[step],dtype=None)`"
   ]
  },
  {
   "cell_type": "code",
   "execution_count": 68,
   "id": "d3b5fe6e",
   "metadata": {},
   "outputs": [
    {
     "name": "stdout",
     "output_type": "stream",
     "text": [
      "[5 6 7 8 9]\n",
      "[5 7 9]\n"
     ]
    }
   ],
   "source": [
    "from numpy import *\n",
    "e = arange(5,10)\n",
    "e1 = arange(5,10,2)\n",
    "print(e)\n",
    "print(e1)"
   ]
  },
  {
   "cell_type": "markdown",
   "id": "259b2894",
   "metadata": {},
   "source": [
    "#### .reshape() function :\n",
    "- The numpy.reshape() function is used to **change the shape (dimensions) of an array without changing its data.** \n",
    "- This function **returns a new array with the same data but with a different shape.**\n",
    "- The numpy.reshape() function is useful when we need to change the dimensions of an array.\n",
    "- **for example,** when we want to convert a one-dimensional array into a two-dimensional array or vice versa. \n",
    "- It can also be used to create arrays with a specific shape, such as matrices and tensors.\n",
    "- **Syntax :** `numpy.reshape(a, newshape, order='C')`\n",
    "    - **a :** This is the source array which we want to reshape.\n",
    "    - **new_shape:** The shape in which we want to convert our original array should be compatible with the original array.\n",
    "    - **order:** {'C', 'F', 'A'}, optional  \n",
    "- **NOTE:** the both product of the array number is equal to number of item that are present in inside the array."
   ]
  },
  {
   "cell_type": "code",
   "execution_count": 69,
   "id": "88c67d58",
   "metadata": {},
   "outputs": [
    {
     "name": "stdout",
     "output_type": "stream",
     "text": [
      "[[ 1  2  3  4  5  6]\n",
      " [ 7  8  9 10 11 12]]\n",
      "[[ 1  2]\n",
      " [ 3  4]\n",
      " [ 5  6]\n",
      " [ 7  8]\n",
      " [ 9 10]\n",
      " [11 12]]\n",
      "[[ 1  2  3  4]\n",
      " [ 5  6  7  8]\n",
      " [ 9 10 11 12]]\n"
     ]
    }
   ],
   "source": [
    "from numpy import *\n",
    "r = arange(1,13)\n",
    "re = reshape(r,(2,6))\n",
    "print(re)\n",
    "re1 = reshape(r,(6,2))\n",
    "print(re1)\n",
    "re3 = reshape(r,(3,4))\n",
    "print(re3)"
   ]
  },
  {
   "cell_type": "markdown",
   "id": "d37645a7",
   "metadata": {},
   "source": [
    "#### numpy.ones() function :\n",
    "- Python numpy.ones() function returns a new array of given shape and data type, where the element’s value is set to 1.\n",
    "- **For example,**It is useful in deep learning to intialize the weights values\n",
    "- **syntax**: `ones(shape, dtype=None, order='C')`"
   ]
  },
  {
   "cell_type": "code",
   "execution_count": 70,
   "id": "6b2bc9ad",
   "metadata": {},
   "outputs": [
    {
     "name": "stdout",
     "output_type": "stream",
     "text": [
      "[[1 1 1 1]\n",
      " [1 1 1 1]]\n"
     ]
    }
   ],
   "source": [
    "from numpy import *\n",
    "o = ones((2,4), dtype=int)\n",
    "print(o)"
   ]
  },
  {
   "cell_type": "markdown",
   "id": "1f81ebcc",
   "metadata": {},
   "source": [
    "#### .zeros() function :\n",
    "- Python numpy.zeros() function returns a new array of given shape and type, where the element’s value as 0.\n",
    "- The elements are having the default data type as the float. That’s why the zeros are 0.\n",
    "- **syntax**: `zeros(shape, dtype=None, order='C')`"
   ]
  },
  {
   "cell_type": "code",
   "execution_count": 71,
   "id": "42048bc7",
   "metadata": {},
   "outputs": [
    {
     "name": "stdout",
     "output_type": "stream",
     "text": [
      "[[0 0 0]\n",
      " [0 0 0]\n",
      " [0 0 0]]\n"
     ]
    }
   ],
   "source": [
    "from numpy import *\n",
    "z = zeros((3,3), dtype=int)\n",
    "print(z)"
   ]
  },
  {
   "cell_type": "markdown",
   "id": "bd4d4d80",
   "metadata": {},
   "source": [
    "#### numpy.random.random() function :\n",
    "- The functions which are used for generating random numbers.\n",
    "- here 1st random is class name and other one is method name follows OOP concept"
   ]
  },
  {
   "cell_type": "code",
   "execution_count": 72,
   "id": "c3f087e1",
   "metadata": {},
   "outputs": [
    {
     "name": "stdout",
     "output_type": "stream",
     "text": [
      "[[0.44509628 0.19277255 0.29745395]\n",
      " [0.25306869 0.48937346 0.56124047]\n",
      " [0.58278016 0.28991606 0.16215481]]\n"
     ]
    }
   ],
   "source": [
    "from numpy import *\n",
    "# creating default random varible between 0 to 1\n",
    "r = random.random((3,3))\n",
    "print(r)"
   ]
  },
  {
   "cell_type": "markdown",
   "id": "4c40adce",
   "metadata": {},
   "source": [
    "#### .linspace() function : (Linear/ linearly space)\n",
    "- NumPy function that returns evenly spaced numbers over a specified interval.\n",
    "- Use plotting ther ML algorithm result.\n",
    "- **syntax :** - `linspace(start, stop, num=50, dtype=None, axis=0)` \n",
    "    - **start:** The starting value of the sequence.\n",
    "    - **stop:** The end value of the sequence, unless endpoint is set to False.\n",
    "    - **num:** The number of evenly spaced numbers to generate. Default is 50.\n",
    "    - **axis:** The axis along which to generate the evenly spaced numbers. Default is 0."
   ]
  },
  {
   "cell_type": "code",
   "execution_count": 73,
   "id": "a3d93cc5",
   "metadata": {},
   "outputs": [
    {
     "name": "stdout",
     "output_type": "stream",
     "text": [
      "[ 1.    3.25  5.5   7.75 10.  ]\n"
     ]
    }
   ],
   "source": [
    "from numpy import *\n",
    "ls = linspace(1,10,5)\n",
    "print(ls)"
   ]
  },
  {
   "cell_type": "markdown",
   "id": "bcb0cfb3",
   "metadata": {},
   "source": [
    "#### .identity() function :\n",
    "- Returns a square identity matrix of size n x n.\n",
    "- means digonally items are 1 and remaing are all 0's\n",
    "- **syntax:** `numpy.identity(n, dtype=None)`\n",
    "    - **n:** The size of the identity matrix to be generated.\n",
    "    - **dtype:** The data type of the output array and default is float."
   ]
  },
  {
   "cell_type": "code",
   "execution_count": 74,
   "id": "730286aa",
   "metadata": {
    "scrolled": true
   },
   "outputs": [
    {
     "name": "stdout",
     "output_type": "stream",
     "text": [
      "[[1 0 0]\n",
      " [0 1 0]\n",
      " [0 0 1]]\n"
     ]
    }
   ],
   "source": [
    "from numpy import *\n",
    "i = identity(3, dtype=int)\n",
    "print(i)"
   ]
  },
  {
   "cell_type": "markdown",
   "id": "7b527976",
   "metadata": {},
   "source": [
    "### Numpy Arrays Attributes of a Numpy Array\n",
    "- NumPy array (ndarray class) is the most used construct of NumPy in Machine Learning and Deep Learning. Let us look into some important attributes of this NumPy array."
   ]
  },
  {
   "cell_type": "code",
   "execution_count": 75,
   "id": "a28cb504",
   "metadata": {},
   "outputs": [
    {
     "name": "stdout",
     "output_type": "stream",
     "text": [
      "[0 1 2 3 4 5 6 7 8 9]\n",
      "[[ 0.  1.  2.  3.]\n",
      " [ 4.  5.  6.  7.]\n",
      " [ 8.  9. 10. 11.]]\n",
      "[[[0 1]\n",
      "  [2 3]]\n",
      "\n",
      " [[4 5]\n",
      "  [6 7]]]\n"
     ]
    }
   ],
   "source": [
    "from numpy import *\n",
    "a1 = arange(10)\n",
    "a2 = arange(12,dtype=float).reshape(3,4)\n",
    "a3 = arange(8).reshape(2,2,2)\n",
    "print(a1)\n",
    "print(a2)\n",
    "print(a3)"
   ]
  },
  {
   "cell_type": "markdown",
   "id": "8a0970cb",
   "metadata": {},
   "source": [
    "#### .ndim attribute\n",
    "- In NumPy, **.ndim** is a function that returns the number of dimensions of a given NumPy array.."
   ]
  },
  {
   "cell_type": "code",
   "execution_count": 76,
   "id": "87046374",
   "metadata": {},
   "outputs": [
    {
     "name": "stdout",
     "output_type": "stream",
     "text": [
      "1\n",
      "2\n",
      "3\n"
     ]
    }
   ],
   "source": [
    "print(a1.ndim)\n",
    "print(a2.ndim)\n",
    "print(a3.ndim)"
   ]
  },
  {
   "cell_type": "markdown",
   "id": "dc8efd66",
   "metadata": {},
   "source": [
    "#### .shape attribute\n",
    "- In NumPy, the **.shape** attribute of a NumPy array is used to determine the dimensions of the array. \n",
    "- It returns a tuple of integers that represent the size of the array in each dimension."
   ]
  },
  {
   "cell_type": "code",
   "execution_count": 77,
   "id": "9ad75e5c",
   "metadata": {},
   "outputs": [
    {
     "name": "stdout",
     "output_type": "stream",
     "text": [
      "(10,)\n",
      "(3, 4)\n",
      "(2, 2, 2)\n"
     ]
    }
   ],
   "source": [
    "print(a1.shape)\n",
    "print(a2.shape)\n",
    "print(a3.shape)"
   ]
  },
  {
   "cell_type": "markdown",
   "id": "b2a8beef",
   "metadata": {},
   "source": [
    "####  .size attribute\n",
    "- In NumPy, **.size** is an attribute of a NumPy array that returns the total number of elements in the array."
   ]
  },
  {
   "cell_type": "code",
   "execution_count": 78,
   "id": "36b48f66",
   "metadata": {},
   "outputs": [
    {
     "name": "stdout",
     "output_type": "stream",
     "text": [
      "10\n",
      "12\n",
      "8\n"
     ]
    }
   ],
   "source": [
    "print(a1.size)\n",
    "print(a2.size)\n",
    "print(a3.size)"
   ]
  },
  {
   "cell_type": "markdown",
   "id": "980e7be2",
   "metadata": {},
   "source": [
    "####  .itemsize attribute\n",
    "- In NumPy, **.itemsize** is an attribute of a NumPy array that returns the size (in bytes) of each element in the array.\n",
    "- Shows occupation of memory of the each item of inside the array "
   ]
  },
  {
   "cell_type": "code",
   "execution_count": 79,
   "id": "05e8c596",
   "metadata": {},
   "outputs": [
    {
     "name": "stdout",
     "output_type": "stream",
     "text": [
      "4\n",
      "8\n",
      "4\n"
     ]
    }
   ],
   "source": [
    "print(a1.itemsize)\n",
    "print(a2.itemsize)\n",
    "print(a3.itemsize)"
   ]
  },
  {
   "cell_type": "markdown",
   "id": "a326d231",
   "metadata": {},
   "source": [
    "#### .dtype attribute\n",
    "- In NumPy,**.dtype** is an attribute of a NumPy array that returns the data type of the elements in the array."
   ]
  },
  {
   "cell_type": "code",
   "execution_count": 80,
   "id": "8ff46c48",
   "metadata": {},
   "outputs": [
    {
     "name": "stdout",
     "output_type": "stream",
     "text": [
      "int32\n",
      "float64\n",
      "int32\n"
     ]
    }
   ],
   "source": [
    "print(a1.dtype)\n",
    "print(a2.dtype)\n",
    "print(a3.dtype)"
   ]
  },
  {
   "cell_type": "markdown",
   "id": "612ac03b",
   "metadata": {},
   "source": [
    "#### Changing datatype using .astype() method :\n",
    "- **.astype()** is a method of a NumPy array that is used to **change the data type of the elements in the array.**\n",
    "- More useful in converting the Float datatype reduction in integer value "
   ]
  },
  {
   "cell_type": "code",
   "execution_count": 81,
   "id": "7214c23a",
   "metadata": {},
   "outputs": [
    {
     "name": "stdout",
     "output_type": "stream",
     "text": [
      "a2 dtype : float64\n",
      "[[ 0.  1.  2.  3.]\n",
      " [ 4.  5.  6.  7.]\n",
      " [ 8.  9. 10. 11.]]\n",
      "[[ 0  1  2  3]\n",
      " [ 4  5  6  7]\n",
      " [ 8  9 10 11]]\n",
      "a2 dtype : int32\n"
     ]
    }
   ],
   "source": [
    "print('a2 dtype :',a2.dtype)\n",
    "print(a2)\n",
    "change_dtype = a2.astype(int32)\n",
    "print(change_dtype)\n",
    "print('a2 dtype :',change_dtype.dtype)"
   ]
  },
  {
   "cell_type": "markdown",
   "id": "fe572849",
   "metadata": {},
   "source": [
    "#### Numpy Array Operations :\n",
    "- Use for perfroming mathematical operation "
   ]
  },
  {
   "cell_type": "code",
   "execution_count": 82,
   "id": "0946affb",
   "metadata": {},
   "outputs": [
    {
     "name": "stdout",
     "output_type": "stream",
     "text": [
      "[[ 0  1  2  3]\n",
      " [ 4  5  6  7]\n",
      " [ 8  9 10 11]]\n",
      "[[12 13 14 15]\n",
      " [16 17 18 19]\n",
      " [20 21 22 23]]\n"
     ]
    }
   ],
   "source": [
    "from numpy import *\n",
    "a1 = arange(12).reshape(3,4)\n",
    "a2 = arange(12,24).reshape(3,4)\n",
    "print(a1)\n",
    "print(a2)"
   ]
  },
  {
   "cell_type": "markdown",
   "id": "8b50a318",
   "metadata": {},
   "source": [
    "#### Scalar Operations:\n",
    "- A scalar operation is an **operation between a scalar value (a single number) and an array.**\n",
    "- In NumPy, scalar operations can be performed using arithmetic operators such as +, -, *, and /. \n",
    "- When a scalar value is added to an array, the scalar value is added to each element in the array."
   ]
  },
  {
   "cell_type": "code",
   "execution_count": 83,
   "id": "b2cb4e6f",
   "metadata": {},
   "outputs": [
    {
     "name": "stdout",
     "output_type": "stream",
     "text": [
      "Addintion of 2 to each element of array :\n",
      "[[ 2  3  4  5]\n",
      " [ 6  7  8  9]\n",
      " [10 11 12 13]]\n",
      "Multiply by 2 to each element of array :\n",
      "[[ 0  2  4  6]\n",
      " [ 8 10 12 14]\n",
      " [16 18 20 22]]\n",
      "Division by 2 to each element of array :\n",
      "[[0.  0.5 1.  1.5]\n",
      " [2.  2.5 3.  3.5]\n",
      " [4.  4.5 5.  5.5]]\n",
      "Power of each element of array :\n",
      "[[  0   1   4   9]\n",
      " [ 16  25  36  49]\n",
      " [ 64  81 100 121]]\n"
     ]
    }
   ],
   "source": [
    "from numpy import *\n",
    "print('Addintion of 2 to each element of array :')\n",
    "print(a1 + 2)\n",
    "print('Multiply by 2 to each element of array :')\n",
    "print(a1 * 2)\n",
    "print('Division by 2 to each element of array :')\n",
    "print(a1 / 2)\n",
    "print('Power of each element of array :')\n",
    "print(a1 ** 2)"
   ]
  },
  {
   "cell_type": "markdown",
   "id": "6f8ac788",
   "metadata": {},
   "source": [
    "#### Relational Operators : \n",
    "- In NumPy, relational operations are performed between arrays and return boolean arrays that indicate whether each element in the array satisfies a given condition.\n",
    "\n",
    "#### Comparison Operations:\n",
    "- NumPy provides comparison operators such as ==, !=, <, >, <=, and >= for comparing elements in two arrays. \n",
    "- These operations return a boolean array with the same shape as the input arrays, where True indicates that the condition is satisfied, and False indicates that it is not."
   ]
  },
  {
   "cell_type": "code",
   "execution_count": 84,
   "id": "519cab17",
   "metadata": {},
   "outputs": [
    {
     "name": "stdout",
     "output_type": "stream",
     "text": [
      "[[ True  True  True  True]\n",
      " [ True  True  True  True]\n",
      " [ True  True  True  True]]\n",
      "[[False False  True False]\n",
      " [False False False False]\n",
      " [False False False False]]\n"
     ]
    }
   ],
   "source": [
    "print(a1 >= 0)\n",
    "print(a1 == 2)"
   ]
  },
  {
   "cell_type": "markdown",
   "id": "1e6a194f",
   "metadata": {},
   "source": [
    "#### Vector Operations:\n",
    "- A vector operation is an **operation between two arrays of the same size.** \n",
    "- In NumPy, vector operations can also be performed using arithmetic operators. \n",
    "- When two arrays are added, the corresponding elements in each array are added together. \n",
    "- Similarly, for subtraction and multiplication, the corresponding elements in each array are subtracted and multiplied.\n",
    "- **Note :** It's important to note that vector operations can only be performed on arrays of the same shape. If the arrays have different shapes, NumPy will raise a ValueError."
   ]
  },
  {
   "cell_type": "code",
   "execution_count": 85,
   "id": "22b19756",
   "metadata": {},
   "outputs": [
    {
     "name": "stdout",
     "output_type": "stream",
     "text": [
      "[[ 0  1  2  3]\n",
      " [ 4  5  6  7]\n",
      " [ 8  9 10 11]]\n",
      "[[12 13 14 15]\n",
      " [16 17 18 19]\n",
      " [20 21 22 23]]\n",
      "Adds corresponding elements in arrays a1 and a2 :\n",
      "[[12 14 16 18]\n",
      " [20 22 24 26]\n",
      " [28 30 32 34]]\n",
      "Subtracts corresponding elements in arrays a1 and a2 :\n",
      "[[-12 -12 -12 -12]\n",
      " [-12 -12 -12 -12]\n",
      " [-12 -12 -12 -12]]\n",
      "Multiplication corresponding elements in arrays a1 and a2 :\n",
      "[[  0  13  28  45]\n",
      " [ 64  85 108 133]\n",
      " [160 189 220 253]]\n",
      "Division corresponding elements in arrays a1 and a2 :\n",
      "[[0.         0.07692308 0.14285714 0.2       ]\n",
      " [0.25       0.29411765 0.33333333 0.36842105]\n",
      " [0.4        0.42857143 0.45454545 0.47826087]]\n",
      "Power corresponding elements in arrays a1 and a2 :\n",
      "[[          0           1       16384    14348907]\n",
      " [          0 -1564725563  1159987200   442181591]\n",
      " [          0  1914644777 -1304428544  -122979837]]\n"
     ]
    }
   ],
   "source": [
    "from numpy import *\n",
    "print(a1)\n",
    "print(a2)\n",
    "print('Adds corresponding elements in arrays a1 and a2 :')\n",
    "print(a1 + a2)\n",
    "print('Subtracts corresponding elements in arrays a1 and a2 :')\n",
    "print(a1 - a2)\n",
    "print('Multiplication corresponding elements in arrays a1 and a2 :')\n",
    "print(a1 * a2)\n",
    "print('Division corresponding elements in arrays a1 and a2 :')\n",
    "print(a1 / a2)\n",
    "print('Power corresponding elements in arrays a1 and a2 :')\n",
    "print(a1 ** a2)"
   ]
  },
  {
   "cell_type": "markdown",
   "id": "d755c761",
   "metadata": {},
   "source": [
    "### Numpy Array Function :\n",
    "**max() / min() / sum() / prod():**"
   ]
  },
  {
   "cell_type": "code",
   "execution_count": 86,
   "id": "472f11f8",
   "metadata": {},
   "outputs": [
    {
     "data": {
      "text/plain": [
       "array([[86., 93., 66.],\n",
       "       [28.,  1., 13.],\n",
       "       [45., 84., 19.]])"
      ]
     },
     "execution_count": 86,
     "metadata": {},
     "output_type": "execute_result"
    }
   ],
   "source": [
    "import numpy as np\n",
    "a1 = np.random.random((3,3))\n",
    "a1 = np.round(a1*100)\n",
    "a1"
   ]
  },
  {
   "cell_type": "code",
   "execution_count": 87,
   "id": "3b2d9902",
   "metadata": {},
   "outputs": [
    {
     "name": "stdout",
     "output_type": "stream",
     "text": [
      "93.0\n",
      "1.0\n",
      "435.0\n",
      "13799778632640.0\n"
     ]
    }
   ],
   "source": [
    "print(np.max(a1))\n",
    "print(np.min(a1))\n",
    "print(np.sum(a1))\n",
    "print(np.prod(a1))"
   ]
  },
  {
   "cell_type": "code",
   "execution_count": 88,
   "id": "66a98a89",
   "metadata": {},
   "outputs": [
    {
     "name": "stdout",
     "output_type": "stream",
     "text": [
      "[93. 28. 84.]\n"
     ]
    }
   ],
   "source": [
    "# find maximum of each columns or rows\n",
    "# 0 reprents column and 1 represents row\n",
    "print(np.max(a1,axis=1))"
   ]
  },
  {
   "cell_type": "markdown",
   "id": "1d871aa5",
   "metadata": {},
   "source": [
    "**mean() / median() / std() / var():**"
   ]
  },
  {
   "cell_type": "code",
   "execution_count": 89,
   "id": "234365d5",
   "metadata": {},
   "outputs": [
    {
     "name": "stdout",
     "output_type": "stream",
     "text": [
      "1085.7777777777778\n",
      "48.333333333333336\n",
      "45.0\n"
     ]
    }
   ],
   "source": [
    "print(np.var(a1))\n",
    "print(np.mean(a1))\n",
    "print(np.median(a1))"
   ]
  },
  {
   "cell_type": "markdown",
   "id": "02462553",
   "metadata": {},
   "source": [
    "**dot product :**\n",
    "- The condition to identify whether two vectors can be dot-multiplied is that they must have the same dimensionality.\n",
    "- In numpy, you can compute the dot product of two arrays using the dot() function. \n",
    "- The dot() function takes two array arguments and returns their dot product."
   ]
  },
  {
   "cell_type": "code",
   "execution_count": 90,
   "id": "2ad6bca0",
   "metadata": {},
   "outputs": [
    {
     "name": "stdout",
     "output_type": "stream",
     "text": [
      "[[ 0  1  2  3]\n",
      " [ 4  5  6  7]\n",
      " [ 8  9 10 11]]\n",
      "[[12 13 14]\n",
      " [15 16 17]\n",
      " [18 19 20]\n",
      " [21 22 23]]\n"
     ]
    }
   ],
   "source": [
    "import numpy as np\n",
    "a3 = np.arange(12).reshape(3,4)\n",
    "a4 = np.arange(12,24).reshape(4,3)\n",
    "print(a3)\n",
    "print(a4)"
   ]
  },
  {
   "cell_type": "code",
   "execution_count": 91,
   "id": "7024a3d9",
   "metadata": {},
   "outputs": [
    {
     "name": "stdout",
     "output_type": "stream",
     "text": [
      "[[114 120 126]\n",
      " [378 400 422]\n",
      " [642 680 718]]\n"
     ]
    }
   ],
   "source": [
    "dp = np.dot(a3,a4)\n",
    "print(dp)"
   ]
  },
  {
   "cell_type": "code",
   "execution_count": 92,
   "id": "92d56ff2",
   "metadata": {},
   "outputs": [
    {
     "name": "stdout",
     "output_type": "stream",
     "text": [
      "[[12 13 14]\n",
      " [15 16 17]\n",
      " [18 19 20]\n",
      " [21 22 23]]\n"
     ]
    }
   ],
   "source": [
    "print(a4)"
   ]
  },
  {
   "cell_type": "markdown",
   "id": "93571896",
   "metadata": {},
   "source": [
    "**log and exponemts in numpy**\n",
    "- **np.log() :**\n",
    "    - To calculate the natural logarithm of an array or a scalar, you can use the **numpy.log** function\n",
    "- **np.exp() :**\n",
    "    - To calculate the exponential of an array or a scalar, you can use the **numpy.exp** function"
   ]
  },
  {
   "cell_type": "code",
   "execution_count": 93,
   "id": "56608085",
   "metadata": {},
   "outputs": [
    {
     "name": "stdout",
     "output_type": "stream",
     "text": [
      "[[4.4543473  4.53259949 4.18965474]\n",
      " [3.33220451 0.         2.56494936]\n",
      " [3.80666249 4.4308168  2.94443898]]\n"
     ]
    }
   ],
   "source": [
    "print(np.log(a1))"
   ]
  },
  {
   "cell_type": "code",
   "execution_count": 94,
   "id": "b765ff99",
   "metadata": {},
   "outputs": [
    {
     "name": "stdout",
     "output_type": "stream",
     "text": [
      "[[2.23524660e+37 2.45124554e+40 4.60718663e+28]\n",
      " [1.44625706e+12 2.71828183e+00 4.42413392e+05]\n",
      " [3.49342711e+19 3.02507732e+36 1.78482301e+08]]\n"
     ]
    }
   ],
   "source": [
    "print(np.exp(a1))"
   ]
  },
  {
   "cell_type": "markdown",
   "id": "4ae96e4b",
   "metadata": {},
   "source": [
    "**round()/floor()/ceil()**\n",
    "- **round() :**\n",
    "    - The round() function rounds the elements of an array to the nearest integer or to a specified number of decimals\n",
    "- **floor() :**\n",
    "    - The floor() function rounds the elements of an array down to the nearest integer\n",
    "- **ceil() :**\n",
    "    - The ceil() function rounds the elements of an array up to the nearest integer"
   ]
  },
  {
   "cell_type": "code",
   "execution_count": 95,
   "id": "cfd30eeb",
   "metadata": {},
   "outputs": [
    {
     "name": "stdout",
     "output_type": "stream",
     "text": [
      "[1. 2. 5.]\n"
     ]
    }
   ],
   "source": [
    "# round()\n",
    "arr = np.array([1.23,2.49,4.51])\n",
    "rounded_arr = np.round(arr)\n",
    "print(rounded_arr)"
   ]
  },
  {
   "cell_type": "code",
   "execution_count": 96,
   "id": "23132235",
   "metadata": {},
   "outputs": [
    {
     "name": "stdout",
     "output_type": "stream",
     "text": [
      "[1. 2. 4. 4.]\n"
     ]
    }
   ],
   "source": [
    "# floor()\n",
    "arr1 = np.array([1.23,2.49,4.51,4.80])\n",
    "floor_arr1 = np.floor(arr1)\n",
    "print(floor_arr1)"
   ]
  },
  {
   "cell_type": "code",
   "execution_count": 97,
   "id": "3da19c43",
   "metadata": {},
   "outputs": [
    {
     "name": "stdout",
     "output_type": "stream",
     "text": [
      "[2. 3. 5. 1.]\n"
     ]
    }
   ],
   "source": [
    "# ceil()\n",
    "arr3 = np.array([1.23,2.49,4.11,1.00])\n",
    "ceil_arr3 = np.ceil(arr3)\n",
    "print(ceil_arr3)"
   ]
  },
  {
   "cell_type": "code",
   "execution_count": 98,
   "id": "1109c8f9",
   "metadata": {},
   "outputs": [
    {
     "name": "stdout",
     "output_type": "stream",
     "text": [
      "[[29. 97. 56.]\n",
      " [32. 37. 72.]]\n"
     ]
    }
   ],
   "source": [
    "#floor()\n",
    "print(np.floor(np.random.random((2,3))*100))"
   ]
  },
  {
   "cell_type": "markdown",
   "id": "2185d736",
   "metadata": {},
   "source": [
    "#### 2D/3D Indexing and Slicing in Numpy:"
   ]
  },
  {
   "cell_type": "code",
   "execution_count": 99,
   "id": "0903daae",
   "metadata": {},
   "outputs": [],
   "source": [
    "import numpy as np\n",
    "n1 = np.arange(10)\n",
    "n2 = np.arange(12).reshape(3,4)\n",
    "n3 = np.arange(8).reshape(2,2,2)"
   ]
  },
  {
   "cell_type": "markdown",
   "id": "e040ecaa",
   "metadata": {},
   "source": [
    "**Indexing of 2D array:**\n",
    "- For accessing the element we give the 1st row number and then column numbers.\n",
    "- **NOTE:**Array start form 0 index"
   ]
  },
  {
   "cell_type": "code",
   "execution_count": 100,
   "id": "0f078b6e",
   "metadata": {},
   "outputs": [
    {
     "name": "stdout",
     "output_type": "stream",
     "text": [
      "[[ 0  1  2  3]\n",
      " [ 4  5  6  7]\n",
      " [ 8  9 10 11]]\n"
     ]
    }
   ],
   "source": [
    "print(n2)"
   ]
  },
  {
   "cell_type": "code",
   "execution_count": 101,
   "id": "8684768d",
   "metadata": {},
   "outputs": [
    {
     "name": "stdout",
     "output_type": "stream",
     "text": [
      "10\n",
      "4\n",
      "11\n",
      "2\n",
      "7\n"
     ]
    }
   ],
   "source": [
    "print(n2[2,2])\n",
    "print(n2[1,0])\n",
    "print(n2[2,3])\n",
    "print(n2[0,2])\n",
    "print(n2[1,3])"
   ]
  },
  {
   "cell_type": "markdown",
   "id": "ef20c08b",
   "metadata": {},
   "source": [
    "**Indexing of 3D array:**\n",
    "- For accessing the element 1st we give index number of the array then we give the row number and then column numbers.\n",
    "- 3D array is made from 2D array\n",
    "- **NOTE:**Array start form 0 index"
   ]
  },
  {
   "cell_type": "code",
   "execution_count": 102,
   "id": "0b9fc597",
   "metadata": {},
   "outputs": [
    {
     "name": "stdout",
     "output_type": "stream",
     "text": [
      "[[[0 1]\n",
      "  [2 3]]\n",
      "\n",
      " [[4 5]\n",
      "  [6 7]]]\n"
     ]
    }
   ],
   "source": [
    "print(n3)"
   ]
  },
  {
   "cell_type": "code",
   "execution_count": 103,
   "id": "9bf31d3b",
   "metadata": {},
   "outputs": [
    {
     "name": "stdout",
     "output_type": "stream",
     "text": [
      "3\n",
      "6\n",
      "4\n",
      "1\n",
      "5\n",
      "0\n",
      "2\n",
      "7\n"
     ]
    }
   ],
   "source": [
    "print(n3[0,1,1])\n",
    "print(n3[1,1,0])\n",
    "print(n3[1,0,0])\n",
    "print(n3[0,0,1])\n",
    "print(n3[1,0,1])\n",
    "print(n3[0,0,0])\n",
    "print(n3[0,1,0])\n",
    "print(n3[1,1,1])"
   ]
  },
  {
   "cell_type": "markdown",
   "id": "577cdaf4",
   "metadata": {},
   "source": [
    "#### Slicing :\n",
    "- Slicing is a useful operation in NumPy that allows you to extract a portion of an array. \n",
    "- You can slice a NumPy array by specifying a range of indices to extract.\n",
    "- syntax for slicing a NumPy array is as follows: **array[start:stop:step]**"
   ]
  },
  {
   "cell_type": "code",
   "execution_count": 104,
   "id": "3a17a065",
   "metadata": {},
   "outputs": [
    {
     "name": "stdout",
     "output_type": "stream",
     "text": [
      "[0 1 2 3 4 5 6 7 8 9]\n"
     ]
    }
   ],
   "source": [
    "print(n1)"
   ]
  },
  {
   "cell_type": "code",
   "execution_count": 105,
   "id": "1cfc01f2",
   "metadata": {},
   "outputs": [
    {
     "name": "stdout",
     "output_type": "stream",
     "text": [
      "[2 3 4 5]\n",
      "[1 3 5 7]\n"
     ]
    }
   ],
   "source": [
    "print(n1[2:6])\n",
    "print(n1[1:8:2])"
   ]
  },
  {
   "cell_type": "markdown",
   "id": "357b9842",
   "metadata": {},
   "source": [
    "**Accessing row and columns for 2d array :**"
   ]
  },
  {
   "cell_type": "code",
   "execution_count": 106,
   "id": "64b7990c",
   "metadata": {},
   "outputs": [
    {
     "name": "stdout",
     "output_type": "stream",
     "text": [
      "[[ 0  1  2  3]\n",
      " [ 4  5  6  7]\n",
      " [ 8  9 10 11]]\n"
     ]
    }
   ],
   "source": [
    "print(n2)"
   ]
  },
  {
   "cell_type": "code",
   "execution_count": 10,
   "id": "451377b5",
   "metadata": {},
   "outputs": [
    {
     "name": "stdout",
     "output_type": "stream",
     "text": [
      "[0 1 2 3]\n",
      "[ 2  6 10]\n",
      "[ 8  9 10 11]\n"
     ]
    }
   ],
   "source": [
    "print(n2[0,:]) # print row \n",
    "print(n2[:,2]) # print 2nd index column\n",
    "print(n2[2,:]) # print 3rd index row "
   ]
  },
  {
   "cell_type": "code",
   "execution_count": 11,
   "id": "fe215ba3",
   "metadata": {},
   "outputs": [
    {
     "name": "stdout",
     "output_type": "stream",
     "text": [
      "[[ 1  3]\n",
      " [ 9 11]]\n"
     ]
    }
   ],
   "source": [
    "print(n2[::2,1::2])"
   ]
  },
  {
   "cell_type": "code",
   "execution_count": 12,
   "id": "dcc445fc",
   "metadata": {},
   "outputs": [
    {
     "name": "stdout",
     "output_type": "stream",
     "text": [
      "[4 7]\n"
     ]
    }
   ],
   "source": [
    "print(n2[1,::3])"
   ]
  },
  {
   "cell_type": "code",
   "execution_count": 13,
   "id": "92c321a3",
   "metadata": {},
   "outputs": [
    {
     "name": "stdout",
     "output_type": "stream",
     "text": [
      "[[1 2 3]\n",
      " [5 6 7]]\n"
     ]
    }
   ],
   "source": [
    "print(n2[0:2 , 1:])"
   ]
  },
  {
   "cell_type": "markdown",
   "id": "d804894f",
   "metadata": {},
   "source": [
    "**Accessing row and columns for 3d array :**"
   ]
  },
  {
   "cell_type": "code",
   "execution_count": 14,
   "id": "0a769d32",
   "metadata": {},
   "outputs": [
    {
     "name": "stdout",
     "output_type": "stream",
     "text": [
      "[[[ 0  1  2]\n",
      "  [ 3  4  5]\n",
      "  [ 6  7  8]]\n",
      "\n",
      " [[ 9 10 11]\n",
      "  [12 13 14]\n",
      "  [15 16 17]]\n",
      "\n",
      " [[18 19 20]\n",
      "  [21 22 23]\n",
      "  [24 25 26]]]\n"
     ]
    }
   ],
   "source": [
    "n3 = np.arange(27).reshape(3,3,3)\n",
    "print(n3)"
   ]
  },
  {
   "cell_type": "code",
   "execution_count": 15,
   "id": "b0ebbce6",
   "metadata": {},
   "outputs": [
    {
     "name": "stdout",
     "output_type": "stream",
     "text": [
      "[[ 9 10 11]\n",
      " [12 13 14]\n",
      " [15 16 17]]\n"
     ]
    }
   ],
   "source": [
    "print(n3[1])"
   ]
  },
  {
   "cell_type": "code",
   "execution_count": 16,
   "id": "3c64d62f",
   "metadata": {},
   "outputs": [
    {
     "name": "stdout",
     "output_type": "stream",
     "text": [
      "[[[ 0  1  2]\n",
      "  [ 3  4  5]\n",
      "  [ 6  7  8]]\n",
      "\n",
      " [[18 19 20]\n",
      "  [21 22 23]\n",
      "  [24 25 26]]]\n"
     ]
    }
   ],
   "source": [
    "print(n3[::2])"
   ]
  },
  {
   "cell_type": "code",
   "execution_count": 17,
   "id": "0076da59",
   "metadata": {},
   "outputs": [
    {
     "name": "stdout",
     "output_type": "stream",
     "text": [
      "[3 4 5]\n"
     ]
    }
   ],
   "source": [
    "print(n3[0,1,:])"
   ]
  },
  {
   "cell_type": "code",
   "execution_count": 18,
   "id": "762f6bc8",
   "metadata": {},
   "outputs": [
    {
     "name": "stdout",
     "output_type": "stream",
     "text": [
      "[10 13 16]\n"
     ]
    }
   ],
   "source": [
    "print(n3[1,:,1])"
   ]
  },
  {
   "cell_type": "code",
   "execution_count": 19,
   "id": "476581e9",
   "metadata": {},
   "outputs": [
    {
     "name": "stdout",
     "output_type": "stream",
     "text": [
      "[[22 23]\n",
      " [25 26]]\n"
     ]
    }
   ],
   "source": [
    "print(n3[2,1:,1:])"
   ]
  },
  {
   "cell_type": "code",
   "execution_count": 20,
   "id": "0220ed0a",
   "metadata": {},
   "outputs": [
    {
     "name": "stdout",
     "output_type": "stream",
     "text": [
      "[[ 0  2]\n",
      " [18 20]]\n"
     ]
    }
   ],
   "source": [
    "print(n3[::2, 0 , ::2])"
   ]
  },
  {
   "cell_type": "markdown",
   "id": "135a7251",
   "metadata": {},
   "source": [
    "### Iterating :"
   ]
  },
  {
   "cell_type": "code",
   "execution_count": 21,
   "id": "d7a2afa4",
   "metadata": {},
   "outputs": [
    {
     "name": "stdout",
     "output_type": "stream",
     "text": [
      "[0 1 2 3 4 5 6 7 8 9]\n"
     ]
    }
   ],
   "source": [
    "print(n1)"
   ]
  },
  {
   "cell_type": "code",
   "execution_count": 22,
   "id": "a65afa6d",
   "metadata": {},
   "outputs": [
    {
     "name": "stdout",
     "output_type": "stream",
     "text": [
      "0\n",
      "1\n",
      "2\n",
      "3\n",
      "4\n",
      "5\n",
      "6\n",
      "7\n",
      "8\n",
      "9\n"
     ]
    }
   ],
   "source": [
    "# loop\n",
    "for ele in n1:\n",
    "    print(ele)"
   ]
  },
  {
   "cell_type": "code",
   "execution_count": 23,
   "id": "e1d09f9c",
   "metadata": {},
   "outputs": [
    {
     "name": "stdout",
     "output_type": "stream",
     "text": [
      "[[ 0  1  2  3]\n",
      " [ 4  5  6  7]\n",
      " [ 8  9 10 11]]\n"
     ]
    }
   ],
   "source": [
    "print(n2)"
   ]
  },
  {
   "cell_type": "code",
   "execution_count": 26,
   "id": "f44dcdc0",
   "metadata": {},
   "outputs": [
    {
     "name": "stdout",
     "output_type": "stream",
     "text": [
      "[0 1 2 3]\n",
      "[4 5 6 7]\n",
      "[ 8  9 10 11]\n"
     ]
    }
   ],
   "source": [
    "# loop on 2D array\n",
    "for ele in n2:\n",
    "    print(ele)"
   ]
  },
  {
   "cell_type": "code",
   "execution_count": 27,
   "id": "bb82cefc",
   "metadata": {},
   "outputs": [
    {
     "name": "stdout",
     "output_type": "stream",
     "text": [
      "[[0 1 2]\n",
      " [3 4 5]\n",
      " [6 7 8]]\n",
      "[[ 9 10 11]\n",
      " [12 13 14]\n",
      " [15 16 17]]\n",
      "[[18 19 20]\n",
      " [21 22 23]\n",
      " [24 25 26]]\n"
     ]
    }
   ],
   "source": [
    "# loop on 3D array\n",
    "for ele in n3:\n",
    "    print(ele)"
   ]
  },
  {
   "cell_type": "markdown",
   "id": "ecc94f9f",
   "metadata": {},
   "source": [
    "**np.nditer() function:** \n",
    "- It is a NumPy function that provides an efficient way to iterate over elements of a NumPy array. \n",
    "- It allows iterating over multiple arrays simultaneously and also provides a number of optional arguments that can be used to customize the iteration process."
   ]
  },
  {
   "cell_type": "code",
   "execution_count": 29,
   "id": "51c70561",
   "metadata": {},
   "outputs": [
    {
     "name": "stdout",
     "output_type": "stream",
     "text": [
      "0\n",
      "1\n",
      "2\n",
      "3\n",
      "4\n",
      "5\n",
      "6\n",
      "7\n",
      "8\n",
      "9\n",
      "10\n",
      "11\n",
      "12\n",
      "13\n",
      "14\n",
      "15\n",
      "16\n",
      "17\n",
      "18\n",
      "19\n",
      "20\n",
      "21\n",
      "22\n",
      "23\n",
      "24\n",
      "25\n",
      "26\n"
     ]
    }
   ],
   "source": [
    "for ele in np.nditer(n3):\n",
    "    print(ele)"
   ]
  },
  {
   "cell_type": "markdown",
   "id": "18ae9937",
   "metadata": {},
   "source": [
    "### Reshaping in numpy :\n",
    "- **np.reshape()**\n",
    "- **np.transpose()**\n",
    "- **np.ravel()**"
   ]
  },
  {
   "cell_type": "markdown",
   "id": "6a67d16f",
   "metadata": {},
   "source": [
    "**np.transpose():**\n",
    "- The transpose operation in numpy is generally applied on 2d arrays to swipe the rows and columns of an array. \n",
    "- **For example**, a numpy array of shape (2, 3) becomes a numpy array of shape (3, 2) after the operation wherein the first row becomes the first column and the second row becomes the second column. Also, conversely, the first column becomes the first row, the second column becomes the second row, and the third column becomes the third row post the transpose.\n",
    "- You can use the numpy ndarary transpose() function to transpose a numpy array. You can also use the .T numpy array attribute to transpose a 2d array.\n",
    "- syntax: **arr.transpose() or arr.T**"
   ]
  },
  {
   "cell_type": "code",
   "execution_count": 44,
   "id": "69696ac5",
   "metadata": {},
   "outputs": [
    {
     "name": "stdout",
     "output_type": "stream",
     "text": [
      "Original 2D array :\n",
      "[[ 0  1  2  3]\n",
      " [ 4  5  6  7]\n",
      " [ 8  9 10 11]]\n",
      "Transpose of 2D Array :\n",
      "[[ 0  4  8]\n",
      " [ 1  5  9]\n",
      " [ 2  6 10]\n",
      " [ 3  7 11]]\n",
      "[[ 0  4  8]\n",
      " [ 1  5  9]\n",
      " [ 2  6 10]\n",
      " [ 3  7 11]]\n"
     ]
    }
   ],
   "source": [
    "# example of transpose()\n",
    "print('Original 2D array :')\n",
    "print(n2)\n",
    "print('Transpose of 2D Array :')\n",
    "print(n2.transpose())\n",
    "print(n2.T)"
   ]
  },
  {
   "cell_type": "markdown",
   "id": "8ad9249f",
   "metadata": {},
   "source": [
    "**np.ravel():**\n",
    "- Converting n dimesion array into 1D array.\n",
    "- syntax: **arr.ravel()**"
   ]
  },
  {
   "cell_type": "code",
   "execution_count": 43,
   "id": "d2ef7f53",
   "metadata": {
    "scrolled": true
   },
   "outputs": [
    {
     "name": "stdout",
     "output_type": "stream",
     "text": [
      "Original 3D array :\n",
      "[[[ 0  1  2]\n",
      "  [ 3  4  5]\n",
      "  [ 6  7  8]]\n",
      "\n",
      " [[ 9 10 11]\n",
      "  [12 13 14]\n",
      "  [15 16 17]]\n",
      "\n",
      " [[18 19 20]\n",
      "  [21 22 23]\n",
      "  [24 25 26]]]\n",
      "Conveting into 1D array using ravel() :\n",
      "[ 0  1  2  3  4  5  6  7  8  9 10 11 12 13 14 15 16 17 18 19 20 21 22 23\n",
      " 24 25 26]\n"
     ]
    }
   ],
   "source": [
    "print('Original 3D array :')\n",
    "print(n3)\n",
    "print('Conveting into 1D array using ravel() :')\n",
    "print(n3.ravel())"
   ]
  },
  {
   "cell_type": "markdown",
   "id": "f7905b37",
   "metadata": {},
   "source": [
    "### Stacking :\n",
    "- In NumPy, you can stack arrays along different axes using the functions.\n",
    "    - **np.hstack() : horizontal stacking**\n",
    "    - **np.vstack() : vertical stacking**\n",
    "- Some times we have multiple data source means sometimes data come form databases , API and another data comes from web scrapping etc. so that data is similar data for multiple sourse then we can stack the data for data analysis.\n",
    "- **NOTE :** Shape of the array should ne same"
   ]
  },
  {
   "cell_type": "markdown",
   "id": "000c0335",
   "metadata": {},
   "source": [
    "**np.hstack():**\n",
    "- horizontal stacking means join/append the columns array with another array.\n",
    "- This function stacks arrays horizontally (along axis 1), which means it **appends the columns of one array to the end of another array**.\n",
    "- syntax : **np.hstack((arr1, arr2))**"
   ]
  },
  {
   "cell_type": "code",
   "execution_count": 61,
   "id": "9f2707ae",
   "metadata": {},
   "outputs": [],
   "source": [
    "# example :\n",
    "nn1 = np.arange(12).reshape(3,4)\n",
    "nn2 = np.arange(12,24).reshape(3,4)"
   ]
  },
  {
   "cell_type": "code",
   "execution_count": 62,
   "id": "532780e2",
   "metadata": {},
   "outputs": [
    {
     "data": {
      "text/plain": [
       "array([[ 0,  1,  2,  3, 12, 13, 14, 15],\n",
       "       [ 4,  5,  6,  7, 16, 17, 18, 19],\n",
       "       [ 8,  9, 10, 11, 20, 21, 22, 23]])"
      ]
     },
     "execution_count": 62,
     "metadata": {},
     "output_type": "execute_result"
    }
   ],
   "source": [
    "# Ex.\n",
    "np.hstack((nn1,nn2))"
   ]
  },
  {
   "cell_type": "markdown",
   "id": "c43ccb68",
   "metadata": {},
   "source": [
    "**np.vstack():**\n",
    "- vertical stacking \n",
    "- This function stacks arrays vertically (along axis 0), which means it appends the rows of one array to the end of another array.\n",
    "- syntax : **np.vstack((arr1, arr2))**"
   ]
  },
  {
   "cell_type": "code",
   "execution_count": 63,
   "id": "2ccd6746",
   "metadata": {},
   "outputs": [
    {
     "data": {
      "text/plain": [
       "array([[ 0,  1,  2,  3],\n",
       "       [ 4,  5,  6,  7],\n",
       "       [ 8,  9, 10, 11],\n",
       "       [12, 13, 14, 15],\n",
       "       [16, 17, 18, 19],\n",
       "       [20, 21, 22, 23]])"
      ]
     },
     "execution_count": 63,
     "metadata": {},
     "output_type": "execute_result"
    }
   ],
   "source": [
    "# Ex.\n",
    "np.vstack((nn1,nn2))"
   ]
  },
  {
   "cell_type": "code",
   "execution_count": null,
   "id": "e2cbf6cb",
   "metadata": {},
   "outputs": [],
   "source": []
  },
  {
   "cell_type": "code",
   "execution_count": null,
   "id": "8d8aa6c3",
   "metadata": {},
   "outputs": [],
   "source": []
  },
  {
   "cell_type": "code",
   "execution_count": null,
   "id": "bb5acdfd",
   "metadata": {},
   "outputs": [],
   "source": []
  },
  {
   "cell_type": "code",
   "execution_count": null,
   "id": "e18f8795",
   "metadata": {},
   "outputs": [],
   "source": []
  },
  {
   "cell_type": "code",
   "execution_count": null,
   "id": "43b3c7ac",
   "metadata": {},
   "outputs": [],
   "source": []
  },
  {
   "cell_type": "code",
   "execution_count": null,
   "id": "2e9973aa",
   "metadata": {},
   "outputs": [],
   "source": []
  },
  {
   "cell_type": "code",
   "execution_count": null,
   "id": "24856d61",
   "metadata": {},
   "outputs": [],
   "source": []
  },
  {
   "cell_type": "code",
   "execution_count": null,
   "id": "1e6e0550",
   "metadata": {},
   "outputs": [],
   "source": []
  },
  {
   "cell_type": "code",
   "execution_count": null,
   "id": "01101834",
   "metadata": {},
   "outputs": [],
   "source": []
  }
 ],
 "metadata": {
  "kernelspec": {
   "display_name": "Python 3 (ipykernel)",
   "language": "python",
   "name": "python3"
  },
  "language_info": {
   "codemirror_mode": {
    "name": "ipython",
    "version": 3
   },
   "file_extension": ".py",
   "mimetype": "text/x-python",
   "name": "python",
   "nbconvert_exporter": "python",
   "pygments_lexer": "ipython3",
   "version": "3.10.7"
  }
 },
 "nbformat": 4,
 "nbformat_minor": 5
}
