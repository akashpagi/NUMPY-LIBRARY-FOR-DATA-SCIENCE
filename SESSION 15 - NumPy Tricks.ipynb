{
 "cells": [
  {
   "cell_type": "markdown",
   "id": "039dcd93",
   "metadata": {},
   "source": [
    "### SESSION 15 - NumPy Tricks"
   ]
  },
  {
   "cell_type": "markdown",
   "id": "bc827f0f",
   "metadata": {},
   "source": [
    "**np.sort :**\n",
    "- Return a sorted copy of an array.\n",
    "- https://numpy.org/doc/stable/reference/generated/numpy.sort.html"
   ]
  },
  {
   "cell_type": "code",
   "execution_count": 2,
   "id": "02c0e879",
   "metadata": {},
   "outputs": [
    {
     "data": {
      "text/plain": [
       "array([28, 34, 69, 39, 29, 29, 36, 28, 60, 49, 43, 48, 81, 86, 19])"
      ]
     },
     "execution_count": 2,
     "metadata": {},
     "output_type": "execute_result"
    }
   ],
   "source": [
    "import numpy as np\n",
    "a = np.random.randint(1,100,15)\n",
    "a"
   ]
  },
  {
   "cell_type": "code",
   "execution_count": 3,
   "id": "1d162983",
   "metadata": {},
   "outputs": [
    {
     "data": {
      "text/plain": [
       "array([[22, 26,  5, 32],\n",
       "       [71, 80, 14, 30],\n",
       "       [58, 36, 97, 10],\n",
       "       [85,  4, 65, 96],\n",
       "       [54, 23, 85, 16],\n",
       "       [13,  3,  9, 48]])"
      ]
     },
     "execution_count": 3,
     "metadata": {},
     "output_type": "execute_result"
    }
   ],
   "source": [
    "b = np.random.randint(1,100,24).reshape(6,4)\n",
    "b"
   ]
  },
  {
   "cell_type": "code",
   "execution_count": 4,
   "id": "faaf4481",
   "metadata": {},
   "outputs": [
    {
     "name": "stdout",
     "output_type": "stream",
     "text": [
      "Sorted order : [19 28 28 29 29 34 36 39 43 48 49 60 69 81 86]\n",
      "Sorted order : [86 81 69 60 49 48 43 39 36 34 29 29 28 28 19]\n"
     ]
    }
   ],
   "source": [
    "# ascending order\n",
    "a_s = np.sort(a)\n",
    "print(\"Sorted order :\",a_s)\n",
    "\n",
    "# Desending order\n",
    "d_s = np.sort(a)[::-1]\n",
    "print(\"Sorted order :\",d_s) "
   ]
  },
  {
   "cell_type": "code",
   "execution_count": 5,
   "id": "ca3e36c8",
   "metadata": {},
   "outputs": [
    {
     "name": "stdout",
     "output_type": "stream",
     "text": [
      "Original Array :\n",
      "[[22 26  5 32]\n",
      " [71 80 14 30]\n",
      " [58 36 97 10]\n",
      " [85  4 65 96]\n",
      " [54 23 85 16]\n",
      " [13  3  9 48]]\n",
      "\n",
      "column-wise sort :\n",
      "[[13  3  5 10]\n",
      " [22  4  9 16]\n",
      " [54 23 14 30]\n",
      " [58 26 65 32]\n",
      " [71 36 85 48]\n",
      " [85 80 97 96]]\n",
      "\n",
      "row-wise sort :\n",
      "[[ 5 22 26 32]\n",
      " [14 30 71 80]\n",
      " [10 36 58 97]\n",
      " [ 4 65 85 96]\n",
      " [16 23 54 85]\n",
      " [ 3  9 13 48]]\n"
     ]
    }
   ],
   "source": [
    "# col axis = 0 , row axis = 1\n",
    "c = np.sort(b, axis=0) # column-wise sort in ascending order\n",
    "r = np.sort(b, axis=1) # row-wise sort in ascending order\n",
    "print('Original Array :')\n",
    "print(b)\n",
    "print()\n",
    "print('column-wise sort :')\n",
    "print(c)\n",
    "print()\n",
    "print('row-wise sort :')\n",
    "print(r)"
   ]
  },
  {
   "cell_type": "markdown",
   "id": "9d830a31",
   "metadata": {},
   "source": [
    "**np.append :**\n",
    "- The numpy.append() appends values along the mentioned axis at the end of the array\n",
    "- https://numpy.org/doc/stable/reference/generated/numpy.append.html"
   ]
  },
  {
   "cell_type": "code",
   "execution_count": 6,
   "id": "b90bc091",
   "metadata": {},
   "outputs": [
    {
     "name": "stdout",
     "output_type": "stream",
     "text": [
      "[ 28  34  69  39  29  29  36  28  60  49  43  48  81  86  19 200]\n",
      "[[22. 26.  5. 32.  1.]\n",
      " [71. 80. 14. 30.  1.]\n",
      " [58. 36. 97. 10.  1.]\n",
      " [85.  4. 65. 96.  1.]\n",
      " [54. 23. 85. 16.  1.]\n",
      " [13.  3.  9. 48.  1.]]\n"
     ]
    }
   ],
   "source": [
    "# Append elements in existing 1D & 2D array\n",
    "aa = np.append(a,200)\n",
    "print(aa)\n",
    "\n",
    "# append column\n",
    "a_a = np.append(b,np.ones((b.shape[0],1)),axis=1)\n",
    "print(a_a)"
   ]
  },
  {
   "cell_type": "markdown",
   "id": "3a6e64e4",
   "metadata": {},
   "source": [
    "**np.concatenate:**\n",
    "- numpy.concatenate() function concatenate a sequence of arrays along an existing axis.\n",
    "- https://numpy.org/doc/stable/reference/generated/numpy.concatenate.html"
   ]
  },
  {
   "cell_type": "code",
   "execution_count": 7,
   "id": "ab1e736d",
   "metadata": {},
   "outputs": [
    {
     "name": "stdout",
     "output_type": "stream",
     "text": [
      "[[0 1 2]\n",
      " [3 4 5]]\n",
      "\n",
      "[[ 6  7  8]\n",
      " [ 9 10 11]]\n"
     ]
    }
   ],
   "source": [
    "c = np.arange(6).reshape(2,3)\n",
    "d = np.arange(6,12).reshape(2,3)\n",
    "print(c)\n",
    "print()\n",
    "print(d)"
   ]
  },
  {
   "cell_type": "code",
   "execution_count": 8,
   "id": "ab821189",
   "metadata": {},
   "outputs": [
    {
     "name": "stdout",
     "output_type": "stream",
     "text": [
      "[[ 0  1  2]\n",
      " [ 3  4  5]\n",
      " [ 6  7  8]\n",
      " [ 9 10 11]]\n"
     ]
    }
   ],
   "source": [
    "# default concatenate row wise\n",
    "cc = np.concatenate((c,d),axis=0)\n",
    "print(cc)"
   ]
  },
  {
   "cell_type": "code",
   "execution_count": 9,
   "id": "2030fa08",
   "metadata": {},
   "outputs": [
    {
     "name": "stdout",
     "output_type": "stream",
     "text": [
      "[[ 0  1  2  6  7  8]\n",
      " [ 3  4  5  9 10 11]]\n"
     ]
    }
   ],
   "source": [
    "# concatenate column wise\n",
    "cc = np.concatenate((c,d),axis=1)\n",
    "print(cc)"
   ]
  },
  {
   "cell_type": "markdown",
   "id": "94b2af71",
   "metadata": {},
   "source": [
    "**np.unique :**\n",
    "- With the help of np.unique() method, we can get the unique values from an array given as parameter in np.unique() method.\n",
    "- Ex.Imagine 1 student register for multiple courses , but we want those user they purches the course so it useful to identify the unique users from course \n",
    "- https://numpy.org/doc/stable/reference/generated/numpy.unique.html/"
   ]
  },
  {
   "cell_type": "code",
   "execution_count": 10,
   "id": "ea203db5",
   "metadata": {
    "scrolled": true
   },
   "outputs": [
    {
     "name": "stdout",
     "output_type": "stream",
     "text": [
      "E : [1 2 3 3 4 4 5 5 6 6]\n",
      "Unique Values : [1 2 3 4 5 6]\n"
     ]
    }
   ],
   "source": [
    "# Ex\n",
    "e = np.array([1,2,3,3,4,4,5,5,6,6])\n",
    "print(\"E :\",e)\n",
    "print('Unique Values :',np.unique(e))"
   ]
  },
  {
   "cell_type": "markdown",
   "id": "70b06505",
   "metadata": {},
   "source": [
    "**np.expand_dims :**\n",
    "- With the help of Numpy.expand_dims() method, we can get the expanded dimensions of an array.\n",
    "- means 1D to 2D convertion or 3d to 4D conversion.\n",
    "- https://numpy.org/doc/stable/reference/generated/numpy.expand_dims.html"
   ]
  },
  {
   "cell_type": "code",
   "execution_count": 11,
   "id": "8b10d8c0",
   "metadata": {},
   "outputs": [
    {
     "name": "stdout",
     "output_type": "stream",
     "text": [
      "E: [1 2 3 3 4 4 5 5 6 6]\n",
      "2D : [[1 2 3 3 4 4 5 5 6 6]]\n",
      "(1, 10)\n"
     ]
    }
   ],
   "source": [
    "print('E:',e)\n",
    "print('2D :',np.expand_dims(e,axis=0)) # axis 0 is row\n",
    "print(np.expand_dims(e,axis=0).shape)"
   ]
  },
  {
   "cell_type": "code",
   "execution_count": 12,
   "id": "a6a861ea",
   "metadata": {},
   "outputs": [
    {
     "name": "stdout",
     "output_type": "stream",
     "text": [
      "[[1]\n",
      " [2]\n",
      " [3]\n",
      " [3]\n",
      " [4]\n",
      " [4]\n",
      " [5]\n",
      " [5]\n",
      " [6]\n",
      " [6]]\n",
      "(10, 1)\n"
     ]
    }
   ],
   "source": [
    "print(np.expand_dims(e,axis=1)) # axis 1 is col\n",
    "print(np.expand_dims(e,axis=1).shape)"
   ]
  },
  {
   "cell_type": "markdown",
   "id": "c99dc4d1",
   "metadata": {},
   "source": [
    "**np.where :**\n",
    "- The numpy.where() function returns the indices of elements in an input array where the given condition is satisfied.\n",
    "- https://numpy.org/doc/stable/reference/generated/numpy.where.html"
   ]
  },
  {
   "cell_type": "code",
   "execution_count": 13,
   "id": "91c804cb",
   "metadata": {},
   "outputs": [
    {
     "name": "stdout",
     "output_type": "stream",
     "text": [
      "[1 2 3 3 4 4 5 5 6 6]\n",
      "(array([6, 7, 8, 9], dtype=int64),)\n"
     ]
    }
   ],
   "source": [
    "print(e)\n",
    "# Ex.find all indices with value greater than 4\n",
    "print(np.where(e>4))"
   ]
  },
  {
   "cell_type": "code",
   "execution_count": 14,
   "id": "7a9e9bff",
   "metadata": {},
   "outputs": [
    {
     "name": "stdout",
     "output_type": "stream",
     "text": [
      "[0 0 0 0 4 4 5 5 6 6]\n"
     ]
    }
   ],
   "source": [
    "# Ex.replace all values < 4 with 0\n",
    "print(np.where(e<4, 0, e))"
   ]
  },
  {
   "cell_type": "markdown",
   "id": "e7740277",
   "metadata": {},
   "source": [
    "**np.argmax :**\n",
    "- The numpy.argmax() function returns indices of the max element of the array in a particular axis.\n",
    "- https://numpy.org/doc/stable/reference/generated/numpy.argmax.html"
   ]
  },
  {
   "cell_type": "code",
   "execution_count": 15,
   "id": "28c9fd51",
   "metadata": {},
   "outputs": [
    {
     "name": "stdout",
     "output_type": "stream",
     "text": [
      "[1 2 3 3 4 4 5 5 6 6]\n"
     ]
    }
   ],
   "source": [
    "print(e)"
   ]
  },
  {
   "cell_type": "code",
   "execution_count": 16,
   "id": "a8ea4e44",
   "metadata": {},
   "outputs": [
    {
     "name": "stdout",
     "output_type": "stream",
     "text": [
      "8\n"
     ]
    }
   ],
   "source": [
    "print(np.argmax(e))"
   ]
  },
  {
   "cell_type": "code",
   "execution_count": 17,
   "id": "f6c9dcad",
   "metadata": {},
   "outputs": [
    {
     "name": "stdout",
     "output_type": "stream",
     "text": [
      "[[22 26  5 32]\n",
      " [71 80 14 30]\n",
      " [58 36 97 10]\n",
      " [85  4 65 96]\n",
      " [54 23 85 16]\n",
      " [13  3  9 48]]\n"
     ]
    }
   ],
   "source": [
    "# 2D \n",
    "print(b)"
   ]
  },
  {
   "cell_type": "code",
   "execution_count": 18,
   "id": "819e9b25",
   "metadata": {},
   "outputs": [
    {
     "name": "stdout",
     "output_type": "stream",
     "text": [
      "[3 1 2 3]\n"
     ]
    }
   ],
   "source": [
    "print(np.argmax(b, axis=0)) # col = 0"
   ]
  },
  {
   "cell_type": "code",
   "execution_count": 19,
   "id": "ebb7306f",
   "metadata": {},
   "outputs": [
    {
     "name": "stdout",
     "output_type": "stream",
     "text": [
      "[3 1 2 3 2 3]\n"
     ]
    }
   ],
   "source": [
    "print(np.argmax(b, axis=1)) # row = 1"
   ]
  },
  {
   "cell_type": "markdown",
   "id": "d826cfda",
   "metadata": {},
   "source": [
    "**np.argmin :**\n",
    "- give the min number index"
   ]
  },
  {
   "cell_type": "code",
   "execution_count": 20,
   "id": "2755c235",
   "metadata": {},
   "outputs": [
    {
     "name": "stdout",
     "output_type": "stream",
     "text": [
      "[1 2 3 3 4 4 5 5 6 6]\n",
      "0\n"
     ]
    }
   ],
   "source": [
    "print(e)\n",
    "print(np.argmin(e))"
   ]
  },
  {
   "cell_type": "code",
   "execution_count": 21,
   "id": "3af67932",
   "metadata": {},
   "outputs": [
    {
     "name": "stdout",
     "output_type": "stream",
     "text": [
      "[5 5 0 2]\n"
     ]
    }
   ],
   "source": [
    "print(np.argmin(b, axis=0))"
   ]
  },
  {
   "cell_type": "code",
   "execution_count": 22,
   "id": "79020c9a",
   "metadata": {},
   "outputs": [
    {
     "name": "stdout",
     "output_type": "stream",
     "text": [
      "[2 2 3 1 3 1]\n"
     ]
    }
   ],
   "source": [
    "print(np.argmin(b, axis=1))"
   ]
  },
  {
   "cell_type": "markdown",
   "id": "e9e5315a",
   "metadata": {},
   "source": [
    "**np.cumsum :**\n",
    "- numpy.cumsum() function is used when we want to compute the **cumulative sum of array elements over a given axis.**\n",
    "- https://numpy.org/doc/stable/reference/generated/numpy.cumsum.html"
   ]
  },
  {
   "cell_type": "code",
   "execution_count": 23,
   "id": "2a862122",
   "metadata": {},
   "outputs": [
    {
     "name": "stdout",
     "output_type": "stream",
     "text": [
      "[28 34 69 39 29 29 36 28 60 49 43 48 81 86 19]\n",
      "cumilative sum :  [ 28  62 131 170 199 228 264 292 352 401 444 492 573 659 678]\n"
     ]
    }
   ],
   "source": [
    "# Ex.1D\n",
    "print(a)\n",
    "print('cumilative sum : ',np.cumsum(a))"
   ]
  },
  {
   "cell_type": "code",
   "execution_count": 24,
   "id": "3c84cce1",
   "metadata": {},
   "outputs": [
    {
     "name": "stdout",
     "output_type": "stream",
     "text": [
      "[[22 26  5 32]\n",
      " [71 80 14 30]\n",
      " [58 36 97 10]\n",
      " [85  4 65 96]\n",
      " [54 23 85 16]\n",
      " [13  3  9 48]]\n"
     ]
    }
   ],
   "source": [
    "# Ex.2D\n",
    "print(b)"
   ]
  },
  {
   "cell_type": "code",
   "execution_count": 25,
   "id": "0c0e77b4",
   "metadata": {},
   "outputs": [
    {
     "name": "stdout",
     "output_type": "stream",
     "text": [
      "[ 22  48  53  85 156 236 250 280 338 374 471 481 566 570 635 731 785 808\n",
      " 893 909 922 925 934 982]\n"
     ]
    }
   ],
   "source": [
    "print(np.cumsum(b))"
   ]
  },
  {
   "cell_type": "code",
   "execution_count": 26,
   "id": "603ac645",
   "metadata": {},
   "outputs": [
    {
     "name": "stdout",
     "output_type": "stream",
     "text": [
      "[[ 22  26   5  32]\n",
      " [ 93 106  19  62]\n",
      " [151 142 116  72]\n",
      " [236 146 181 168]\n",
      " [290 169 266 184]\n",
      " [303 172 275 232]]\n"
     ]
    }
   ],
   "source": [
    "print(np.cumsum(b,axis=0)) # 1 = row"
   ]
  },
  {
   "cell_type": "code",
   "execution_count": 27,
   "id": "8f13fe22",
   "metadata": {},
   "outputs": [
    {
     "name": "stdout",
     "output_type": "stream",
     "text": [
      "[[ 22  48  53  85]\n",
      " [ 71 151 165 195]\n",
      " [ 58  94 191 201]\n",
      " [ 85  89 154 250]\n",
      " [ 54  77 162 178]\n",
      " [ 13  16  25  73]]\n"
     ]
    }
   ],
   "source": [
    "print(np.cumsum(b,axis=1)) # 0 = col"
   ]
  },
  {
   "cell_type": "markdown",
   "id": "bc09613b",
   "metadata": {},
   "source": [
    "**np.cumprod :**\n",
    "- numpy.cumprod() function is used multiplication"
   ]
  },
  {
   "cell_type": "code",
   "execution_count": 28,
   "id": "970b8dfa",
   "metadata": {},
   "outputs": [
    {
     "name": "stdout",
     "output_type": "stream",
     "text": [
      "[1 2 3 3 4 4 5 5 6 6]\n",
      "[     1      2      6     18     72    288   1440   7200  43200 259200]\n"
     ]
    }
   ],
   "source": [
    "print(e)\n",
    "print(np.cumprod(e))"
   ]
  },
  {
   "cell_type": "code",
   "execution_count": 29,
   "id": "be71f678",
   "metadata": {},
   "outputs": [
    {
     "name": "stdout",
     "output_type": "stream",
     "text": [
      "[         22         572        2860       91520     6497920   519833600\n",
      " -1312264192  -713220096  1582907392  1150091264  -110297088 -1102970880\n",
      "   736755712 -1347944448 -1717043200 -1627389952 -1979711488  1711276032\n",
      "  -570425344  -536870912  1610612736   536870912   536870912           0]\n"
     ]
    }
   ],
   "source": [
    "print(np.cumprod(b))"
   ]
  },
  {
   "cell_type": "markdown",
   "id": "ebb29356",
   "metadata": {},
   "source": [
    "**np.percentile :**\n",
    "- numpy.percentile()function used to compute the nth percentile of the given data (array elements) along the specified axis.\n",
    "- https://numpy.org/doc/stable/reference/generated/numpy.percentile.html\n",
    "- **formula :** p = (n/N)*100\n",
    "    - p : percentile\n",
    "    - n : Number of values fall under(below) 'x' \n",
    "    - N : Total count of population"
   ]
  },
  {
   "cell_type": "code",
   "execution_count": 30,
   "id": "972abcea",
   "metadata": {},
   "outputs": [
    {
     "name": "stdout",
     "output_type": "stream",
     "text": [
      "[1 2 3 3 4 4 5 5 6 6]\n"
     ]
    }
   ],
   "source": [
    "print(e)"
   ]
  },
  {
   "cell_type": "code",
   "execution_count": 31,
   "id": "f74d5f08",
   "metadata": {},
   "outputs": [
    {
     "name": "stdout",
     "output_type": "stream",
     "text": [
      "1.0\n",
      "4.0\n",
      "6.0\n"
     ]
    }
   ],
   "source": [
    "print(np.percentile(e,0))\n",
    "print(np.percentile(e,50))\n",
    "print(np.percentile(e,100))"
   ]
  },
  {
   "cell_type": "markdown",
   "id": "8fb1bf99",
   "metadata": {},
   "source": [
    "**np.histogram:**\n",
    "- Numpy has a built-in numpy.histogram() function which represents the frequency of data distribution for the graphical form.\n",
    "- https://numpy.org/doc/stable/reference/generated/numpy.histogram.html"
   ]
  },
  {
   "cell_type": "code",
   "execution_count": 32,
   "id": "1ccfcc95",
   "metadata": {},
   "outputs": [
    {
     "name": "stdout",
     "output_type": "stream",
     "text": [
      "[11 53 28 50 38 37 94 92  5 30 68  9 78  2 21]\n"
     ]
    }
   ],
   "source": [
    "#Ex.\n",
    "ee = np.array([11,53,28,50,38,37,94,92,5,30,68,9,78,2,21])\n",
    "print(ee)"
   ]
  },
  {
   "cell_type": "code",
   "execution_count": 33,
   "id": "2c0ecd34",
   "metadata": {},
   "outputs": [
    {
     "name": "stdout",
     "output_type": "stream",
     "text": [
      "(array([3, 1, 2, 3, 0, 2, 1, 1, 0, 2], dtype=int64), array([  0,  10,  20,  30,  40,  50,  60,  70,  80,  90, 100]))\n"
     ]
    }
   ],
   "source": [
    "print(np.histogram(ee,bins=[0,10,20,30,40,50,60,70,80,90,100]))"
   ]
  },
  {
   "cell_type": "markdown",
   "id": "0bf7f338",
   "metadata": {},
   "source": [
    "**np.corrcoef :**\n",
    "- Return Pearson product-moment correlation coefficients.\n",
    "- https://numpy.org/doc/stable/reference/generated/numpy.corrcoef.html"
   ]
  },
  {
   "cell_type": "code",
   "execution_count": 34,
   "id": "25d313b9",
   "metadata": {},
   "outputs": [
    {
     "name": "stdout",
     "output_type": "stream",
     "text": [
      "[[1.         0.25344572]\n",
      " [0.25344572 1.        ]]\n"
     ]
    }
   ],
   "source": [
    "salary = np.array([20000,40000,25000,35000,60000])\n",
    "experience = np.array([1,3,2,4,2])\n",
    "print(np.corrcoef(salary,experience))"
   ]
  },
  {
   "cell_type": "markdown",
   "id": "b657b0e9",
   "metadata": {},
   "source": [
    "**np.isin :**\n",
    "- With the help of numpy.isin() method, we can see that one array having values are checked in a different numpy array having different elements with different sizes.\n",
    "- https://numpy.org/doc/stable/reference/generated/numpy.isin.html"
   ]
  },
  {
   "cell_type": "code",
   "execution_count": 35,
   "id": "d991fb8e",
   "metadata": {},
   "outputs": [
    {
     "name": "stdout",
     "output_type": "stream",
     "text": [
      "ARR : [11 53 28 50 38 37 94 92  5 30 68  9 78  2 21]\n",
      "ITEMS : [10, 20, 30, 40, 5, 0, 11, 78, 90, 65]\n",
      "Simliar Items : [11  5 30 78]\n"
     ]
    }
   ],
   "source": [
    "print(\"ARR :\",ee)\n",
    "i = [10,20,30,40,5,0,11,78,90,65]\n",
    "print('ITEMS :',i)\n",
    "result = np.isin(ee,i)\n",
    "print('Simliar Items :',ee[result])"
   ]
  },
  {
   "cell_type": "markdown",
   "id": "35c74e14",
   "metadata": {},
   "source": [
    "**np.flip :**\n",
    "- The numpy.flip() function reverses the order of array elements along the specified axis, preserving the shape of the array.\n",
    "- https://numpy.org/doc/stable/reference/generated/numpy.flip.html"
   ]
  },
  {
   "cell_type": "code",
   "execution_count": 37,
   "id": "f48e42bc",
   "metadata": {},
   "outputs": [
    {
     "name": "stdout",
     "output_type": "stream",
     "text": [
      "Before Flip : [28 34 69 39 29 29 36 28 60 49 43 48 81 86 19]\n",
      "After Flip : [19 86 81 48 43 49 60 28 36 29 29 39 69 34 28]\n"
     ]
    }
   ],
   "source": [
    "print('Before Flip :',a)\n",
    "print('After Flip :',np.flip(a))"
   ]
  },
  {
   "cell_type": "code",
   "execution_count": 39,
   "id": "cdf34494",
   "metadata": {},
   "outputs": [
    {
     "name": "stdout",
     "output_type": "stream",
     "text": [
      "[[22 26  5 32]\n",
      " [71 80 14 30]\n",
      " [58 36 97 10]\n",
      " [85  4 65 96]\n",
      " [54 23 85 16]\n",
      " [13  3  9 48]]\n"
     ]
    }
   ],
   "source": [
    "print(b)"
   ]
  },
  {
   "cell_type": "code",
   "execution_count": 40,
   "id": "af79d434",
   "metadata": {},
   "outputs": [
    {
     "name": "stdout",
     "output_type": "stream",
     "text": [
      "[[48  9  3 13]\n",
      " [16 85 23 54]\n",
      " [96 65  4 85]\n",
      " [10 97 36 58]\n",
      " [30 14 80 71]\n",
      " [32  5 26 22]]\n"
     ]
    }
   ],
   "source": [
    "print(np.flip(b)) # both filp"
   ]
  },
  {
   "cell_type": "code",
   "execution_count": 41,
   "id": "b0dcea72",
   "metadata": {},
   "outputs": [
    {
     "name": "stdout",
     "output_type": "stream",
     "text": [
      "[[13  3  9 48]\n",
      " [54 23 85 16]\n",
      " [85  4 65 96]\n",
      " [58 36 97 10]\n",
      " [71 80 14 30]\n",
      " [22 26  5 32]]\n"
     ]
    }
   ],
   "source": [
    "# Flip an array vertically (axis=0).\n",
    "print(np.flip(b,axis=0))"
   ]
  },
  {
   "cell_type": "code",
   "execution_count": 43,
   "id": "e65d6d03",
   "metadata": {},
   "outputs": [
    {
     "name": "stdout",
     "output_type": "stream",
     "text": [
      "[[32  5 26 22]\n",
      " [30 14 80 71]\n",
      " [10 97 36 58]\n",
      " [96 65  4 85]\n",
      " [16 85 23 54]\n",
      " [48  9  3 13]]\n"
     ]
    }
   ],
   "source": [
    "# Flip an array horizontally (axis=1).\n",
    "print(np.flip(b,axis=1))"
   ]
  },
  {
   "cell_type": "code",
   "execution_count": null,
   "id": "81a8326c",
   "metadata": {},
   "outputs": [],
   "source": []
  },
  {
   "cell_type": "code",
   "execution_count": null,
   "id": "5a384b84",
   "metadata": {},
   "outputs": [],
   "source": []
  },
  {
   "cell_type": "code",
   "execution_count": null,
   "id": "e0634eda",
   "metadata": {},
   "outputs": [],
   "source": []
  },
  {
   "cell_type": "code",
   "execution_count": null,
   "id": "9c9e1966",
   "metadata": {},
   "outputs": [],
   "source": []
  },
  {
   "cell_type": "code",
   "execution_count": null,
   "id": "247289ee",
   "metadata": {},
   "outputs": [],
   "source": []
  },
  {
   "cell_type": "code",
   "execution_count": null,
   "id": "9790fffd",
   "metadata": {},
   "outputs": [],
   "source": []
  },
  {
   "cell_type": "code",
   "execution_count": null,
   "id": "a586f7cc",
   "metadata": {},
   "outputs": [],
   "source": []
  },
  {
   "cell_type": "code",
   "execution_count": null,
   "id": "b6e3facf",
   "metadata": {},
   "outputs": [],
   "source": []
  },
  {
   "cell_type": "code",
   "execution_count": null,
   "id": "2e4fb6cb",
   "metadata": {},
   "outputs": [],
   "source": []
  },
  {
   "cell_type": "code",
   "execution_count": null,
   "id": "482636e8",
   "metadata": {},
   "outputs": [],
   "source": []
  },
  {
   "cell_type": "code",
   "execution_count": null,
   "id": "a951d255",
   "metadata": {},
   "outputs": [],
   "source": []
  }
 ],
 "metadata": {
  "kernelspec": {
   "display_name": "Python 3 (ipykernel)",
   "language": "python",
   "name": "python3"
  },
  "language_info": {
   "codemirror_mode": {
    "name": "ipython",
    "version": 3
   },
   "file_extension": ".py",
   "mimetype": "text/x-python",
   "name": "python",
   "nbconvert_exporter": "python",
   "pygments_lexer": "ipython3",
   "version": "3.10.7"
  }
 },
 "nbformat": 4,
 "nbformat_minor": 5
}
