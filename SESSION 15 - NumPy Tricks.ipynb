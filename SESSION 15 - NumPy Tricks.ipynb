{
 "cells": [
  {
   "cell_type": "markdown",
   "id": "039dcd93",
   "metadata": {},
   "source": [
    "### SESSION 15 - NumPy Tricks"
   ]
  },
  {
   "cell_type": "markdown",
   "id": "bc827f0f",
   "metadata": {},
   "source": [
    "**np.sort :**\n",
    "- Return a sorted copy of an array.\n",
    "- https://numpy.org/doc/stable/reference/generated/numpy.sort.html"
   ]
  },
  {
   "cell_type": "code",
   "execution_count": 2,
   "id": "02c0e879",
   "metadata": {},
   "outputs": [
    {
     "data": {
      "text/plain": [
       "array([45, 43, 87, 55, 49, 79, 75, 49, 18, 90,  2, 38, 75, 28, 48])"
      ]
     },
     "execution_count": 2,
     "metadata": {},
     "output_type": "execute_result"
    }
   ],
   "source": [
    "import numpy as np\n",
    "a = np.random.randint(1,100,15)\n",
    "a"
   ]
  },
  {
   "cell_type": "code",
   "execution_count": 3,
   "id": "1d162983",
   "metadata": {},
   "outputs": [
    {
     "data": {
      "text/plain": [
       "array([[ 6, 48, 80, 48],\n",
       "       [94, 28, 67, 61],\n",
       "       [80, 60, 83, 69],\n",
       "       [45, 87, 91, 33],\n",
       "       [67, 21,  1, 98],\n",
       "       [43, 28, 83, 19]])"
      ]
     },
     "execution_count": 3,
     "metadata": {},
     "output_type": "execute_result"
    }
   ],
   "source": [
    "b = np.random.randint(1,100,24).reshape(6,4)\n",
    "b"
   ]
  },
  {
   "cell_type": "code",
   "execution_count": 4,
   "id": "faaf4481",
   "metadata": {},
   "outputs": [
    {
     "name": "stdout",
     "output_type": "stream",
     "text": [
      "Sorted order : [ 2 18 28 38 43 45 48 49 49 55 75 75 79 87 90]\n",
      "Sorted order : [90 87 79 75 75 55 49 49 48 45 43 38 28 18  2]\n"
     ]
    }
   ],
   "source": [
    "# ascending order\n",
    "a_s = np.sort(a)\n",
    "print(\"Sorted order :\",a_s)\n",
    "\n",
    "# Desending order\n",
    "d_s = np.sort(a)[::-1]\n",
    "print(\"Sorted order :\",d_s) "
   ]
  },
  {
   "cell_type": "code",
   "execution_count": 5,
   "id": "ca3e36c8",
   "metadata": {},
   "outputs": [
    {
     "name": "stdout",
     "output_type": "stream",
     "text": [
      "Original Array :\n",
      "[[ 6 48 80 48]\n",
      " [94 28 67 61]\n",
      " [80 60 83 69]\n",
      " [45 87 91 33]\n",
      " [67 21  1 98]\n",
      " [43 28 83 19]]\n",
      "\n",
      "column-wise sort :\n",
      "[[ 6 21  1 19]\n",
      " [43 28 67 33]\n",
      " [45 28 80 48]\n",
      " [67 48 83 61]\n",
      " [80 60 83 69]\n",
      " [94 87 91 98]]\n",
      "\n",
      "row-wise sort :\n",
      "[[ 6 48 48 80]\n",
      " [28 61 67 94]\n",
      " [60 69 80 83]\n",
      " [33 45 87 91]\n",
      " [ 1 21 67 98]\n",
      " [19 28 43 83]]\n"
     ]
    }
   ],
   "source": [
    "# col axis = 0 , row axis = 1\n",
    "c = np.sort(b, axis=0) # column-wise sort in ascending order\n",
    "r = np.sort(b, axis=1) # row-wise sort in ascending order\n",
    "print('Original Array :')\n",
    "print(b)\n",
    "print()\n",
    "print('column-wise sort :')\n",
    "print(c)\n",
    "print()\n",
    "print('row-wise sort :')\n",
    "print(r)"
   ]
  },
  {
   "cell_type": "markdown",
   "id": "9d830a31",
   "metadata": {},
   "source": [
    "**np.append :**\n",
    "- The numpy.append() appends values along the mentioned axis at the end of the array\n",
    "- https://numpy.org/doc/stable/reference/generated/numpy.append.html"
   ]
  },
  {
   "cell_type": "code",
   "execution_count": 6,
   "id": "b90bc091",
   "metadata": {},
   "outputs": [
    {
     "name": "stdout",
     "output_type": "stream",
     "text": [
      "[ 45  43  87  55  49  79  75  49  18  90   2  38  75  28  48 200]\n",
      "[[ 6. 48. 80. 48.  1.]\n",
      " [94. 28. 67. 61.  1.]\n",
      " [80. 60. 83. 69.  1.]\n",
      " [45. 87. 91. 33.  1.]\n",
      " [67. 21.  1. 98.  1.]\n",
      " [43. 28. 83. 19.  1.]]\n"
     ]
    }
   ],
   "source": [
    "# Append elements in existing 1D & 2D array\n",
    "aa = np.append(a,200)\n",
    "print(aa)\n",
    "\n",
    "# append column\n",
    "a_a = np.append(b,np.ones((b.shape[0],1)),axis=1)\n",
    "print(a_a)"
   ]
  },
  {
   "cell_type": "markdown",
   "id": "3a6e64e4",
   "metadata": {},
   "source": [
    "**np.concatenate:**\n",
    "- numpy.concatenate() function concatenate a sequence of arrays along an existing axis.\n",
    "- https://numpy.org/doc/stable/reference/generated/numpy.concatenate.html"
   ]
  },
  {
   "cell_type": "code",
   "execution_count": 7,
   "id": "ab1e736d",
   "metadata": {},
   "outputs": [
    {
     "name": "stdout",
     "output_type": "stream",
     "text": [
      "[[0 1 2]\n",
      " [3 4 5]]\n",
      "\n",
      "[[ 6  7  8]\n",
      " [ 9 10 11]]\n"
     ]
    }
   ],
   "source": [
    "c = np.arange(6).reshape(2,3)\n",
    "d = np.arange(6,12).reshape(2,3)\n",
    "print(c)\n",
    "print()\n",
    "print(d)"
   ]
  },
  {
   "cell_type": "code",
   "execution_count": 8,
   "id": "ab821189",
   "metadata": {},
   "outputs": [
    {
     "name": "stdout",
     "output_type": "stream",
     "text": [
      "[[ 0  1  2]\n",
      " [ 3  4  5]\n",
      " [ 6  7  8]\n",
      " [ 9 10 11]]\n"
     ]
    }
   ],
   "source": [
    "# default concatenate row wise\n",
    "cc = np.concatenate((c,d),axis=0)\n",
    "print(cc)"
   ]
  },
  {
   "cell_type": "code",
   "execution_count": 9,
   "id": "2030fa08",
   "metadata": {},
   "outputs": [
    {
     "name": "stdout",
     "output_type": "stream",
     "text": [
      "[[ 0  1  2  6  7  8]\n",
      " [ 3  4  5  9 10 11]]\n"
     ]
    }
   ],
   "source": [
    "# concatenate column wise\n",
    "cc = np.concatenate((c,d),axis=1)\n",
    "print(cc)"
   ]
  },
  {
   "cell_type": "markdown",
   "id": "047a98bc",
   "metadata": {},
   "source": [
    "**np.unique :**\n",
    "- With the help of np.unique() method, we can get the unique values from an array given as parameter in np.unique() method.\n",
    "- Ex.Imagine 1 student register for multiple courses , but we want those user they purches the course so it Uueful to identify the unique users from course \n",
    "- https://numpy.org/doc/stable/reference/generated/numpy.unique.html/"
   ]
  },
  {
   "cell_type": "code",
   "execution_count": 10,
   "id": "ea203db5",
   "metadata": {},
   "outputs": [],
   "source": [
    "# Ex\n",
    "e = np.array([1,2,3,3,4,4,5,5,6,6])\n",
    "print(\"E :\")\n",
    "print(e)\n"
   ]
  },
  {
   "cell_type": "code",
   "execution_count": null,
   "id": "b14c4bd2",
   "metadata": {},
   "outputs": [],
   "source": []
  },
  {
   "cell_type": "code",
   "execution_count": null,
   "id": "8b10d8c0",
   "metadata": {},
   "outputs": [],
   "source": []
  },
  {
   "cell_type": "code",
   "execution_count": null,
   "id": "a6a861ea",
   "metadata": {},
   "outputs": [],
   "source": []
  },
  {
   "cell_type": "code",
   "execution_count": null,
   "id": "fffc76fd",
   "metadata": {},
   "outputs": [],
   "source": []
  },
  {
   "cell_type": "code",
   "execution_count": null,
   "id": "91c804cb",
   "metadata": {},
   "outputs": [],
   "source": []
  },
  {
   "cell_type": "code",
   "execution_count": null,
   "id": "7a9e9bff",
   "metadata": {},
   "outputs": [],
   "source": []
  },
  {
   "cell_type": "code",
   "execution_count": null,
   "id": "b784033b",
   "metadata": {},
   "outputs": [],
   "source": []
  },
  {
   "cell_type": "code",
   "execution_count": null,
   "id": "28c9fd51",
   "metadata": {},
   "outputs": [],
   "source": []
  },
  {
   "cell_type": "code",
   "execution_count": null,
   "id": "a8ea4e44",
   "metadata": {},
   "outputs": [],
   "source": []
  },
  {
   "cell_type": "code",
   "execution_count": null,
   "id": "f6c9dcad",
   "metadata": {},
   "outputs": [],
   "source": []
  },
  {
   "cell_type": "code",
   "execution_count": null,
   "id": "819e9b25",
   "metadata": {},
   "outputs": [],
   "source": []
  },
  {
   "cell_type": "code",
   "execution_count": null,
   "id": "ebb7306f",
   "metadata": {},
   "outputs": [],
   "source": []
  },
  {
   "cell_type": "code",
   "execution_count": null,
   "id": "59498a4a",
   "metadata": {},
   "outputs": [],
   "source": []
  },
  {
   "cell_type": "code",
   "execution_count": null,
   "id": "2755c235",
   "metadata": {},
   "outputs": [],
   "source": []
  },
  {
   "cell_type": "code",
   "execution_count": null,
   "id": "3af67932",
   "metadata": {},
   "outputs": [],
   "source": []
  },
  {
   "cell_type": "code",
   "execution_count": null,
   "id": "79020c9a",
   "metadata": {},
   "outputs": [],
   "source": []
  },
  {
   "cell_type": "code",
   "execution_count": null,
   "id": "f1c1515c",
   "metadata": {},
   "outputs": [],
   "source": []
  },
  {
   "cell_type": "code",
   "execution_count": null,
   "id": "2a862122",
   "metadata": {},
   "outputs": [],
   "source": []
  },
  {
   "cell_type": "code",
   "execution_count": null,
   "id": "e49903e2",
   "metadata": {},
   "outputs": [],
   "source": []
  },
  {
   "cell_type": "code",
   "execution_count": null,
   "id": "3c84cce1",
   "metadata": {},
   "outputs": [],
   "source": []
  },
  {
   "cell_type": "code",
   "execution_count": null,
   "id": "0c0e77b4",
   "metadata": {},
   "outputs": [],
   "source": []
  },
  {
   "cell_type": "code",
   "execution_count": null,
   "id": "603ac645",
   "metadata": {},
   "outputs": [],
   "source": []
  },
  {
   "cell_type": "code",
   "execution_count": null,
   "id": "8f13fe22",
   "metadata": {},
   "outputs": [],
   "source": []
  },
  {
   "cell_type": "code",
   "execution_count": null,
   "id": "fd736273",
   "metadata": {},
   "outputs": [],
   "source": []
  },
  {
   "cell_type": "code",
   "execution_count": null,
   "id": "970b8dfa",
   "metadata": {},
   "outputs": [],
   "source": []
  },
  {
   "cell_type": "code",
   "execution_count": null,
   "id": "be71f678",
   "metadata": {},
   "outputs": [],
   "source": []
  },
  {
   "cell_type": "code",
   "execution_count": null,
   "id": "974307c6",
   "metadata": {},
   "outputs": [],
   "source": []
  },
  {
   "cell_type": "code",
   "execution_count": null,
   "id": "972abcea",
   "metadata": {},
   "outputs": [],
   "source": []
  },
  {
   "cell_type": "code",
   "execution_count": null,
   "id": "f74d5f08",
   "metadata": {},
   "outputs": [],
   "source": []
  },
  {
   "cell_type": "code",
   "execution_count": null,
   "id": "b797040f",
   "metadata": {},
   "outputs": [],
   "source": []
  },
  {
   "cell_type": "code",
   "execution_count": null,
   "id": "1ccfcc95",
   "metadata": {},
   "outputs": [],
   "source": []
  },
  {
   "cell_type": "code",
   "execution_count": null,
   "id": "2c0ecd34",
   "metadata": {},
   "outputs": [],
   "source": []
  },
  {
   "cell_type": "code",
   "execution_count": null,
   "id": "5801a351",
   "metadata": {},
   "outputs": [],
   "source": []
  },
  {
   "cell_type": "code",
   "execution_count": null,
   "id": "9c9e1966",
   "metadata": {},
   "outputs": [],
   "source": []
  },
  {
   "cell_type": "code",
   "execution_count": null,
   "id": "247289ee",
   "metadata": {},
   "outputs": [],
   "source": []
  },
  {
   "cell_type": "code",
   "execution_count": null,
   "id": "9790fffd",
   "metadata": {},
   "outputs": [],
   "source": []
  },
  {
   "cell_type": "code",
   "execution_count": null,
   "id": "a586f7cc",
   "metadata": {},
   "outputs": [],
   "source": []
  },
  {
   "cell_type": "code",
   "execution_count": null,
   "id": "b6e3facf",
   "metadata": {},
   "outputs": [],
   "source": []
  },
  {
   "cell_type": "code",
   "execution_count": null,
   "id": "2e4fb6cb",
   "metadata": {},
   "outputs": [],
   "source": []
  },
  {
   "cell_type": "code",
   "execution_count": null,
   "id": "482636e8",
   "metadata": {},
   "outputs": [],
   "source": []
  },
  {
   "cell_type": "code",
   "execution_count": null,
   "id": "a951d255",
   "metadata": {},
   "outputs": [],
   "source": []
  }
 ],
 "metadata": {
  "kernelspec": {
   "display_name": "Python 3 (ipykernel)",
   "language": "python",
   "name": "python3"
  },
  "language_info": {
   "codemirror_mode": {
    "name": "ipython",
    "version": 3
   },
   "file_extension": ".py",
   "mimetype": "text/x-python",
   "name": "python",
   "nbconvert_exporter": "python",
   "pygments_lexer": "ipython3",
   "version": "3.10.7"
  }
 },
 "nbformat": 4,
 "nbformat_minor": 5
}
