{
 "cells": [
  {
   "cell_type": "markdown",
   "id": "039dcd93",
   "metadata": {},
   "source": [
    "### SESSION 15 - NumPy Tricks"
   ]
  },
  {
   "cell_type": "markdown",
   "id": "bc827f0f",
   "metadata": {},
   "source": [
    "**np.sort :**\n",
    "- Return a sorted copy of an array.\n",
    "- https://numpy.org/doc/stable/reference/generated/numpy.sort.html"
   ]
  },
  {
   "cell_type": "code",
   "execution_count": 2,
   "id": "02c0e879",
   "metadata": {},
   "outputs": [
    {
     "data": {
      "text/plain": [
       "array([ 9, 77, 94, 88, 47, 91, 45, 40, 78, 88, 26, 15, 83, 81, 12])"
      ]
     },
     "execution_count": 2,
     "metadata": {},
     "output_type": "execute_result"
    }
   ],
   "source": [
    "import numpy as np\n",
    "a = np.random.randint(1,100,15)\n",
    "a"
   ]
  },
  {
   "cell_type": "code",
   "execution_count": 3,
   "id": "1d162983",
   "metadata": {},
   "outputs": [
    {
     "data": {
      "text/plain": [
       "array([[79, 14, 90, 72],\n",
       "       [73, 13, 51, 28],\n",
       "       [84,  8, 94, 78],\n",
       "       [51, 57, 33,  8],\n",
       "       [92, 83, 18, 52],\n",
       "       [ 2, 80, 57, 15]])"
      ]
     },
     "execution_count": 3,
     "metadata": {},
     "output_type": "execute_result"
    }
   ],
   "source": [
    "b = np.random.randint(1,100,24).reshape(6,4)\n",
    "b"
   ]
  },
  {
   "cell_type": "code",
   "execution_count": 4,
   "id": "faaf4481",
   "metadata": {},
   "outputs": [
    {
     "name": "stdout",
     "output_type": "stream",
     "text": [
      "Sorted order : [ 9 12 15 26 40 45 47 77 78 81 83 88 88 91 94]\n",
      "Sorted order : [94 91 88 88 83 81 78 77 47 45 40 26 15 12  9]\n"
     ]
    }
   ],
   "source": [
    "# ascending order\n",
    "a_s = np.sort(a)\n",
    "print(\"Sorted order :\",a_s)\n",
    "\n",
    "# Desending order\n",
    "d_s = np.sort(a)[::-1]\n",
    "print(\"Sorted order :\",d_s) "
   ]
  },
  {
   "cell_type": "code",
   "execution_count": 5,
   "id": "ca3e36c8",
   "metadata": {},
   "outputs": [
    {
     "name": "stdout",
     "output_type": "stream",
     "text": [
      "Original Array :\n",
      "[[79 14 90 72]\n",
      " [73 13 51 28]\n",
      " [84  8 94 78]\n",
      " [51 57 33  8]\n",
      " [92 83 18 52]\n",
      " [ 2 80 57 15]]\n",
      "\n",
      "column-wise sort :\n",
      "[[ 2  8 18  8]\n",
      " [51 13 33 15]\n",
      " [73 14 51 28]\n",
      " [79 57 57 52]\n",
      " [84 80 90 72]\n",
      " [92 83 94 78]]\n",
      "\n",
      "row-wise sort :\n",
      "[[14 72 79 90]\n",
      " [13 28 51 73]\n",
      " [ 8 78 84 94]\n",
      " [ 8 33 51 57]\n",
      " [18 52 83 92]\n",
      " [ 2 15 57 80]]\n"
     ]
    }
   ],
   "source": [
    "# col axis = 0 , row axis = 1\n",
    "c = np.sort(b, axis=0) # column-wise sort in ascending order\n",
    "r = np.sort(b, axis=1) # row-wise sort in ascending order\n",
    "print('Original Array :')\n",
    "print(b)\n",
    "print()\n",
    "print('column-wise sort :')\n",
    "print(c)\n",
    "print()\n",
    "print('row-wise sort :')\n",
    "print(r)"
   ]
  },
  {
   "cell_type": "markdown",
   "id": "9d830a31",
   "metadata": {},
   "source": [
    "**np.append :**\n",
    "- The numpy.append() appends values along the mentioned axis at the end of the array\n",
    "- https://numpy.org/doc/stable/reference/generated/numpy.append.html"
   ]
  },
  {
   "cell_type": "code",
   "execution_count": 6,
   "id": "b90bc091",
   "metadata": {},
   "outputs": [
    {
     "name": "stdout",
     "output_type": "stream",
     "text": [
      "[  9  77  94  88  47  91  45  40  78  88  26  15  83  81  12 200]\n",
      "[[79. 14. 90. 72.  1.]\n",
      " [73. 13. 51. 28.  1.]\n",
      " [84.  8. 94. 78.  1.]\n",
      " [51. 57. 33.  8.  1.]\n",
      " [92. 83. 18. 52.  1.]\n",
      " [ 2. 80. 57. 15.  1.]]\n"
     ]
    }
   ],
   "source": [
    "# Append elements in existing 1D & 2D array\n",
    "aa = np.append(a,200)\n",
    "print(aa)\n",
    "\n",
    "# append column\n",
    "a_a = np.append(b,np.ones((b.shape[0],1)),axis=1)\n",
    "print(a_a)"
   ]
  },
  {
   "cell_type": "markdown",
   "id": "3a6e64e4",
   "metadata": {},
   "source": [
    "**np.concatenate:**\n",
    "- numpy.concatenate() function concatenate a sequence of arrays along an existing axis.\n",
    "- https://numpy.org/doc/stable/reference/generated/numpy.concatenate.html"
   ]
  },
  {
   "cell_type": "code",
   "execution_count": 7,
   "id": "ab1e736d",
   "metadata": {},
   "outputs": [
    {
     "name": "stdout",
     "output_type": "stream",
     "text": [
      "[[0 1 2]\n",
      " [3 4 5]]\n",
      "\n",
      "[[ 6  7  8]\n",
      " [ 9 10 11]]\n"
     ]
    }
   ],
   "source": [
    "c = np.arange(6).reshape(2,3)\n",
    "d = np.arange(6,12).reshape(2,3)\n",
    "print(c)\n",
    "print()\n",
    "print(d)"
   ]
  },
  {
   "cell_type": "code",
   "execution_count": 8,
   "id": "ab821189",
   "metadata": {},
   "outputs": [
    {
     "name": "stdout",
     "output_type": "stream",
     "text": [
      "[[ 0  1  2]\n",
      " [ 3  4  5]\n",
      " [ 6  7  8]\n",
      " [ 9 10 11]]\n"
     ]
    }
   ],
   "source": [
    "# default concatenate row wise\n",
    "cc = np.concatenate((c,d),axis=0)\n",
    "print(cc)"
   ]
  },
  {
   "cell_type": "code",
   "execution_count": 9,
   "id": "2030fa08",
   "metadata": {},
   "outputs": [
    {
     "name": "stdout",
     "output_type": "stream",
     "text": [
      "[[ 0  1  2  6  7  8]\n",
      " [ 3  4  5  9 10 11]]\n"
     ]
    }
   ],
   "source": [
    "# concatenate column wise\n",
    "cc = np.concatenate((c,d),axis=1)\n",
    "print(cc)"
   ]
  },
  {
   "cell_type": "markdown",
   "id": "94b2af71",
   "metadata": {},
   "source": [
    "**np.unique :**\n",
    "- With the help of np.unique() method, we can get the unique values from an array given as parameter in np.unique() method.\n",
    "- Ex.Imagine 1 student register for multiple courses , but we want those user they purches the course so it useful to identify the unique users from course \n",
    "- https://numpy.org/doc/stable/reference/generated/numpy.unique.html/"
   ]
  },
  {
   "cell_type": "code",
   "execution_count": 15,
   "id": "ea203db5",
   "metadata": {
    "scrolled": true
   },
   "outputs": [
    {
     "name": "stdout",
     "output_type": "stream",
     "text": [
      "E : [1 2 3 3 4 4 5 5 6 6]\n",
      "Unique Values : [1 2 3 4 5 6]\n"
     ]
    }
   ],
   "source": [
    "# Ex\n",
    "e = np.array([1,2,3,3,4,4,5,5,6,6])\n",
    "print(\"E :\",e)\n",
    "print('Unique Values :',np.unique(e))"
   ]
  },
  {
   "cell_type": "markdown",
   "id": "50311b63",
   "metadata": {},
   "source": [
    "**np.expand_dims :**\n",
    "- With the help of Numpy.expand_dims() method, we can get the expanded dimensions of an array.\n",
    "- means 1D to 2D convertion or 3d to 4D conversion.\n",
    "- https://numpy.org/doc/stable/reference/generated/numpy.expand_dims.html"
   ]
  },
  {
   "cell_type": "code",
   "execution_count": 30,
   "id": "8b10d8c0",
   "metadata": {},
   "outputs": [
    {
     "name": "stdout",
     "output_type": "stream",
     "text": [
      "E: [1 2 3 3 4 4 5 5 6 6]\n",
      "2D : [[1 2 3 3 4 4 5 5 6 6]]\n",
      "(1, 10)\n"
     ]
    }
   ],
   "source": [
    "print('E:',e)\n",
    "print('2D :',np.expand_dims(e,axis=0)) # axis 0 is row\n",
    "print(np.expand_dims(e,axis=0).shape)"
   ]
  },
  {
   "cell_type": "code",
   "execution_count": 29,
   "id": "a6a861ea",
   "metadata": {},
   "outputs": [
    {
     "name": "stdout",
     "output_type": "stream",
     "text": [
      "[[1]\n",
      " [2]\n",
      " [3]\n",
      " [3]\n",
      " [4]\n",
      " [4]\n",
      " [5]\n",
      " [5]\n",
      " [6]\n",
      " [6]]\n",
      "(10, 1)\n"
     ]
    }
   ],
   "source": [
    "print(np.expand_dims(e,axis=1)) # axis 1 is col\n",
    "print(np.expand_dims(e,axis=1).shape)"
   ]
  },
  {
   "cell_type": "markdown",
   "id": "740d6c54",
   "metadata": {},
   "source": [
    "**np.where :**\n",
    "- The numpy.where() function returns the indices of elements in an input array where the given condition is satisfied.\n",
    "- https://numpy.org/doc/stable/reference/generated/numpy.where.html"
   ]
  },
  {
   "cell_type": "code",
   "execution_count": 43,
   "id": "91c804cb",
   "metadata": {},
   "outputs": [
    {
     "name": "stdout",
     "output_type": "stream",
     "text": [
      "[1 2 3 3 4 4 5 5 6 6]\n",
      "(array([6, 7, 8, 9], dtype=int64),)\n"
     ]
    }
   ],
   "source": [
    "print(e)\n",
    "# Ex.find all indices with value greater than 4\n",
    "print(np.where(e>4))"
   ]
  },
  {
   "cell_type": "code",
   "execution_count": 45,
   "id": "7a9e9bff",
   "metadata": {},
   "outputs": [
    {
     "name": "stdout",
     "output_type": "stream",
     "text": [
      "[0 0 0 0 4 4 5 5 6 6]\n"
     ]
    }
   ],
   "source": [
    "# Ex.replace all values < 4 with 0\n",
    "print(np.where(e<4, 0, e))"
   ]
  },
  {
   "cell_type": "markdown",
   "id": "f7a9e8ba",
   "metadata": {},
   "source": [
    "**np.argmax :**\n",
    "- The numpy.argmax() function returns indices of the max element of the array in a particular axis.\n",
    "- https://numpy.org/doc/stable/reference/generated/numpy.argmax.html"
   ]
  },
  {
   "cell_type": "code",
   "execution_count": 46,
   "id": "28c9fd51",
   "metadata": {},
   "outputs": [
    {
     "name": "stdout",
     "output_type": "stream",
     "text": [
      "[1 2 3 3 4 4 5 5 6 6]\n"
     ]
    }
   ],
   "source": [
    "print(e)"
   ]
  },
  {
   "cell_type": "code",
   "execution_count": 54,
   "id": "a8ea4e44",
   "metadata": {},
   "outputs": [
    {
     "name": "stdout",
     "output_type": "stream",
     "text": [
      "8\n"
     ]
    }
   ],
   "source": [
    "print(np.argmax(e))"
   ]
  },
  {
   "cell_type": "code",
   "execution_count": 48,
   "id": "f6c9dcad",
   "metadata": {},
   "outputs": [
    {
     "name": "stdout",
     "output_type": "stream",
     "text": [
      "[[79 14 90 72]\n",
      " [73 13 51 28]\n",
      " [84  8 94 78]\n",
      " [51 57 33  8]\n",
      " [92 83 18 52]\n",
      " [ 2 80 57 15]]\n"
     ]
    }
   ],
   "source": [
    "# 2D \n",
    "print(b)"
   ]
  },
  {
   "cell_type": "code",
   "execution_count": 75,
   "id": "819e9b25",
   "metadata": {},
   "outputs": [
    {
     "name": "stdout",
     "output_type": "stream",
     "text": [
      "[4 4 2 2]\n"
     ]
    }
   ],
   "source": [
    "print(np.argmax(b, axis=0)) # col = 0"
   ]
  },
  {
   "cell_type": "code",
   "execution_count": 61,
   "id": "ebb7306f",
   "metadata": {},
   "outputs": [
    {
     "name": "stdout",
     "output_type": "stream",
     "text": [
      "[2 0 2 1 0 1]\n"
     ]
    }
   ],
   "source": [
    "print(np.argmax(b, axis=1)) # row = 1"
   ]
  },
  {
   "cell_type": "markdown",
   "id": "b767e963",
   "metadata": {},
   "source": [
    "**np.argmin :**\n",
    "- give the min number index"
   ]
  },
  {
   "cell_type": "code",
   "execution_count": 62,
   "id": "2755c235",
   "metadata": {},
   "outputs": [
    {
     "name": "stdout",
     "output_type": "stream",
     "text": [
      "[1 2 3 3 4 4 5 5 6 6]\n",
      "0\n"
     ]
    }
   ],
   "source": [
    "print(e)\n",
    "print(np.argmin(e))"
   ]
  },
  {
   "cell_type": "code",
   "execution_count": 63,
   "id": "3af67932",
   "metadata": {},
   "outputs": [
    {
     "name": "stdout",
     "output_type": "stream",
     "text": [
      "[5 2 4 3]\n"
     ]
    }
   ],
   "source": [
    "print(np.argmin(b, axis=0))"
   ]
  },
  {
   "cell_type": "code",
   "execution_count": 59,
   "id": "79020c9a",
   "metadata": {},
   "outputs": [
    {
     "name": "stdout",
     "output_type": "stream",
     "text": [
      "[1 1 1 3 2 0]\n"
     ]
    }
   ],
   "source": [
    "print(np.argmin(b, axis=1))"
   ]
  },
  {
   "cell_type": "markdown",
   "id": "41fb81e3",
   "metadata": {},
   "source": [
    "**np.cumsum :**\n",
    "- numpy.cumsum() function is used when we want to compute the **cumulative sum of array elements over a given axis.**\n",
    "- https://numpy.org/doc/stable/reference/generated/numpy.cumsum.html"
   ]
  },
  {
   "cell_type": "code",
   "execution_count": 67,
   "id": "2a862122",
   "metadata": {},
   "outputs": [
    {
     "name": "stdout",
     "output_type": "stream",
     "text": [
      "[ 9 77 94 88 47 91 45 40 78 88 26 15 83 81 12]\n",
      "cumilative sum :  [  9  86 180 268 315 406 451 491 569 657 683 698 781 862 874]\n"
     ]
    }
   ],
   "source": [
    "# Ex.1D\n",
    "print(a)\n",
    "print('cumilative sum : ',np.cumsum(a))"
   ]
  },
  {
   "cell_type": "code",
   "execution_count": 68,
   "id": "3c84cce1",
   "metadata": {},
   "outputs": [
    {
     "name": "stdout",
     "output_type": "stream",
     "text": [
      "[[79 14 90 72]\n",
      " [73 13 51 28]\n",
      " [84  8 94 78]\n",
      " [51 57 33  8]\n",
      " [92 83 18 52]\n",
      " [ 2 80 57 15]]\n"
     ]
    }
   ],
   "source": [
    "# Ex.2D\n",
    "print(b)"
   ]
  },
  {
   "cell_type": "code",
   "execution_count": 72,
   "id": "0c0e77b4",
   "metadata": {},
   "outputs": [
    {
     "name": "stdout",
     "output_type": "stream",
     "text": [
      "[  79   93  183  255  328  341  392  420  504  512  606  684  735  792\n",
      "  825  833  925 1008 1026 1078 1080 1160 1217 1232]\n"
     ]
    }
   ],
   "source": [
    "print(np.cumsum(b))"
   ]
  },
  {
   "cell_type": "code",
   "execution_count": 73,
   "id": "603ac645",
   "metadata": {},
   "outputs": [
    {
     "name": "stdout",
     "output_type": "stream",
     "text": [
      "[[ 79  14  90  72]\n",
      " [152  27 141 100]\n",
      " [236  35 235 178]\n",
      " [287  92 268 186]\n",
      " [379 175 286 238]\n",
      " [381 255 343 253]]\n"
     ]
    }
   ],
   "source": [
    "print(np.cumsum(b,axis=0)) # 1 = row"
   ]
  },
  {
   "cell_type": "code",
   "execution_count": 74,
   "id": "8f13fe22",
   "metadata": {},
   "outputs": [
    {
     "name": "stdout",
     "output_type": "stream",
     "text": [
      "[[ 79  93 183 255]\n",
      " [ 73  86 137 165]\n",
      " [ 84  92 186 264]\n",
      " [ 51 108 141 149]\n",
      " [ 92 175 193 245]\n",
      " [  2  82 139 154]]\n"
     ]
    }
   ],
   "source": [
    "print(np.cumsum(b,axis=1)) # 0 = col"
   ]
  },
  {
   "cell_type": "code",
   "execution_count": null,
   "id": "fd736273",
   "metadata": {},
   "outputs": [],
   "source": []
  },
  {
   "cell_type": "code",
   "execution_count": null,
   "id": "970b8dfa",
   "metadata": {},
   "outputs": [],
   "source": []
  },
  {
   "cell_type": "code",
   "execution_count": null,
   "id": "be71f678",
   "metadata": {},
   "outputs": [],
   "source": []
  },
  {
   "cell_type": "code",
   "execution_count": null,
   "id": "974307c6",
   "metadata": {},
   "outputs": [],
   "source": []
  },
  {
   "cell_type": "code",
   "execution_count": null,
   "id": "972abcea",
   "metadata": {},
   "outputs": [],
   "source": []
  },
  {
   "cell_type": "code",
   "execution_count": null,
   "id": "f74d5f08",
   "metadata": {},
   "outputs": [],
   "source": []
  },
  {
   "cell_type": "code",
   "execution_count": null,
   "id": "b797040f",
   "metadata": {},
   "outputs": [],
   "source": []
  },
  {
   "cell_type": "code",
   "execution_count": null,
   "id": "1ccfcc95",
   "metadata": {},
   "outputs": [],
   "source": []
  },
  {
   "cell_type": "code",
   "execution_count": null,
   "id": "2c0ecd34",
   "metadata": {},
   "outputs": [],
   "source": []
  },
  {
   "cell_type": "code",
   "execution_count": null,
   "id": "5801a351",
   "metadata": {},
   "outputs": [],
   "source": []
  },
  {
   "cell_type": "code",
   "execution_count": null,
   "id": "9c9e1966",
   "metadata": {},
   "outputs": [],
   "source": []
  },
  {
   "cell_type": "code",
   "execution_count": null,
   "id": "247289ee",
   "metadata": {},
   "outputs": [],
   "source": []
  },
  {
   "cell_type": "code",
   "execution_count": null,
   "id": "9790fffd",
   "metadata": {},
   "outputs": [],
   "source": []
  },
  {
   "cell_type": "code",
   "execution_count": null,
   "id": "a586f7cc",
   "metadata": {},
   "outputs": [],
   "source": []
  },
  {
   "cell_type": "code",
   "execution_count": null,
   "id": "b6e3facf",
   "metadata": {},
   "outputs": [],
   "source": []
  },
  {
   "cell_type": "code",
   "execution_count": null,
   "id": "2e4fb6cb",
   "metadata": {},
   "outputs": [],
   "source": []
  },
  {
   "cell_type": "code",
   "execution_count": null,
   "id": "482636e8",
   "metadata": {},
   "outputs": [],
   "source": []
  },
  {
   "cell_type": "code",
   "execution_count": null,
   "id": "a951d255",
   "metadata": {},
   "outputs": [],
   "source": []
  }
 ],
 "metadata": {
  "kernelspec": {
   "display_name": "Python 3 (ipykernel)",
   "language": "python",
   "name": "python3"
  },
  "language_info": {
   "codemirror_mode": {
    "name": "ipython",
    "version": 3
   },
   "file_extension": ".py",
   "mimetype": "text/x-python",
   "name": "python",
   "nbconvert_exporter": "python",
   "pygments_lexer": "ipython3",
   "version": "3.10.7"
  }
 },
 "nbformat": 4,
 "nbformat_minor": 5
}
