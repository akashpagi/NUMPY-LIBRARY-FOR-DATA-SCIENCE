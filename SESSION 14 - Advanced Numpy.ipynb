{
 "cells": [
  {
   "cell_type": "markdown",
   "id": "46b94ce4",
   "metadata": {},
   "source": [
    "### SESSION 14 - Advanced Numpy"
   ]
  },
  {
   "cell_type": "markdown",
   "id": "004b16dc",
   "metadata": {},
   "source": [
    "### Numpy array vs Python lists :\n",
    "- **Comparing factors :**\n",
    "    - **Speed**\n",
    "    - **Memory**\n",
    "    - **Convenience**\n",
    " "
   ]
  },
  {
   "cell_type": "markdown",
   "id": "9afb1da3",
   "metadata": {},
   "source": [
    "**Speed :**"
   ]
  },
  {
   "cell_type": "code",
   "execution_count": 1,
   "id": "93f89a0b",
   "metadata": {},
   "outputs": [
    {
     "name": "stdout",
     "output_type": "stream",
     "text": [
      "4.512556076049805\n"
     ]
    }
   ],
   "source": [
    "# python list\n",
    "a = [i for i in range(10000000)]\n",
    "b = [i for i in range(10000000,20000000)]\n",
    "\n",
    "import time\n",
    "c = []\n",
    "start = time.time()\n",
    "for i in range(len(a)):\n",
    "    c.append(a[i]+b[i])\n",
    "print(time.time()-start)\n"
   ]
  },
  {
   "cell_type": "code",
   "execution_count": 3,
   "id": "c40a2935",
   "metadata": {},
   "outputs": [
    {
     "name": "stdout",
     "output_type": "stream",
     "text": [
      "0.3487734794616699\n"
     ]
    }
   ],
   "source": [
    "# python numpy\n",
    "import numpy as np\n",
    "a = np.arange(10000000)\n",
    "b = np.arange(10000000,20000000)\n",
    "\n",
    "start = time.time()\n",
    "c = a + b\n",
    "print(time.time()-start)"
   ]
  },
  {
   "cell_type": "code",
   "execution_count": 8,
   "id": "f970f345",
   "metadata": {},
   "outputs": [
    {
     "data": {
      "text/plain": [
       "12.938357821858794"
      ]
     },
     "execution_count": 8,
     "metadata": {},
     "output_type": "execute_result"
    }
   ],
   "source": [
    "4.512556076049805/0.3487734794616699"
   ]
  },
  {
   "cell_type": "markdown",
   "id": "3741afa8",
   "metadata": {},
   "source": [
    "**Memory :**"
   ]
  },
  {
   "cell_type": "code",
   "execution_count": 9,
   "id": "6a526db8",
   "metadata": {},
   "outputs": [
    {
     "data": {
      "text/plain": [
       "89095160"
      ]
     },
     "execution_count": 9,
     "metadata": {},
     "output_type": "execute_result"
    }
   ],
   "source": [
    "# python list\n",
    "import sys\n",
    "a = [i for i in range(10000000)]\n",
    "sys.getsizeof(a)"
   ]
  },
  {
   "cell_type": "code",
   "execution_count": 17,
   "id": "611e96dd",
   "metadata": {},
   "outputs": [
    {
     "data": {
      "text/plain": [
       "40000112"
      ]
     },
     "execution_count": 17,
     "metadata": {},
     "output_type": "execute_result"
    }
   ],
   "source": [
    "# python numpy\n",
    "import sys\n",
    "a = np.arange(10000000,dtype=np.int32) # default float\n",
    "sys.getsizeof(a)"
   ]
  },
  {
   "cell_type": "markdown",
   "id": "7f7ac468",
   "metadata": {},
   "source": [
    "**Convenience :**\n",
    "- writing the code easy in numpy"
   ]
  },
  {
   "cell_type": "markdown",
   "id": "0a362dfc",
   "metadata": {},
   "source": [
    "### Advanced Indexing :"
   ]
  },
  {
   "cell_type": "code",
   "execution_count": 20,
   "id": "c1964752",
   "metadata": {},
   "outputs": [
    {
     "name": "stdout",
     "output_type": "stream",
     "text": [
      "[[ 0  1  2]\n",
      " [ 3  4  5]\n",
      " [ 6  7  8]\n",
      " [ 9 10 11]]\n"
     ]
    }
   ],
   "source": [
    "# Normal Indexing and slicing\n",
    "a = np.arange(12).reshape(4,3)\n",
    "print(a)"
   ]
  },
  {
   "cell_type": "code",
   "execution_count": 30,
   "id": "2761f45d",
   "metadata": {},
   "outputs": [
    {
     "name": "stdout",
     "output_type": "stream",
     "text": [
      "[[4 5]\n",
      " [7 8]]\n"
     ]
    }
   ],
   "source": [
    "print(a[1:3,1:3])"
   ]
  },
  {
   "cell_type": "markdown",
   "id": "7546567f",
   "metadata": {},
   "source": [
    "#### Fancy Indexing :\n",
    "- Fancy indexing in NumPy is a way of indexing arrays **using an array or a list of indices rather than using a slice or a single integer index**. \n",
    "- This allows for more **advanced indexing and selection of elements from an array.**\n",
    "- To perform fancy indexing in NumPy, you can **use an array or a list of indices to select specific elements or subarrays from an array.**\n",
    "- **Use in pandas.**"
   ]
  },
  {
   "cell_type": "code",
   "execution_count": 38,
   "id": "c4f675e9",
   "metadata": {},
   "outputs": [
    {
     "name": "stdout",
     "output_type": "stream",
     "text": [
      "[[ 0  1  2  3]\n",
      " [ 4  5  6  7]\n",
      " [ 8  9 10 11]\n",
      " [12 13 14 15]\n",
      " [16 17 18 19]\n",
      " [20 21 22 23]]\n"
     ]
    }
   ],
   "source": [
    "arr1 = np.arange(24).reshape(6,4)\n",
    "print(arr1)"
   ]
  },
  {
   "cell_type": "code",
   "execution_count": 57,
   "id": "69616c35",
   "metadata": {},
   "outputs": [
    {
     "name": "stdout",
     "output_type": "stream",
     "text": [
      "[[ 0  1  2  3]\n",
      " [12 13 14 15]\n",
      " [20 21 22 23]]\n"
     ]
    }
   ],
   "source": [
    "# row-w ise\n",
    "print(arr1[[0,3,5]])"
   ]
  },
  {
   "cell_type": "code",
   "execution_count": 58,
   "id": "449787d2",
   "metadata": {},
   "outputs": [
    {
     "name": "stdout",
     "output_type": "stream",
     "text": [
      "[[ 0  2  3]\n",
      " [ 4  6  7]\n",
      " [ 8 10 11]\n",
      " [12 14 15]\n",
      " [16 18 19]\n",
      " [20 22 23]]\n"
     ]
    }
   ],
   "source": [
    "# column-wise\n",
    "print(arr1[:,[0,2,3]])"
   ]
  },
  {
   "cell_type": "markdown",
   "id": "a628faed",
   "metadata": {},
   "source": [
    "#### Boolean Indexing:\n",
    "- Boolean indexing in NumPy is a **way of selecting elements from an array based on a Boolean condition.**\n",
    "- The condition is specified as a Boolean array of the same shape as the array being indexed, where each element of the Boolean array indicates whether the corresponding element in the indexed array should be included in the result.\n",
    "- **Use in pandas, data analysis etc.**"
   ]
  },
  {
   "cell_type": "markdown",
   "id": "1efad2d7",
   "metadata": {},
   "source": [
    "**np.random.randint():**\n",
    "- It is a function provided by the NumPy library in Python. It is used to generate a random integer within a specified range.\n",
    "- **syntax : np.random.randint(low, high=None, size=None, dtype=int)**\n",
    "    - **low:** Lowest integer to be drawn from the distribution. It is inclusive.\n",
    "    - **high:** If high is not None, one integer is drawn from the range [low, high). If high is None, one integer is drawn from the range [0, low).\n",
    "    - **size:** Output shape of the array.\n",
    "    - **dtype:** Data type of the output array."
   ]
  },
  {
   "cell_type": "code",
   "execution_count": 63,
   "id": "64b038d1",
   "metadata": {},
   "outputs": [
    {
     "name": "stdout",
     "output_type": "stream",
     "text": [
      "[[48 60  8 17]\n",
      " [31 36 53  7]\n",
      " [39 12 43 32]\n",
      " [32 13 54 13]\n",
      " [55 65 55  9]\n",
      " [10 43 27 27]]\n"
     ]
    }
   ],
   "source": [
    "arr2 = np.random.randint(1,70,24).reshape(6,4)\n",
    "print(arr2)"
   ]
  },
  {
   "cell_type": "code",
   "execution_count": 75,
   "id": "b4c2537b",
   "metadata": {},
   "outputs": [
    {
     "name": "stdout",
     "output_type": "stream",
     "text": [
      "[60 53 54 55 65 55]\n"
     ]
    }
   ],
   "source": [
    "# find all numbers greater than 50\n",
    "print(arr2[arr2>50])"
   ]
  },
  {
   "cell_type": "code",
   "execution_count": 69,
   "id": "7bbeeb2d",
   "metadata": {},
   "outputs": [
    {
     "name": "stdout",
     "output_type": "stream",
     "text": [
      "[48 60  8 36 12 32 32 54 10]\n"
     ]
    }
   ],
   "source": [
    "# find out even numbers\n",
    "print(arr2[arr2%2 == 0])"
   ]
  },
  {
   "cell_type": "code",
   "execution_count": 78,
   "id": "7ccf0454",
   "metadata": {},
   "outputs": [
    {
     "name": "stdout",
     "output_type": "stream",
     "text": [
      "[60 54]\n"
     ]
    }
   ],
   "source": [
    "# find all numbers greater than 50 and are even\n",
    "# Here we use bitwise '&' not logical 'and' because of boolean\n",
    "print(arr2[(arr2%2 == 0) & (arr2>50)])"
   ]
  },
  {
   "cell_type": "code",
   "execution_count": 81,
   "id": "d4f5fc56",
   "metadata": {},
   "outputs": [
    {
     "name": "stdout",
     "output_type": "stream",
     "text": [
      "[48 60  8 17 31 36 53 39 12 43 32 32 13 54 13 55 65 55  9 10 43 27 27]\n"
     ]
    }
   ],
   "source": [
    "# find all numbers not divisible by 7\n",
    "print(arr2[(arr2%7 != 0)])"
   ]
  },
  {
   "cell_type": "code",
   "execution_count": null,
   "id": "195932be",
   "metadata": {},
   "outputs": [],
   "source": []
  },
  {
   "cell_type": "code",
   "execution_count": null,
   "id": "da27fc8a",
   "metadata": {},
   "outputs": [],
   "source": []
  },
  {
   "cell_type": "code",
   "execution_count": null,
   "id": "d0294077",
   "metadata": {},
   "outputs": [],
   "source": []
  },
  {
   "cell_type": "code",
   "execution_count": null,
   "id": "7d04a6bb",
   "metadata": {},
   "outputs": [],
   "source": []
  },
  {
   "cell_type": "code",
   "execution_count": null,
   "id": "13ac1be9",
   "metadata": {},
   "outputs": [],
   "source": []
  },
  {
   "cell_type": "code",
   "execution_count": null,
   "id": "00466542",
   "metadata": {},
   "outputs": [],
   "source": []
  },
  {
   "cell_type": "code",
   "execution_count": null,
   "id": "a383ac02",
   "metadata": {},
   "outputs": [],
   "source": []
  },
  {
   "cell_type": "code",
   "execution_count": null,
   "id": "25d3acb1",
   "metadata": {},
   "outputs": [],
   "source": []
  },
  {
   "cell_type": "code",
   "execution_count": null,
   "id": "b105d4b2",
   "metadata": {},
   "outputs": [],
   "source": []
  },
  {
   "cell_type": "code",
   "execution_count": null,
   "id": "640da168",
   "metadata": {},
   "outputs": [],
   "source": []
  },
  {
   "cell_type": "code",
   "execution_count": null,
   "id": "b8de2d3f",
   "metadata": {},
   "outputs": [],
   "source": []
  },
  {
   "cell_type": "code",
   "execution_count": null,
   "id": "baedcce2",
   "metadata": {},
   "outputs": [],
   "source": []
  },
  {
   "cell_type": "code",
   "execution_count": null,
   "id": "b331dd74",
   "metadata": {},
   "outputs": [],
   "source": []
  },
  {
   "cell_type": "code",
   "execution_count": null,
   "id": "f23f4962",
   "metadata": {},
   "outputs": [],
   "source": []
  },
  {
   "cell_type": "code",
   "execution_count": null,
   "id": "dfa873dd",
   "metadata": {},
   "outputs": [],
   "source": []
  },
  {
   "cell_type": "code",
   "execution_count": null,
   "id": "e9fe4ffe",
   "metadata": {},
   "outputs": [],
   "source": []
  },
  {
   "cell_type": "code",
   "execution_count": null,
   "id": "c318b64f",
   "metadata": {},
   "outputs": [],
   "source": []
  },
  {
   "cell_type": "code",
   "execution_count": null,
   "id": "0a77bc81",
   "metadata": {},
   "outputs": [],
   "source": []
  },
  {
   "cell_type": "code",
   "execution_count": null,
   "id": "6ab68849",
   "metadata": {},
   "outputs": [],
   "source": []
  },
  {
   "cell_type": "code",
   "execution_count": null,
   "id": "8045e191",
   "metadata": {},
   "outputs": [],
   "source": []
  },
  {
   "cell_type": "code",
   "execution_count": null,
   "id": "d8802e61",
   "metadata": {},
   "outputs": [],
   "source": []
  },
  {
   "cell_type": "code",
   "execution_count": null,
   "id": "1406195a",
   "metadata": {},
   "outputs": [],
   "source": []
  },
  {
   "cell_type": "code",
   "execution_count": null,
   "id": "d7a52201",
   "metadata": {},
   "outputs": [],
   "source": []
  },
  {
   "cell_type": "code",
   "execution_count": null,
   "id": "95fd2cd4",
   "metadata": {},
   "outputs": [],
   "source": []
  },
  {
   "cell_type": "code",
   "execution_count": null,
   "id": "bb86c61c",
   "metadata": {},
   "outputs": [],
   "source": []
  },
  {
   "cell_type": "code",
   "execution_count": null,
   "id": "14627c8e",
   "metadata": {},
   "outputs": [],
   "source": []
  },
  {
   "cell_type": "code",
   "execution_count": null,
   "id": "d535294a",
   "metadata": {},
   "outputs": [],
   "source": []
  },
  {
   "cell_type": "code",
   "execution_count": null,
   "id": "28f8f3f6",
   "metadata": {},
   "outputs": [],
   "source": []
  },
  {
   "cell_type": "code",
   "execution_count": null,
   "id": "ad354d59",
   "metadata": {},
   "outputs": [],
   "source": []
  },
  {
   "cell_type": "code",
   "execution_count": null,
   "id": "f5efed9e",
   "metadata": {},
   "outputs": [],
   "source": []
  },
  {
   "cell_type": "code",
   "execution_count": null,
   "id": "2009b735",
   "metadata": {},
   "outputs": [],
   "source": []
  },
  {
   "cell_type": "code",
   "execution_count": null,
   "id": "2a6f9ebf",
   "metadata": {},
   "outputs": [],
   "source": []
  },
  {
   "cell_type": "code",
   "execution_count": null,
   "id": "813412b4",
   "metadata": {},
   "outputs": [],
   "source": []
  },
  {
   "cell_type": "code",
   "execution_count": null,
   "id": "3e5ae6cd",
   "metadata": {},
   "outputs": [],
   "source": []
  }
 ],
 "metadata": {
  "kernelspec": {
   "display_name": "Python 3 (ipykernel)",
   "language": "python",
   "name": "python3"
  },
  "language_info": {
   "codemirror_mode": {
    "name": "ipython",
    "version": 3
   },
   "file_extension": ".py",
   "mimetype": "text/x-python",
   "name": "python",
   "nbconvert_exporter": "python",
   "pygments_lexer": "ipython3",
   "version": "3.10.7"
  }
 },
 "nbformat": 4,
 "nbformat_minor": 5
}
