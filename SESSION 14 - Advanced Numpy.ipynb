{
 "cells": [
  {
   "cell_type": "markdown",
   "id": "6723b153",
   "metadata": {},
   "source": [
    "### SESSION 14 - Advanced Numpy"
   ]
  },
  {
   "cell_type": "markdown",
   "id": "9ff1e946",
   "metadata": {},
   "source": [
    "### Numpy array vs Python lists :\n",
    "- **Comparing factors :**\n",
    "    - **Speed**\n",
    "    - **Memory**\n",
    "    - **Convenience**\n",
    " "
   ]
  },
  {
   "cell_type": "markdown",
   "id": "3f15016f",
   "metadata": {},
   "source": [
    "**Speed :**"
   ]
  },
  {
   "cell_type": "code",
   "execution_count": 1,
   "id": "6db54cc8",
   "metadata": {},
   "outputs": [
    {
     "name": "stdout",
     "output_type": "stream",
     "text": [
      "4.512556076049805\n"
     ]
    }
   ],
   "source": [
    "# python list\n",
    "a = [i for i in range(10000000)]\n",
    "b = [i for i in range(10000000,20000000)]\n",
    "\n",
    "import time\n",
    "c = []\n",
    "start = time.time()\n",
    "for i in range(len(a)):\n",
    "    c.append(a[i]+b[i])\n",
    "print(time.time()-start)\n"
   ]
  },
  {
   "cell_type": "code",
   "execution_count": 3,
   "id": "4cc6efdd",
   "metadata": {},
   "outputs": [
    {
     "name": "stdout",
     "output_type": "stream",
     "text": [
      "0.3487734794616699\n"
     ]
    }
   ],
   "source": [
    "# python numpy\n",
    "import numpy as np\n",
    "a = np.arange(10000000)\n",
    "b = np.arange(10000000,20000000)\n",
    "\n",
    "start = time.time()\n",
    "c = a + b\n",
    "print(time.time()-start)"
   ]
  },
  {
   "cell_type": "code",
   "execution_count": 8,
   "id": "1a5fbdf4",
   "metadata": {},
   "outputs": [
    {
     "data": {
      "text/plain": [
       "12.938357821858794"
      ]
     },
     "execution_count": 8,
     "metadata": {},
     "output_type": "execute_result"
    }
   ],
   "source": [
    "4.512556076049805/0.3487734794616699"
   ]
  },
  {
   "cell_type": "markdown",
   "id": "7c91c92f",
   "metadata": {},
   "source": [
    "**Memory :**"
   ]
  },
  {
   "cell_type": "code",
   "execution_count": 9,
   "id": "c3479e22",
   "metadata": {},
   "outputs": [
    {
     "data": {
      "text/plain": [
       "89095160"
      ]
     },
     "execution_count": 9,
     "metadata": {},
     "output_type": "execute_result"
    }
   ],
   "source": [
    "# python list\n",
    "import sys\n",
    "a = [i for i in range(10000000)]\n",
    "sys.getsizeof(a)"
   ]
  },
  {
   "cell_type": "code",
   "execution_count": 17,
   "id": "8fc15fed",
   "metadata": {},
   "outputs": [
    {
     "data": {
      "text/plain": [
       "40000112"
      ]
     },
     "execution_count": 17,
     "metadata": {},
     "output_type": "execute_result"
    }
   ],
   "source": [
    "# python numpy\n",
    "import sys\n",
    "a = np.arange(10000000,dtype=np.int32) # default float\n",
    "sys.getsizeof(a)"
   ]
  },
  {
   "cell_type": "markdown",
   "id": "a3440aed",
   "metadata": {},
   "source": [
    "**Convenience :**\n",
    "- writing the code easy in numpy"
   ]
  },
  {
   "cell_type": "markdown",
   "id": "4810dd0a",
   "metadata": {},
   "source": [
    "### Advanced Indexing :"
   ]
  },
  {
   "cell_type": "code",
   "execution_count": 20,
   "id": "05f85239",
   "metadata": {},
   "outputs": [
    {
     "name": "stdout",
     "output_type": "stream",
     "text": [
      "[[ 0  1  2]\n",
      " [ 3  4  5]\n",
      " [ 6  7  8]\n",
      " [ 9 10 11]]\n"
     ]
    }
   ],
   "source": [
    "# Normal Indexing and slicing\n",
    "a = np.arange(12).reshape(4,3)\n",
    "print(a)"
   ]
  },
  {
   "cell_type": "code",
   "execution_count": 30,
   "id": "8da2c9ed",
   "metadata": {},
   "outputs": [
    {
     "name": "stdout",
     "output_type": "stream",
     "text": [
      "[[4 5]\n",
      " [7 8]]\n"
     ]
    }
   ],
   "source": [
    "print(a[1:3,1:3])"
   ]
  },
  {
   "cell_type": "markdown",
   "id": "3c56eb4c",
   "metadata": {},
   "source": [
    "#### Fancy Indexing :\n",
    "- Fancy indexing in NumPy is a way of indexing arrays **using an array or a list of indices rather than using a slice or a single integer index**. \n",
    "- This allows for more **advanced indexing and selection of elements from an array.**\n",
    "- To perform fancy indexing in NumPy, you can **use an array or a list of indices to select specific elements or subarrays from an array.**\n",
    "- **Use in pandas.**"
   ]
  },
  {
   "cell_type": "code",
   "execution_count": 38,
   "id": "0888b132",
   "metadata": {},
   "outputs": [
    {
     "name": "stdout",
     "output_type": "stream",
     "text": [
      "[[ 0  1  2  3]\n",
      " [ 4  5  6  7]\n",
      " [ 8  9 10 11]\n",
      " [12 13 14 15]\n",
      " [16 17 18 19]\n",
      " [20 21 22 23]]\n"
     ]
    }
   ],
   "source": [
    "arr1 = np.arange(24).reshape(6,4)\n",
    "print(arr1)"
   ]
  },
  {
   "cell_type": "code",
   "execution_count": 57,
   "id": "223307cc",
   "metadata": {},
   "outputs": [
    {
     "name": "stdout",
     "output_type": "stream",
     "text": [
      "[[ 0  1  2  3]\n",
      " [12 13 14 15]\n",
      " [20 21 22 23]]\n"
     ]
    }
   ],
   "source": [
    "# row-w ise\n",
    "print(arr1[[0,3,5]])"
   ]
  },
  {
   "cell_type": "code",
   "execution_count": 58,
   "id": "5c3168c1",
   "metadata": {},
   "outputs": [
    {
     "name": "stdout",
     "output_type": "stream",
     "text": [
      "[[ 0  2  3]\n",
      " [ 4  6  7]\n",
      " [ 8 10 11]\n",
      " [12 14 15]\n",
      " [16 18 19]\n",
      " [20 22 23]]\n"
     ]
    }
   ],
   "source": [
    "# column-wise\n",
    "print(arr1[:,[0,2,3]])"
   ]
  },
  {
   "cell_type": "markdown",
   "id": "0de7174c",
   "metadata": {},
   "source": [
    "#### Boolean Indexing:\n",
    "- Boolean indexing in NumPy is a **way of selecting elements from an array based on a Boolean condition.**\n",
    "- The condition is specified as a Boolean array of the same shape as the array being indexed, where each element of the Boolean array indicates whether the corresponding element in the indexed array should be included in the result.\n",
    "- **Use in pandas, data analysis etc.**"
   ]
  },
  {
   "cell_type": "markdown",
   "id": "5d73b117",
   "metadata": {},
   "source": [
    "**np.random.randint():**\n",
    "- It is a function provided by the NumPy library in Python. It is used to generate a random integer within a specified range.\n",
    "- **syntax : np.random.randint(low, high=None, size=None, dtype=int)**\n",
    "    - **low:** Lowest integer to be drawn from the distribution. It is inclusive.\n",
    "    - **high:** If high is not None, one integer is drawn from the range [low, high). If high is None, one integer is drawn from the range [0, low).\n",
    "    - **size:** Output shape of the array.\n",
    "    - **dtype:** Data type of the output array."
   ]
  },
  {
   "cell_type": "code",
   "execution_count": 63,
   "id": "aef61221",
   "metadata": {},
   "outputs": [
    {
     "name": "stdout",
     "output_type": "stream",
     "text": [
      "[[48 60  8 17]\n",
      " [31 36 53  7]\n",
      " [39 12 43 32]\n",
      " [32 13 54 13]\n",
      " [55 65 55  9]\n",
      " [10 43 27 27]]\n"
     ]
    }
   ],
   "source": [
    "arr2 = np.random.randint(1,70,24).reshape(6,4)\n",
    "print(arr2)"
   ]
  },
  {
   "cell_type": "code",
   "execution_count": 75,
   "id": "7fca288c",
   "metadata": {},
   "outputs": [
    {
     "name": "stdout",
     "output_type": "stream",
     "text": [
      "[60 53 54 55 65 55]\n"
     ]
    }
   ],
   "source": [
    "# find all numbers greater than 50\n",
    "print(arr2[arr2>50])"
   ]
  },
  {
   "cell_type": "code",
   "execution_count": 69,
   "id": "484bd1bc",
   "metadata": {},
   "outputs": [
    {
     "name": "stdout",
     "output_type": "stream",
     "text": [
      "[48 60  8 36 12 32 32 54 10]\n"
     ]
    }
   ],
   "source": [
    "# find out even numbers\n",
    "print(arr2[arr2%2 == 0])"
   ]
  },
  {
   "cell_type": "code",
   "execution_count": 78,
   "id": "401587f6",
   "metadata": {},
   "outputs": [
    {
     "name": "stdout",
     "output_type": "stream",
     "text": [
      "[60 54]\n"
     ]
    }
   ],
   "source": [
    "# find all numbers greater than 50 and are even\n",
    "# Here we use bitwise '&' not logical 'and' because of boolean\n",
    "print(arr2[(arr2%2 == 0) & (arr2>50)])"
   ]
  },
  {
   "cell_type": "code",
   "execution_count": 82,
   "id": "97500653",
   "metadata": {},
   "outputs": [
    {
     "name": "stdout",
     "output_type": "stream",
     "text": [
      "[48 60  8 17 31 36 53 39 12 43 32 32 13 54 13 55 65 55  9 10 43 27 27]\n"
     ]
    }
   ],
   "source": [
    "# find all numbers not divisible by 7\n",
    "print(arr2[(arr2%7 != 0)])"
   ]
  },
  {
   "cell_type": "markdown",
   "id": "74a6ebd4",
   "metadata": {},
   "source": [
    "### Broadcasting :\n",
    "- The term broadcasting describes how NumPy treats arrays with different shapes during arithematic operations.\n",
    "- The smaller array is \"broadcast\" across the larger array so that they have compatible shapes.\n",
    "- Use in vetorization"
   ]
  },
  {
   "cell_type": "code",
   "execution_count": 9,
   "id": "afa31506",
   "metadata": {},
   "outputs": [
    {
     "name": "stdout",
     "output_type": "stream",
     "text": [
      "a :\n",
      "[[0 1 2]\n",
      " [3 4 5]]\n",
      "b :\n",
      "[[ 6  7  8]\n",
      " [ 9 10 11]]\n",
      "Addtion with same shape:\n",
      "[[ 6  8 10]\n",
      " [12 14 16]]\n"
     ]
    }
   ],
   "source": [
    "# same shape \n",
    "import numpy as np\n",
    "a = np.arange(6).reshape(2,3)\n",
    "b = np.arange(6,12).reshape(2,3)\n",
    "\n",
    "print('a :')\n",
    "print(a)\n",
    "print('b :')\n",
    "print(b)\n",
    "\n",
    "print('Addtion with same shape:')\n",
    "print(a+b)"
   ]
  },
  {
   "cell_type": "code",
   "execution_count": 11,
   "id": "63da8701",
   "metadata": {},
   "outputs": [
    {
     "name": "stdout",
     "output_type": "stream",
     "text": [
      "a :\n",
      "[[0 1 2]\n",
      " [3 4 5]]\n",
      "b :\n",
      "[[0 1 2]]\n",
      "Addtion with different shape:\n",
      "[[0 2 4]\n",
      " [3 5 7]]\n"
     ]
    }
   ],
   "source": [
    "# different shape \n",
    "import numpy as np\n",
    "a = np.arange(6).reshape(2,3)\n",
    "b = np.arange(3).reshape(1,3)\n",
    "print('a :')\n",
    "print(a)\n",
    "print('b :')\n",
    "print(b)\n",
    "\n",
    "print('Addtion with different shape:')\n",
    "print(a+b)"
   ]
  },
  {
   "cell_type": "markdown",
   "id": "2eb8d0b0",
   "metadata": {},
   "source": [
    "### Broadcasting Rules :\n",
    "**1.Make the two arrays have the same number of dimensions.**\n",
    "- If the numbers of dimensions of the two arrays are different, add new dimensions with size 1 to the head of the array with the smaller dimension.\n",
    "- **Ex.1,**(3,2) & (3) -> (3,2) & (1,3)\n",
    "- **Ex.2,**(3,3,3) & (3) -> (3,3,3) & (1,1,3)\n"
   ]
  },
  {
   "cell_type": "markdown",
   "id": "eb8dab10",
   "metadata": {},
   "source": [
    "**2.Make each dimension of the two arrays the same size.**\n",
    "- If the sizes of each dimension of the two arrays do not match, dimensions with size 1 are stretched to the size of the other array.\n",
    "- If there is a dimension whose size is not 1 in either of the two arrays, it cannot be broadcasted, and an error is raised.\n",
    "<img src = \"https://jakevdp.github.io/PythonDataScienceHandbook/figures/02.05-broadcasting.png\">"
   ]
  },
  {
   "cell_type": "code",
   "execution_count": 13,
   "id": "1400f0b9",
   "metadata": {},
   "outputs": [
    {
     "name": "stdout",
     "output_type": "stream",
     "text": [
      "[[ 0  1  2]\n",
      " [ 3  4  5]\n",
      " [ 6  7  8]\n",
      " [ 9 10 11]]\n",
      "[0 1 2]\n",
      "[[ 0  2  4]\n",
      " [ 3  5  7]\n",
      " [ 6  8 10]\n",
      " [ 9 11 13]]\n"
     ]
    }
   ],
   "source": [
    "# More Example\n",
    "n1 = np.arange(12).reshape(4,3)\n",
    "n2 = np.arange(3)\n",
    "\n",
    "print(n1)\n",
    "print(n2)\n",
    "\n",
    "print(n1+n2)"
   ]
  },
  {
   "cell_type": "code",
   "execution_count": 14,
   "id": "bcfef397",
   "metadata": {},
   "outputs": [
    {
     "name": "stdout",
     "output_type": "stream",
     "text": [
      "[[ 0  1  2  3]\n",
      " [ 4  5  6  7]\n",
      " [ 8  9 10 11]]\n",
      "[0 1 2]\n"
     ]
    },
    {
     "ename": "ValueError",
     "evalue": "operands could not be broadcast together with shapes (3,4) (3,) ",
     "output_type": "error",
     "traceback": [
      "\u001b[1;31m--------------------------------------------------------------------\u001b[0m",
      "\u001b[1;31mValueError\u001b[0m                         Traceback (most recent call last)",
      "Cell \u001b[1;32mIn [14], line 7\u001b[0m\n\u001b[0;32m      4\u001b[0m \u001b[38;5;28mprint\u001b[39m(n1)\n\u001b[0;32m      5\u001b[0m \u001b[38;5;28mprint\u001b[39m(n2)\n\u001b[1;32m----> 7\u001b[0m \u001b[38;5;28mprint\u001b[39m(n1\u001b[38;5;241m+\u001b[39mn2)\n",
      "\u001b[1;31mValueError\u001b[0m: operands could not be broadcast together with shapes (3,4) (3,) "
     ]
    }
   ],
   "source": [
    "n1 = np.arange(12).reshape(3,4)\n",
    "n2 = np.arange(3)\n",
    "\n",
    "print(n1)\n",
    "print(n2)\n",
    "\n",
    "print(n1+n2)"
   ]
  },
  {
   "cell_type": "code",
   "execution_count": 15,
   "id": "9273e5f7",
   "metadata": {},
   "outputs": [
    {
     "name": "stdout",
     "output_type": "stream",
     "text": [
      "[[0 1 2]]\n",
      "[[0]\n",
      " [1]\n",
      " [2]]\n",
      "[[0 1 2]\n",
      " [1 2 3]\n",
      " [2 3 4]]\n"
     ]
    }
   ],
   "source": [
    "n1 = np.arange(3).reshape(1,3)\n",
    "n2 = np.arange(3).reshape(3,1)\n",
    "print(n1)\n",
    "print(n2)\n",
    "print(n1+n2)"
   ]
  },
  {
   "cell_type": "code",
   "execution_count": 16,
   "id": "747a2c1b",
   "metadata": {},
   "outputs": [
    {
     "name": "stdout",
     "output_type": "stream",
     "text": [
      "[[0 1 2]]\n",
      "[[0]\n",
      " [1]\n",
      " [2]\n",
      " [3]]\n",
      "[[0 1 2]\n",
      " [1 2 3]\n",
      " [2 3 4]\n",
      " [3 4 5]]\n"
     ]
    }
   ],
   "source": [
    "n1 = np.arange(3).reshape(1,3)\n",
    "n2 = np.arange(4).reshape(4,1)\n",
    "print(n1)\n",
    "print(n2)\n",
    "print(n1+n2)"
   ]
  },
  {
   "cell_type": "code",
   "execution_count": 19,
   "id": "65aab720",
   "metadata": {},
   "outputs": [
    {
     "name": "stdout",
     "output_type": "stream",
     "text": [
      "[1]\n",
      "[[0 1]\n",
      " [2 3]]\n",
      "[[1 2]\n",
      " [3 4]]\n"
     ]
    }
   ],
   "source": [
    "n1 = np.array([1])\n",
    "n2 = np.arange(4).reshape(2,2)\n",
    "print(n1)\n",
    "print(n2)\n",
    "print(n1+n2)"
   ]
  },
  {
   "cell_type": "code",
   "execution_count": 21,
   "id": "89b8dfdf",
   "metadata": {},
   "outputs": [
    {
     "name": "stdout",
     "output_type": "stream",
     "text": [
      "[[ 0  1  2  3]\n",
      " [ 4  5  6  7]\n",
      " [ 8  9 10 11]]\n",
      "[[ 0  1  2]\n",
      " [ 3  4  5]\n",
      " [ 6  7  8]\n",
      " [ 9 10 11]]\n"
     ]
    },
    {
     "ename": "ValueError",
     "evalue": "operands could not be broadcast together with shapes (3,4) (4,3) ",
     "output_type": "error",
     "traceback": [
      "\u001b[1;31m--------------------------------------------------------------------\u001b[0m",
      "\u001b[1;31mValueError\u001b[0m                         Traceback (most recent call last)",
      "Cell \u001b[1;32mIn [21], line 5\u001b[0m\n\u001b[0;32m      3\u001b[0m \u001b[38;5;28mprint\u001b[39m(n1)\n\u001b[0;32m      4\u001b[0m \u001b[38;5;28mprint\u001b[39m(n2)\n\u001b[1;32m----> 5\u001b[0m \u001b[38;5;28mprint\u001b[39m(n1\u001b[38;5;241m+\u001b[39mn2)\n",
      "\u001b[1;31mValueError\u001b[0m: operands could not be broadcast together with shapes (3,4) (4,3) "
     ]
    }
   ],
   "source": [
    "n1 = np.arange(12).reshape(3,4)\n",
    "n2 = np.arange(12).reshape(4,3)\n",
    "print(n1)\n",
    "print(n2)\n",
    "print(n1+n2)"
   ]
  },
  {
   "cell_type": "code",
   "execution_count": 22,
   "id": "fafb0bbc",
   "metadata": {},
   "outputs": [
    {
     "name": "stdout",
     "output_type": "stream",
     "text": [
      "[[ 0  1  2  3]\n",
      " [ 4  5  6  7]\n",
      " [ 8  9 10 11]\n",
      " [12 13 14 15]]\n",
      "[[0 1]\n",
      " [2 3]]\n"
     ]
    },
    {
     "ename": "ValueError",
     "evalue": "operands could not be broadcast together with shapes (4,4) (2,2) ",
     "output_type": "error",
     "traceback": [
      "\u001b[1;31m--------------------------------------------------------------------\u001b[0m",
      "\u001b[1;31mValueError\u001b[0m                         Traceback (most recent call last)",
      "Cell \u001b[1;32mIn [22], line 5\u001b[0m\n\u001b[0;32m      3\u001b[0m \u001b[38;5;28mprint\u001b[39m(n1)\n\u001b[0;32m      4\u001b[0m \u001b[38;5;28mprint\u001b[39m(n2)\n\u001b[1;32m----> 5\u001b[0m \u001b[38;5;28mprint\u001b[39m(n1\u001b[38;5;241m+\u001b[39mn2)\n",
      "\u001b[1;31mValueError\u001b[0m: operands could not be broadcast together with shapes (4,4) (2,2) "
     ]
    }
   ],
   "source": [
    "n1 = np.arange(16).reshape(4,4)\n",
    "n2 = np.arange(4).reshape(2,2)\n",
    "print(n1)\n",
    "print(n2)\n",
    "print(n1+n2)"
   ]
  },
  {
   "cell_type": "markdown",
   "id": "e2e37f57",
   "metadata": {},
   "source": [
    "### Working with Mathematical formulas\n",
    "**For calculating the uncommon function, Here we disscuss mathematical formulas that use in Data Science Machine Learning**\n",
    "- sigmoid\n",
    "- mean squared error\n",
    "- categorical cross entropy"
   ]
  },
  {
   "cell_type": "markdown",
   "id": "05f00e91",
   "metadata": {},
   "source": [
    "**Sigmoid:**\n",
    "- calculating each item sigmoid\n",
    "- Use in Deep learning and Machine learning algorithms\n",
    "- Sigmoid range between 0 to 1\n",
    "- formula : 1 / (1+e^-x)"
   ]
  },
  {
   "cell_type": "code",
   "execution_count": 8,
   "id": "05164f18",
   "metadata": {},
   "outputs": [
    {
     "name": "stdout",
     "output_type": "stream",
     "text": [
      "[0.5        0.73105858 0.88079708 0.95257413 0.98201379 0.99330715\n",
      " 0.99752738 0.99908895 0.99966465 0.99987661 0.9999546  0.9999833\n",
      " 0.99999386 0.99999774 0.99999917 0.99999969 0.99999989 0.99999996\n",
      " 0.99999998 0.99999999 1.         1.         1.         1.\n",
      " 1.         1.         1.         1.         1.         1.\n",
      " 1.         1.         1.         1.         1.         1.\n",
      " 1.         1.         1.         1.         1.         1.\n",
      " 1.         1.         1.         1.         1.         1.\n",
      " 1.         1.         1.         1.         1.         1.\n",
      " 1.         1.         1.         1.         1.         1.\n",
      " 1.         1.         1.         1.         1.         1.\n",
      " 1.         1.         1.         1.         1.         1.\n",
      " 1.         1.         1.         1.         1.         1.\n",
      " 1.         1.         1.         1.         1.         1.\n",
      " 1.         1.         1.         1.         1.         1.\n",
      " 1.         1.         1.         1.         1.         1.\n",
      " 1.         1.         1.         1.        ]\n"
     ]
    }
   ],
   "source": [
    "import numpy as np\n",
    "def Sigmoid(array):\n",
    "    return 1/(1+np.exp(-(array)))\n",
    "a = np.arange(100)\n",
    "s = Sigmoid(a)\n",
    "print(s)"
   ]
  },
  {
   "cell_type": "code",
   "execution_count": null,
   "id": "595760a4",
   "metadata": {},
   "outputs": [],
   "source": []
  },
  {
   "cell_type": "code",
   "execution_count": null,
   "id": "fc76e883",
   "metadata": {},
   "outputs": [],
   "source": []
  },
  {
   "cell_type": "code",
   "execution_count": null,
   "id": "e590d7f6",
   "metadata": {},
   "outputs": [],
   "source": []
  },
  {
   "cell_type": "code",
   "execution_count": null,
   "id": "522ea2d5",
   "metadata": {},
   "outputs": [],
   "source": []
  },
  {
   "cell_type": "code",
   "execution_count": null,
   "id": "ff85f37d",
   "metadata": {},
   "outputs": [],
   "source": []
  },
  {
   "cell_type": "code",
   "execution_count": null,
   "id": "4c94e7c6",
   "metadata": {},
   "outputs": [],
   "source": []
  },
  {
   "cell_type": "code",
   "execution_count": null,
   "id": "9479b6c4",
   "metadata": {},
   "outputs": [],
   "source": []
  },
  {
   "cell_type": "code",
   "execution_count": null,
   "id": "dff67178",
   "metadata": {},
   "outputs": [],
   "source": []
  },
  {
   "cell_type": "code",
   "execution_count": null,
   "id": "52f23b53",
   "metadata": {},
   "outputs": [],
   "source": []
  },
  {
   "cell_type": "code",
   "execution_count": null,
   "id": "08da10f6",
   "metadata": {},
   "outputs": [],
   "source": []
  },
  {
   "cell_type": "code",
   "execution_count": null,
   "id": "c45922d0",
   "metadata": {},
   "outputs": [],
   "source": []
  },
  {
   "cell_type": "code",
   "execution_count": null,
   "id": "3a4cbd81",
   "metadata": {},
   "outputs": [],
   "source": []
  },
  {
   "cell_type": "code",
   "execution_count": null,
   "id": "60c5f903",
   "metadata": {},
   "outputs": [],
   "source": []
  },
  {
   "cell_type": "code",
   "execution_count": null,
   "id": "a651e8fd",
   "metadata": {},
   "outputs": [],
   "source": []
  },
  {
   "cell_type": "code",
   "execution_count": null,
   "id": "3df401d8",
   "metadata": {},
   "outputs": [],
   "source": []
  },
  {
   "cell_type": "code",
   "execution_count": null,
   "id": "2ae35ff7",
   "metadata": {},
   "outputs": [],
   "source": []
  },
  {
   "cell_type": "code",
   "execution_count": null,
   "id": "6f84420a",
   "metadata": {},
   "outputs": [],
   "source": []
  },
  {
   "cell_type": "code",
   "execution_count": null,
   "id": "cef49b02",
   "metadata": {},
   "outputs": [],
   "source": []
  },
  {
   "cell_type": "code",
   "execution_count": null,
   "id": "fd9dd1a2",
   "metadata": {},
   "outputs": [],
   "source": []
  },
  {
   "cell_type": "code",
   "execution_count": null,
   "id": "a9de478f",
   "metadata": {},
   "outputs": [],
   "source": []
  },
  {
   "cell_type": "code",
   "execution_count": null,
   "id": "6e46f72c",
   "metadata": {},
   "outputs": [],
   "source": []
  }
 ],
 "metadata": {
  "kernelspec": {
   "display_name": "Python 3 (ipykernel)",
   "language": "python",
   "name": "python3"
  },
  "language_info": {
   "codemirror_mode": {
    "name": "ipython",
    "version": 3
   },
   "file_extension": ".py",
   "mimetype": "text/x-python",
   "name": "python",
   "nbconvert_exporter": "python",
   "pygments_lexer": "ipython3",
   "version": "3.10.7"
  }
 },
 "nbformat": 4,
 "nbformat_minor": 5
}
